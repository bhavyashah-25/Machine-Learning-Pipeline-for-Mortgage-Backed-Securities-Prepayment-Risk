{
 "cells": [
  {
   "cell_type": "markdown",
   "id": "384de0a1",
   "metadata": {},
   "source": [
    "# Machine Learning Pipeline for Mortgage Backed Securities Prepayment Risk"
   ]
  },
  {
   "cell_type": "markdown",
   "id": "fce15b72",
   "metadata": {},
   "source": [
    "## The LoanExport data consists of 291451 rows and 28 columns. The columns of the dataset are explained below:\n",
    "\n",
    "### 0   CreditScore :                     Credit score of the client \n",
    "###  1   FirstPaymentDate  :         First payment date of the customer\n",
    "###  2   FirstTimeHomebuyer :     If the customer is first time home buyer \n",
    "###  3   MaturityDate   :                 Maturity date of the customer \n",
    "###  4   MSA  :                                Mortgage security amount\n",
    "###  5   MIP   :                                Mortgage insurance percentage  \n",
    "###  6   Units  :            Number of units  \n",
    "###  7   Occupancy  :        Occupancy status at the time the loan\n",
    "###  8   OCLTV  :            Original Combined Loan-to-Value \n",
    "###  9   DTI  :              Debt to income ratio \n",
    "###  10  OrigUPB  :          Original unpaid principal balance\n",
    "###  11  LTV   :          Loan-to-Value \n",
    "###  12  OrigInterestRate :   Original interest rate\n",
    "###  13  Channel  :           The origination channel used by the party\n",
    "###  14  PPM  :               Prepayment penalty mortgage\n",
    "###  15  ProductType  :       Type of product \n",
    "###  16  PropertyState  :     State in which the property is located \n",
    "###  17  PropertyType :       Property type \n",
    "###  18  PostalCode  :        Postal code of the property\n",
    "###  19  LoanSeqNum  :        Loan number\n",
    "###  20  LoanPurpose   :      Purpose of the loan\n",
    "###  21  OrigLoanTerm  :      Original term of the loan \n",
    "###  22  NumBorrowers :       Number of borrowers \n",
    "###  23  SellerName  :        Name of seller\n",
    "###  24  ServicerName  :      Name of the service used\n",
    "###  25  EverDelinquent  :    If the loan was ever delinquent  \n",
    "###  26  MonthsDelinquent  :  Months of delinquent  \n",
    "###  27  MonthsInRepayment :  Months in repayment"
   ]
  },
  {
   "cell_type": "markdown",
   "id": "8373523d",
   "metadata": {},
   "source": [
    "## Importing libraries and data. We will do basic analysis of data."
   ]
  },
  {
   "cell_type": "code",
   "execution_count": 1,
   "id": "f7f7280d",
   "metadata": {},
   "outputs": [],
   "source": [
    "#Importing required libraries\n",
    "\n",
    "import numpy as np\n",
    "import pandas as pd\n",
    "import seaborn as sns\n",
    "import matplotlib.pyplot as plt\n",
    "import datetime\n",
    "from datetime import datetime\n",
    "import xlrd\n",
    "#warning hadle\n",
    "import warnings# warning filter\n",
    "warnings.filterwarnings(\"always\")\n",
    "warnings.filterwarnings(\"ignore\")"
   ]
  },
  {
   "cell_type": "code",
   "execution_count": 2,
   "id": "f6055ec4",
   "metadata": {},
   "outputs": [],
   "source": [
    "#Read files:\n",
    "data = pd.read_csv(\"LoanExport.csv\", header= 0)\n",
    "pd.set_option('display.max_columns', None)"
   ]
  },
  {
   "cell_type": "code",
   "execution_count": 3,
   "id": "41cdb9aa",
   "metadata": {},
   "outputs": [
    {
     "data": {
      "text/html": [
       "<div>\n",
       "<style scoped>\n",
       "    .dataframe tbody tr th:only-of-type {\n",
       "        vertical-align: middle;\n",
       "    }\n",
       "\n",
       "    .dataframe tbody tr th {\n",
       "        vertical-align: top;\n",
       "    }\n",
       "\n",
       "    .dataframe thead th {\n",
       "        text-align: right;\n",
       "    }\n",
       "</style>\n",
       "<table border=\"1\" class=\"dataframe\">\n",
       "  <thead>\n",
       "    <tr style=\"text-align: right;\">\n",
       "      <th></th>\n",
       "      <th>CreditScore</th>\n",
       "      <th>FirstPaymentDate</th>\n",
       "      <th>FirstTimeHomebuyer</th>\n",
       "      <th>MaturityDate</th>\n",
       "      <th>MSA</th>\n",
       "      <th>MIP</th>\n",
       "      <th>Units</th>\n",
       "      <th>Occupancy</th>\n",
       "      <th>OCLTV</th>\n",
       "      <th>DTI</th>\n",
       "      <th>OrigUPB</th>\n",
       "      <th>LTV</th>\n",
       "      <th>OrigInterestRate</th>\n",
       "      <th>Channel</th>\n",
       "      <th>PPM</th>\n",
       "      <th>ProductType</th>\n",
       "      <th>PropertyState</th>\n",
       "      <th>PropertyType</th>\n",
       "      <th>PostalCode</th>\n",
       "      <th>LoanSeqNum</th>\n",
       "      <th>LoanPurpose</th>\n",
       "      <th>OrigLoanTerm</th>\n",
       "      <th>NumBorrowers</th>\n",
       "      <th>SellerName</th>\n",
       "      <th>ServicerName</th>\n",
       "      <th>EverDelinquent</th>\n",
       "      <th>MonthsDelinquent</th>\n",
       "      <th>MonthsInRepayment</th>\n",
       "    </tr>\n",
       "  </thead>\n",
       "  <tbody>\n",
       "    <tr>\n",
       "      <th>0</th>\n",
       "      <td>0</td>\n",
       "      <td>199902</td>\n",
       "      <td>N</td>\n",
       "      <td>202901</td>\n",
       "      <td>16974</td>\n",
       "      <td>25</td>\n",
       "      <td>1</td>\n",
       "      <td>O</td>\n",
       "      <td>89</td>\n",
       "      <td>27</td>\n",
       "      <td>117000</td>\n",
       "      <td>89</td>\n",
       "      <td>6.750</td>\n",
       "      <td>T</td>\n",
       "      <td>N</td>\n",
       "      <td>FRM</td>\n",
       "      <td>IL</td>\n",
       "      <td>SF</td>\n",
       "      <td>60400</td>\n",
       "      <td>F199Q1268030</td>\n",
       "      <td>P</td>\n",
       "      <td>360</td>\n",
       "      <td>2</td>\n",
       "      <td>FL</td>\n",
       "      <td>WASHINGTONMUTUALBANK</td>\n",
       "      <td>0</td>\n",
       "      <td>0</td>\n",
       "      <td>52</td>\n",
       "    </tr>\n",
       "    <tr>\n",
       "      <th>1</th>\n",
       "      <td>0</td>\n",
       "      <td>199902</td>\n",
       "      <td>N</td>\n",
       "      <td>202901</td>\n",
       "      <td>19740</td>\n",
       "      <td>0</td>\n",
       "      <td>1</td>\n",
       "      <td>O</td>\n",
       "      <td>73</td>\n",
       "      <td>17</td>\n",
       "      <td>109000</td>\n",
       "      <td>73</td>\n",
       "      <td>6.500</td>\n",
       "      <td>R</td>\n",
       "      <td>N</td>\n",
       "      <td>FRM</td>\n",
       "      <td>CO</td>\n",
       "      <td>SF</td>\n",
       "      <td>80200</td>\n",
       "      <td>F199Q1015092</td>\n",
       "      <td>N</td>\n",
       "      <td>360</td>\n",
       "      <td>1</td>\n",
       "      <td>FT</td>\n",
       "      <td>CHASEHOMEFINANCELLC</td>\n",
       "      <td>0</td>\n",
       "      <td>0</td>\n",
       "      <td>144</td>\n",
       "    </tr>\n",
       "    <tr>\n",
       "      <th>2</th>\n",
       "      <td>0</td>\n",
       "      <td>199902</td>\n",
       "      <td>N</td>\n",
       "      <td>202901</td>\n",
       "      <td>29940</td>\n",
       "      <td>0</td>\n",
       "      <td>1</td>\n",
       "      <td>O</td>\n",
       "      <td>75</td>\n",
       "      <td>16</td>\n",
       "      <td>88000</td>\n",
       "      <td>75</td>\n",
       "      <td>6.875</td>\n",
       "      <td>T</td>\n",
       "      <td>N</td>\n",
       "      <td>FRM</td>\n",
       "      <td>KS</td>\n",
       "      <td>SF</td>\n",
       "      <td>66000</td>\n",
       "      <td>F199Q1266886</td>\n",
       "      <td>N</td>\n",
       "      <td>360</td>\n",
       "      <td>2</td>\n",
       "      <td>FL</td>\n",
       "      <td>WASHINGTONMUTUALBANK</td>\n",
       "      <td>0</td>\n",
       "      <td>0</td>\n",
       "      <td>67</td>\n",
       "    </tr>\n",
       "    <tr>\n",
       "      <th>3</th>\n",
       "      <td>0</td>\n",
       "      <td>199902</td>\n",
       "      <td>N</td>\n",
       "      <td>202901</td>\n",
       "      <td>31084</td>\n",
       "      <td>0</td>\n",
       "      <td>1</td>\n",
       "      <td>O</td>\n",
       "      <td>76</td>\n",
       "      <td>14</td>\n",
       "      <td>160000</td>\n",
       "      <td>76</td>\n",
       "      <td>6.875</td>\n",
       "      <td>R</td>\n",
       "      <td>N</td>\n",
       "      <td>FRM</td>\n",
       "      <td>CA</td>\n",
       "      <td>SF</td>\n",
       "      <td>90700</td>\n",
       "      <td>F199Q1178167</td>\n",
       "      <td>N</td>\n",
       "      <td>360</td>\n",
       "      <td>2</td>\n",
       "      <td>GM</td>\n",
       "      <td>GMACMTGECORP</td>\n",
       "      <td>0</td>\n",
       "      <td>0</td>\n",
       "      <td>35</td>\n",
       "    </tr>\n",
       "    <tr>\n",
       "      <th>4</th>\n",
       "      <td>0</td>\n",
       "      <td>199902</td>\n",
       "      <td>N</td>\n",
       "      <td>202901</td>\n",
       "      <td>35644</td>\n",
       "      <td>0</td>\n",
       "      <td>1</td>\n",
       "      <td>O</td>\n",
       "      <td>78</td>\n",
       "      <td>18</td>\n",
       "      <td>109000</td>\n",
       "      <td>78</td>\n",
       "      <td>7.125</td>\n",
       "      <td>R</td>\n",
       "      <td>N</td>\n",
       "      <td>FRM</td>\n",
       "      <td>NJ</td>\n",
       "      <td>SF</td>\n",
       "      <td>7600</td>\n",
       "      <td>F199Q1178517</td>\n",
       "      <td>N</td>\n",
       "      <td>360</td>\n",
       "      <td>2</td>\n",
       "      <td>GM</td>\n",
       "      <td>GMACMTGECORP</td>\n",
       "      <td>0</td>\n",
       "      <td>0</td>\n",
       "      <td>54</td>\n",
       "    </tr>\n",
       "  </tbody>\n",
       "</table>\n",
       "</div>"
      ],
      "text/plain": [
       "   CreditScore  FirstPaymentDate FirstTimeHomebuyer  MaturityDate    MSA  MIP  \\\n",
       "0            0            199902                  N        202901  16974   25   \n",
       "1            0            199902                  N        202901  19740    0   \n",
       "2            0            199902                  N        202901  29940    0   \n",
       "3            0            199902                  N        202901  31084    0   \n",
       "4            0            199902                  N        202901  35644    0   \n",
       "\n",
       "   Units Occupancy  OCLTV  DTI  OrigUPB  LTV  OrigInterestRate Channel PPM  \\\n",
       "0      1         O     89   27   117000   89             6.750       T   N   \n",
       "1      1         O     73   17   109000   73             6.500       R   N   \n",
       "2      1         O     75   16    88000   75             6.875       T   N   \n",
       "3      1         O     76   14   160000   76             6.875       R   N   \n",
       "4      1         O     78   18   109000   78             7.125       R   N   \n",
       "\n",
       "  ProductType PropertyState PropertyType PostalCode    LoanSeqNum LoanPurpose  \\\n",
       "0       FRM              IL           SF      60400  F199Q1268030           P   \n",
       "1       FRM              CO           SF      80200  F199Q1015092           N   \n",
       "2       FRM              KS           SF      66000  F199Q1266886           N   \n",
       "3       FRM              CA           SF      90700  F199Q1178167           N   \n",
       "4       FRM              NJ           SF       7600  F199Q1178517           N   \n",
       "\n",
       "   OrigLoanTerm NumBorrowers SellerName          ServicerName  EverDelinquent  \\\n",
       "0           360            2         FL  WASHINGTONMUTUALBANK               0   \n",
       "1           360            1         FT  CHASEHOMEFINANCELLC                0   \n",
       "2           360            2         FL  WASHINGTONMUTUALBANK               0   \n",
       "3           360            2         GM  GMACMTGECORP                       0   \n",
       "4           360            2         GM  GMACMTGECORP                       0   \n",
       "\n",
       "   MonthsDelinquent  MonthsInRepayment  \n",
       "0                 0                 52  \n",
       "1                 0                144  \n",
       "2                 0                 67  \n",
       "3                 0                 35  \n",
       "4                 0                 54  "
      ]
     },
     "execution_count": 3,
     "metadata": {},
     "output_type": "execute_result"
    }
   ],
   "source": [
    "data.head()"
   ]
  },
  {
   "cell_type": "code",
   "execution_count": 4,
   "id": "9f0b1e32",
   "metadata": {},
   "outputs": [
    {
     "data": {
      "text/plain": [
       "(291451, 28)"
      ]
     },
     "execution_count": 4,
     "metadata": {},
     "output_type": "execute_result"
    }
   ],
   "source": [
    "data.shape"
   ]
  },
  {
   "cell_type": "code",
   "execution_count": 5,
   "id": "41ccb720",
   "metadata": {},
   "outputs": [
    {
     "data": {
      "text/html": [
       "<div>\n",
       "<style scoped>\n",
       "    .dataframe tbody tr th:only-of-type {\n",
       "        vertical-align: middle;\n",
       "    }\n",
       "\n",
       "    .dataframe tbody tr th {\n",
       "        vertical-align: top;\n",
       "    }\n",
       "\n",
       "    .dataframe thead th {\n",
       "        text-align: right;\n",
       "    }\n",
       "</style>\n",
       "<table border=\"1\" class=\"dataframe\">\n",
       "  <thead>\n",
       "    <tr style=\"text-align: right;\">\n",
       "      <th></th>\n",
       "      <th>CreditScore</th>\n",
       "      <th>FirstPaymentDate</th>\n",
       "      <th>FirstTimeHomebuyer</th>\n",
       "      <th>MaturityDate</th>\n",
       "      <th>MSA</th>\n",
       "      <th>MIP</th>\n",
       "      <th>Units</th>\n",
       "      <th>Occupancy</th>\n",
       "      <th>OCLTV</th>\n",
       "      <th>DTI</th>\n",
       "      <th>OrigUPB</th>\n",
       "      <th>LTV</th>\n",
       "      <th>OrigInterestRate</th>\n",
       "      <th>Channel</th>\n",
       "      <th>PPM</th>\n",
       "      <th>ProductType</th>\n",
       "      <th>PropertyState</th>\n",
       "      <th>PropertyType</th>\n",
       "      <th>PostalCode</th>\n",
       "      <th>LoanSeqNum</th>\n",
       "      <th>LoanPurpose</th>\n",
       "      <th>OrigLoanTerm</th>\n",
       "      <th>NumBorrowers</th>\n",
       "      <th>SellerName</th>\n",
       "      <th>ServicerName</th>\n",
       "      <th>EverDelinquent</th>\n",
       "      <th>MonthsDelinquent</th>\n",
       "      <th>MonthsInRepayment</th>\n",
       "    </tr>\n",
       "  </thead>\n",
       "  <tbody>\n",
       "    <tr>\n",
       "      <th>count</th>\n",
       "      <td>291451.000000</td>\n",
       "      <td>291451.000000</td>\n",
       "      <td>291451</td>\n",
       "      <td>291451.000000</td>\n",
       "      <td>291451</td>\n",
       "      <td>291451.000000</td>\n",
       "      <td>291451.000000</td>\n",
       "      <td>291451</td>\n",
       "      <td>291451.000000</td>\n",
       "      <td>291451.000000</td>\n",
       "      <td>291451.000000</td>\n",
       "      <td>291451.000000</td>\n",
       "      <td>291451.000000</td>\n",
       "      <td>291451</td>\n",
       "      <td>291451</td>\n",
       "      <td>291451</td>\n",
       "      <td>291451</td>\n",
       "      <td>291451</td>\n",
       "      <td>291451</td>\n",
       "      <td>291451</td>\n",
       "      <td>291451</td>\n",
       "      <td>291451.000000</td>\n",
       "      <td>291451</td>\n",
       "      <td>266457</td>\n",
       "      <td>291451</td>\n",
       "      <td>291451.000000</td>\n",
       "      <td>291451.000000</td>\n",
       "      <td>291451.000000</td>\n",
       "    </tr>\n",
       "    <tr>\n",
       "      <th>unique</th>\n",
       "      <td>NaN</td>\n",
       "      <td>NaN</td>\n",
       "      <td>3</td>\n",
       "      <td>NaN</td>\n",
       "      <td>392</td>\n",
       "      <td>NaN</td>\n",
       "      <td>NaN</td>\n",
       "      <td>3</td>\n",
       "      <td>NaN</td>\n",
       "      <td>NaN</td>\n",
       "      <td>NaN</td>\n",
       "      <td>NaN</td>\n",
       "      <td>NaN</td>\n",
       "      <td>4</td>\n",
       "      <td>3</td>\n",
       "      <td>1</td>\n",
       "      <td>53</td>\n",
       "      <td>7</td>\n",
       "      <td>1767</td>\n",
       "      <td>291451</td>\n",
       "      <td>3</td>\n",
       "      <td>NaN</td>\n",
       "      <td>3</td>\n",
       "      <td>20</td>\n",
       "      <td>20</td>\n",
       "      <td>NaN</td>\n",
       "      <td>NaN</td>\n",
       "      <td>NaN</td>\n",
       "    </tr>\n",
       "    <tr>\n",
       "      <th>top</th>\n",
       "      <td>NaN</td>\n",
       "      <td>NaN</td>\n",
       "      <td>N</td>\n",
       "      <td>NaN</td>\n",
       "      <td>X</td>\n",
       "      <td>NaN</td>\n",
       "      <td>NaN</td>\n",
       "      <td>O</td>\n",
       "      <td>NaN</td>\n",
       "      <td>NaN</td>\n",
       "      <td>NaN</td>\n",
       "      <td>NaN</td>\n",
       "      <td>NaN</td>\n",
       "      <td>T</td>\n",
       "      <td>N</td>\n",
       "      <td>FRM</td>\n",
       "      <td>CA</td>\n",
       "      <td>SF</td>\n",
       "      <td>94500</td>\n",
       "      <td>F199Q1268030</td>\n",
       "      <td>P</td>\n",
       "      <td>NaN</td>\n",
       "      <td>2</td>\n",
       "      <td>Ot</td>\n",
       "      <td>Other servicers</td>\n",
       "      <td>NaN</td>\n",
       "      <td>NaN</td>\n",
       "      <td>NaN</td>\n",
       "    </tr>\n",
       "    <tr>\n",
       "      <th>freq</th>\n",
       "      <td>NaN</td>\n",
       "      <td>NaN</td>\n",
       "      <td>184154</td>\n",
       "      <td>NaN</td>\n",
       "      <td>39100</td>\n",
       "      <td>NaN</td>\n",
       "      <td>NaN</td>\n",
       "      <td>276131</td>\n",
       "      <td>NaN</td>\n",
       "      <td>NaN</td>\n",
       "      <td>NaN</td>\n",
       "      <td>NaN</td>\n",
       "      <td>NaN</td>\n",
       "      <td>167670</td>\n",
       "      <td>282125</td>\n",
       "      <td>291451</td>\n",
       "      <td>43327</td>\n",
       "      <td>244923</td>\n",
       "      <td>2582</td>\n",
       "      <td>1</td>\n",
       "      <td>123404</td>\n",
       "      <td>NaN</td>\n",
       "      <td>187335</td>\n",
       "      <td>76943</td>\n",
       "      <td>64043</td>\n",
       "      <td>NaN</td>\n",
       "      <td>NaN</td>\n",
       "      <td>NaN</td>\n",
       "    </tr>\n",
       "    <tr>\n",
       "      <th>mean</th>\n",
       "      <td>708.936991</td>\n",
       "      <td>199904.760553</td>\n",
       "      <td>NaN</td>\n",
       "      <td>202902.367043</td>\n",
       "      <td>NaN</td>\n",
       "      <td>9.216685</td>\n",
       "      <td>1.026022</td>\n",
       "      <td>NaN</td>\n",
       "      <td>76.960529</td>\n",
       "      <td>30.033453</td>\n",
       "      <td>124940.387921</td>\n",
       "      <td>76.937986</td>\n",
       "      <td>6.926547</td>\n",
       "      <td>NaN</td>\n",
       "      <td>NaN</td>\n",
       "      <td>NaN</td>\n",
       "      <td>NaN</td>\n",
       "      <td>NaN</td>\n",
       "      <td>NaN</td>\n",
       "      <td>NaN</td>\n",
       "      <td>NaN</td>\n",
       "      <td>359.835375</td>\n",
       "      <td>NaN</td>\n",
       "      <td>NaN</td>\n",
       "      <td>NaN</td>\n",
       "      <td>0.197848</td>\n",
       "      <td>1.837729</td>\n",
       "      <td>60.805291</td>\n",
       "    </tr>\n",
       "    <tr>\n",
       "      <th>std</th>\n",
       "      <td>68.408791</td>\n",
       "      <td>13.821228</td>\n",
       "      <td>NaN</td>\n",
       "      <td>16.090508</td>\n",
       "      <td>NaN</td>\n",
       "      <td>12.648273</td>\n",
       "      <td>0.202986</td>\n",
       "      <td>NaN</td>\n",
       "      <td>15.236154</td>\n",
       "      <td>13.203974</td>\n",
       "      <td>53657.440624</td>\n",
       "      <td>15.225298</td>\n",
       "      <td>0.343541</td>\n",
       "      <td>NaN</td>\n",
       "      <td>NaN</td>\n",
       "      <td>NaN</td>\n",
       "      <td>NaN</td>\n",
       "      <td>NaN</td>\n",
       "      <td>NaN</td>\n",
       "      <td>NaN</td>\n",
       "      <td>NaN</td>\n",
       "      <td>2.286939</td>\n",
       "      <td>NaN</td>\n",
       "      <td>NaN</td>\n",
       "      <td>NaN</td>\n",
       "      <td>0.398378</td>\n",
       "      <td>8.809392</td>\n",
       "      <td>46.142599</td>\n",
       "    </tr>\n",
       "    <tr>\n",
       "      <th>min</th>\n",
       "      <td>0.000000</td>\n",
       "      <td>199901.000000</td>\n",
       "      <td>NaN</td>\n",
       "      <td>202402.000000</td>\n",
       "      <td>NaN</td>\n",
       "      <td>0.000000</td>\n",
       "      <td>0.000000</td>\n",
       "      <td>NaN</td>\n",
       "      <td>0.000000</td>\n",
       "      <td>0.000000</td>\n",
       "      <td>8000.000000</td>\n",
       "      <td>0.000000</td>\n",
       "      <td>4.000000</td>\n",
       "      <td>NaN</td>\n",
       "      <td>NaN</td>\n",
       "      <td>NaN</td>\n",
       "      <td>NaN</td>\n",
       "      <td>NaN</td>\n",
       "      <td>NaN</td>\n",
       "      <td>NaN</td>\n",
       "      <td>NaN</td>\n",
       "      <td>301.000000</td>\n",
       "      <td>NaN</td>\n",
       "      <td>NaN</td>\n",
       "      <td>NaN</td>\n",
       "      <td>0.000000</td>\n",
       "      <td>0.000000</td>\n",
       "      <td>1.000000</td>\n",
       "    </tr>\n",
       "    <tr>\n",
       "      <th>25%</th>\n",
       "      <td>675.000000</td>\n",
       "      <td>199903.000000</td>\n",
       "      <td>NaN</td>\n",
       "      <td>202902.000000</td>\n",
       "      <td>NaN</td>\n",
       "      <td>0.000000</td>\n",
       "      <td>1.000000</td>\n",
       "      <td>NaN</td>\n",
       "      <td>70.000000</td>\n",
       "      <td>22.000000</td>\n",
       "      <td>83000.000000</td>\n",
       "      <td>70.000000</td>\n",
       "      <td>6.750000</td>\n",
       "      <td>NaN</td>\n",
       "      <td>NaN</td>\n",
       "      <td>NaN</td>\n",
       "      <td>NaN</td>\n",
       "      <td>NaN</td>\n",
       "      <td>NaN</td>\n",
       "      <td>NaN</td>\n",
       "      <td>NaN</td>\n",
       "      <td>360.000000</td>\n",
       "      <td>NaN</td>\n",
       "      <td>NaN</td>\n",
       "      <td>NaN</td>\n",
       "      <td>0.000000</td>\n",
       "      <td>0.000000</td>\n",
       "      <td>34.000000</td>\n",
       "    </tr>\n",
       "    <tr>\n",
       "      <th>50%</th>\n",
       "      <td>717.000000</td>\n",
       "      <td>199904.000000</td>\n",
       "      <td>NaN</td>\n",
       "      <td>202903.000000</td>\n",
       "      <td>NaN</td>\n",
       "      <td>0.000000</td>\n",
       "      <td>1.000000</td>\n",
       "      <td>NaN</td>\n",
       "      <td>80.000000</td>\n",
       "      <td>31.000000</td>\n",
       "      <td>117000.000000</td>\n",
       "      <td>80.000000</td>\n",
       "      <td>6.875000</td>\n",
       "      <td>NaN</td>\n",
       "      <td>NaN</td>\n",
       "      <td>NaN</td>\n",
       "      <td>NaN</td>\n",
       "      <td>NaN</td>\n",
       "      <td>NaN</td>\n",
       "      <td>NaN</td>\n",
       "      <td>NaN</td>\n",
       "      <td>360.000000</td>\n",
       "      <td>NaN</td>\n",
       "      <td>NaN</td>\n",
       "      <td>NaN</td>\n",
       "      <td>0.000000</td>\n",
       "      <td>0.000000</td>\n",
       "      <td>48.000000</td>\n",
       "    </tr>\n",
       "    <tr>\n",
       "      <th>75%</th>\n",
       "      <td>753.000000</td>\n",
       "      <td>199905.000000</td>\n",
       "      <td>NaN</td>\n",
       "      <td>202904.000000</td>\n",
       "      <td>NaN</td>\n",
       "      <td>25.000000</td>\n",
       "      <td>1.000000</td>\n",
       "      <td>NaN</td>\n",
       "      <td>90.000000</td>\n",
       "      <td>39.000000</td>\n",
       "      <td>160000.000000</td>\n",
       "      <td>90.000000</td>\n",
       "      <td>7.125000</td>\n",
       "      <td>NaN</td>\n",
       "      <td>NaN</td>\n",
       "      <td>NaN</td>\n",
       "      <td>NaN</td>\n",
       "      <td>NaN</td>\n",
       "      <td>NaN</td>\n",
       "      <td>NaN</td>\n",
       "      <td>NaN</td>\n",
       "      <td>360.000000</td>\n",
       "      <td>NaN</td>\n",
       "      <td>NaN</td>\n",
       "      <td>NaN</td>\n",
       "      <td>0.000000</td>\n",
       "      <td>0.000000</td>\n",
       "      <td>63.000000</td>\n",
       "    </tr>\n",
       "    <tr>\n",
       "      <th>max</th>\n",
       "      <td>849.000000</td>\n",
       "      <td>201303.000000</td>\n",
       "      <td>NaN</td>\n",
       "      <td>204302.000000</td>\n",
       "      <td>NaN</td>\n",
       "      <td>55.000000</td>\n",
       "      <td>4.000000</td>\n",
       "      <td>NaN</td>\n",
       "      <td>110.000000</td>\n",
       "      <td>65.000000</td>\n",
       "      <td>497000.000000</td>\n",
       "      <td>103.000000</td>\n",
       "      <td>12.350000</td>\n",
       "      <td>NaN</td>\n",
       "      <td>NaN</td>\n",
       "      <td>NaN</td>\n",
       "      <td>NaN</td>\n",
       "      <td>NaN</td>\n",
       "      <td>NaN</td>\n",
       "      <td>NaN</td>\n",
       "      <td>NaN</td>\n",
       "      <td>361.000000</td>\n",
       "      <td>NaN</td>\n",
       "      <td>NaN</td>\n",
       "      <td>NaN</td>\n",
       "      <td>1.000000</td>\n",
       "      <td>180.000000</td>\n",
       "      <td>212.000000</td>\n",
       "    </tr>\n",
       "  </tbody>\n",
       "</table>\n",
       "</div>"
      ],
      "text/plain": [
       "          CreditScore  FirstPaymentDate FirstTimeHomebuyer   MaturityDate  \\\n",
       "count   291451.000000     291451.000000             291451  291451.000000   \n",
       "unique            NaN               NaN                  3            NaN   \n",
       "top               NaN               NaN                  N            NaN   \n",
       "freq              NaN               NaN             184154            NaN   \n",
       "mean       708.936991     199904.760553                NaN  202902.367043   \n",
       "std         68.408791         13.821228                NaN      16.090508   \n",
       "min          0.000000     199901.000000                NaN  202402.000000   \n",
       "25%        675.000000     199903.000000                NaN  202902.000000   \n",
       "50%        717.000000     199904.000000                NaN  202903.000000   \n",
       "75%        753.000000     199905.000000                NaN  202904.000000   \n",
       "max        849.000000     201303.000000                NaN  204302.000000   \n",
       "\n",
       "           MSA            MIP          Units Occupancy          OCLTV  \\\n",
       "count   291451  291451.000000  291451.000000    291451  291451.000000   \n",
       "unique     392            NaN            NaN         3            NaN   \n",
       "top      X                NaN            NaN         O            NaN   \n",
       "freq     39100            NaN            NaN    276131            NaN   \n",
       "mean       NaN       9.216685       1.026022       NaN      76.960529   \n",
       "std        NaN      12.648273       0.202986       NaN      15.236154   \n",
       "min        NaN       0.000000       0.000000       NaN       0.000000   \n",
       "25%        NaN       0.000000       1.000000       NaN      70.000000   \n",
       "50%        NaN       0.000000       1.000000       NaN      80.000000   \n",
       "75%        NaN      25.000000       1.000000       NaN      90.000000   \n",
       "max        NaN      55.000000       4.000000       NaN     110.000000   \n",
       "\n",
       "                  DTI        OrigUPB            LTV  OrigInterestRate Channel  \\\n",
       "count   291451.000000  291451.000000  291451.000000     291451.000000  291451   \n",
       "unique            NaN            NaN            NaN               NaN       4   \n",
       "top               NaN            NaN            NaN               NaN       T   \n",
       "freq              NaN            NaN            NaN               NaN  167670   \n",
       "mean        30.033453  124940.387921      76.937986          6.926547     NaN   \n",
       "std         13.203974   53657.440624      15.225298          0.343541     NaN   \n",
       "min          0.000000    8000.000000       0.000000          4.000000     NaN   \n",
       "25%         22.000000   83000.000000      70.000000          6.750000     NaN   \n",
       "50%         31.000000  117000.000000      80.000000          6.875000     NaN   \n",
       "75%         39.000000  160000.000000      90.000000          7.125000     NaN   \n",
       "max         65.000000  497000.000000     103.000000         12.350000     NaN   \n",
       "\n",
       "           PPM ProductType PropertyState PropertyType PostalCode  \\\n",
       "count   291451      291451        291451       291451     291451   \n",
       "unique       3           1            53            7       1767   \n",
       "top          N       FRM              CA           SF      94500   \n",
       "freq    282125      291451         43327       244923       2582   \n",
       "mean       NaN         NaN           NaN          NaN        NaN   \n",
       "std        NaN         NaN           NaN          NaN        NaN   \n",
       "min        NaN         NaN           NaN          NaN        NaN   \n",
       "25%        NaN         NaN           NaN          NaN        NaN   \n",
       "50%        NaN         NaN           NaN          NaN        NaN   \n",
       "75%        NaN         NaN           NaN          NaN        NaN   \n",
       "max        NaN         NaN           NaN          NaN        NaN   \n",
       "\n",
       "          LoanSeqNum LoanPurpose   OrigLoanTerm NumBorrowers SellerName  \\\n",
       "count         291451      291451  291451.000000       291451     266457   \n",
       "unique        291451           3            NaN            3         20   \n",
       "top     F199Q1268030           P            NaN            2         Ot   \n",
       "freq               1      123404            NaN       187335      76943   \n",
       "mean             NaN         NaN     359.835375          NaN        NaN   \n",
       "std              NaN         NaN       2.286939          NaN        NaN   \n",
       "min              NaN         NaN     301.000000          NaN        NaN   \n",
       "25%              NaN         NaN     360.000000          NaN        NaN   \n",
       "50%              NaN         NaN     360.000000          NaN        NaN   \n",
       "75%              NaN         NaN     360.000000          NaN        NaN   \n",
       "max              NaN         NaN     361.000000          NaN        NaN   \n",
       "\n",
       "                ServicerName  EverDelinquent  MonthsDelinquent  \\\n",
       "count                 291451   291451.000000     291451.000000   \n",
       "unique                    20             NaN               NaN   \n",
       "top     Other servicers                  NaN               NaN   \n",
       "freq                   64043             NaN               NaN   \n",
       "mean                     NaN        0.197848          1.837729   \n",
       "std                      NaN        0.398378          8.809392   \n",
       "min                      NaN        0.000000          0.000000   \n",
       "25%                      NaN        0.000000          0.000000   \n",
       "50%                      NaN        0.000000          0.000000   \n",
       "75%                      NaN        0.000000          0.000000   \n",
       "max                      NaN        1.000000        180.000000   \n",
       "\n",
       "        MonthsInRepayment  \n",
       "count       291451.000000  \n",
       "unique                NaN  \n",
       "top                   NaN  \n",
       "freq                  NaN  \n",
       "mean            60.805291  \n",
       "std             46.142599  \n",
       "min              1.000000  \n",
       "25%             34.000000  \n",
       "50%             48.000000  \n",
       "75%             63.000000  \n",
       "max            212.000000  "
      ]
     },
     "execution_count": 5,
     "metadata": {},
     "output_type": "execute_result"
    }
   ],
   "source": [
    "data.describe(include= \"all\")"
   ]
  },
  {
   "cell_type": "markdown",
   "id": "d64475e1",
   "metadata": {},
   "source": [
    "## There are no duplicates in data, but there are some null values."
   ]
  },
  {
   "cell_type": "code",
   "execution_count": 6,
   "id": "a475740e",
   "metadata": {},
   "outputs": [
    {
     "data": {
      "text/plain": [
       "0"
      ]
     },
     "execution_count": 6,
     "metadata": {},
     "output_type": "execute_result"
    }
   ],
   "source": [
    "# Checking duplicate rows\n",
    "len(data[data.duplicated()])"
   ]
  },
  {
   "cell_type": "code",
   "execution_count": 7,
   "id": "25fb3824",
   "metadata": {},
   "outputs": [
    {
     "name": "stdout",
     "output_type": "stream",
     "text": [
      "<class 'pandas.core.frame.DataFrame'>\n",
      "RangeIndex: 291451 entries, 0 to 291450\n",
      "Data columns (total 28 columns):\n",
      " #   Column              Non-Null Count   Dtype  \n",
      "---  ------              --------------   -----  \n",
      " 0   CreditScore         291451 non-null  int64  \n",
      " 1   FirstPaymentDate    291451 non-null  int64  \n",
      " 2   FirstTimeHomebuyer  291451 non-null  object \n",
      " 3   MaturityDate        291451 non-null  int64  \n",
      " 4   MSA                 291451 non-null  object \n",
      " 5   MIP                 291451 non-null  int64  \n",
      " 6   Units               291451 non-null  int64  \n",
      " 7   Occupancy           291451 non-null  object \n",
      " 8   OCLTV               291451 non-null  int64  \n",
      " 9   DTI                 291451 non-null  int64  \n",
      " 10  OrigUPB             291451 non-null  int64  \n",
      " 11  LTV                 291451 non-null  int64  \n",
      " 12  OrigInterestRate    291451 non-null  float64\n",
      " 13  Channel             291451 non-null  object \n",
      " 14  PPM                 291451 non-null  object \n",
      " 15  ProductType         291451 non-null  object \n",
      " 16  PropertyState       291451 non-null  object \n",
      " 17  PropertyType        291451 non-null  object \n",
      " 18  PostalCode          291451 non-null  object \n",
      " 19  LoanSeqNum          291451 non-null  object \n",
      " 20  LoanPurpose         291451 non-null  object \n",
      " 21  OrigLoanTerm        291451 non-null  int64  \n",
      " 22  NumBorrowers        291451 non-null  object \n",
      " 23  SellerName          266457 non-null  object \n",
      " 24  ServicerName        291451 non-null  object \n",
      " 25  EverDelinquent      291451 non-null  int64  \n",
      " 26  MonthsDelinquent    291451 non-null  int64  \n",
      " 27  MonthsInRepayment   291451 non-null  int64  \n",
      "dtypes: float64(1), int64(13), object(14)\n",
      "memory usage: 62.3+ MB\n"
     ]
    }
   ],
   "source": [
    "data.info()"
   ]
  },
  {
   "cell_type": "code",
   "execution_count": 8,
   "id": "96499fd9",
   "metadata": {},
   "outputs": [
    {
     "data": {
      "text/plain": [
       "CreditScore               0\n",
       "FirstPaymentDate          0\n",
       "FirstTimeHomebuyer        0\n",
       "MaturityDate              0\n",
       "MSA                       0\n",
       "MIP                       0\n",
       "Units                     0\n",
       "Occupancy                 0\n",
       "OCLTV                     0\n",
       "DTI                       0\n",
       "OrigUPB                   0\n",
       "LTV                       0\n",
       "OrigInterestRate          0\n",
       "Channel                   0\n",
       "PPM                       0\n",
       "ProductType               0\n",
       "PropertyState             0\n",
       "PropertyType              0\n",
       "PostalCode                0\n",
       "LoanSeqNum                0\n",
       "LoanPurpose               0\n",
       "OrigLoanTerm              0\n",
       "NumBorrowers              0\n",
       "SellerName            24994\n",
       "ServicerName              0\n",
       "EverDelinquent            0\n",
       "MonthsDelinquent          0\n",
       "MonthsInRepayment         0\n",
       "dtype: int64"
      ]
     },
     "execution_count": 8,
     "metadata": {},
     "output_type": "execute_result"
    }
   ],
   "source": [
    "data.isnull().sum()"
   ]
  },
  {
   "cell_type": "markdown",
   "id": "99bfaee3",
   "metadata": {},
   "source": [
    "## we know that seller type is not an important column for further analysis, so for the time being we can replace missing values as others (O) as we will drop the column later."
   ]
  },
  {
   "cell_type": "code",
   "execution_count": 9,
   "id": "461a9f0b",
   "metadata": {},
   "outputs": [],
   "source": [
    "data['SellerName']=data['SellerName'].replace(np.nan,'O')"
   ]
  },
  {
   "cell_type": "markdown",
   "id": "02723a25",
   "metadata": {},
   "source": [
    "## We will convert the dates in  data into date types"
   ]
  },
  {
   "cell_type": "code",
   "execution_count": 10,
   "id": "2078d501",
   "metadata": {
    "scrolled": true
   },
   "outputs": [
    {
     "name": "stdout",
     "output_type": "stream",
     "text": [
      "       FirstPaymentDate MaturityDate\n",
      "0               01/1999      01/2029\n",
      "1               01/1999      01/2029\n",
      "2               01/1999      01/2029\n",
      "3               01/1999      01/2029\n",
      "4               01/1999      01/2029\n",
      "...                 ...          ...\n",
      "291446          01/1999      01/2029\n",
      "291447          01/2002      01/2029\n",
      "291448          01/2003      01/2029\n",
      "291449          01/1999      01/2029\n",
      "291450          01/1999      01/2029\n",
      "\n",
      "[291451 rows x 2 columns]\n"
     ]
    }
   ],
   "source": [
    "# Convert FirstPaymentDate ' and 'MaturityDate' columns to datetime format\n",
    "data['Year']=pd.to_datetime(data['FirstPaymentDate'], format='%Y%M').dt.strftime('%Y')\n",
    "data['FirstPaymentDate'] = pd.to_datetime(data['FirstPaymentDate'], format='%Y%M').dt.strftime('%m/%Y')\n",
    "data['MaturityDate'] = pd.to_datetime(data['MaturityDate'], format='%Y%M').dt.strftime('%m/%Y')\n",
    "\n",
    "# Verify the changes\n",
    "print(data[['FirstPaymentDate', 'MaturityDate']])"
   ]
  },
  {
   "cell_type": "markdown",
   "id": "e00acfee",
   "metadata": {},
   "source": [
    "## We check for unique values in each column"
   ]
  },
  {
   "cell_type": "code",
   "execution_count": 11,
   "id": "1f1519f4",
   "metadata": {},
   "outputs": [
    {
     "data": {
      "text/plain": [
       "CreditScore           [0, 335, 342, 363, 366, 370, 375, 391, 396, 44...\n",
       "FirstPaymentDate      [01/1999, 01/2000, 01/2001, 01/2002, 01/2003, ...\n",
       "FirstTimeHomebuyer                                            [N, X, Y]\n",
       "MaturityDate          [01/2029, 01/2027, 01/2024, 01/2026, 01/2030, ...\n",
       "MSA                   [16974, 19740, 29940, 31084, 35644, X    , 367...\n",
       "MIP                   [25, 0, 30, 12, 35, 29, 17, 18, 20, 22, 6, 14,...\n",
       "Units                                                   [1, 2, 4, 3, 0]\n",
       "Occupancy                                                     [O, I, S]\n",
       "OCLTV                 [89, 73, 75, 76, 78, 90, 72, 95, 80, 77, 85, 9...\n",
       "DTI                   [27, 17, 16, 14, 18, 40, 21, 20, 38, 19, 23, 4...\n",
       "OrigUPB               [117000, 109000, 88000, 160000, 207000, 111000...\n",
       "LTV                   [89, 73, 75, 76, 78, 90, 72, 95, 80, 77, 85, 9...\n",
       "OrigInterestRate      [6.75, 6.5, 6.875, 7.125, 7.0, 7.25, 6.625, 7....\n",
       "Channel                                                    [T, R, C, B]\n",
       "PPM                                                           [N, X, Y]\n",
       "ProductType                                                     [FRM  ]\n",
       "PropertyState         [IL, CO, KS, CA, NJ, WI, FL, CT, GA, TX, MD, M...\n",
       "PropertyType                               [SF, PU, CO, MH, CP, LH, X ]\n",
       "PostalCode            [60400, 80200, 66000, 90700, 7600, 80400, 5310...\n",
       "LoanSeqNum            [F199Q1268030, F199Q1015092, F199Q1266886, F19...\n",
       "LoanPurpose                                                   [P, N, C]\n",
       "OrigLoanTerm          [360, 345, 306, 335, 322, 327, 329, 358, 355, ...\n",
       "NumBorrowers                                                 [2, 1, X ]\n",
       "SellerName            [FL, FT, GM, Ot, RE, NO, ST, CR, CH, FI, HO, P...\n",
       "ServicerName          [WASHINGTONMUTUALBANK, CHASEHOMEFINANCELLC , G...\n",
       "EverDelinquent                                                   [0, 1]\n",
       "MonthsDelinquent      [0, 3, 104, 5, 23, 32, 1, 2, 4, 20, 10, 34, 35...\n",
       "MonthsInRepayment     [52, 144, 67, 35, 54, 42, 44, 145, 64, 212, 37...\n",
       "Year                   [1999, 2000, 2001, 2002, 2003, 2004, 2011, 2013]\n",
       "dtype: object"
      ]
     },
     "execution_count": 11,
     "metadata": {},
     "output_type": "execute_result"
    }
   ],
   "source": [
    "# check unique values in dataset\n",
    "data.apply(lambda x: (x.unique()))"
   ]
  },
  {
   "cell_type": "markdown",
   "id": "a26c9771",
   "metadata": {},
   "source": [
    "## We can observe that some data are not provided and is marked as X"
   ]
  },
  {
   "cell_type": "code",
   "execution_count": 12,
   "id": "d0f526f4",
   "metadata": {},
   "outputs": [
    {
     "name": "stdout",
     "output_type": "stream",
     "text": [
      "CreditScore               0\n",
      "FirstPaymentDate          0\n",
      "FirstTimeHomebuyer    78015\n",
      "MaturityDate              0\n",
      "MSA                   39100\n",
      "MIP                       0\n",
      "Units                     0\n",
      "Occupancy                 0\n",
      "OCLTV                     0\n",
      "DTI                       0\n",
      "OrigUPB                   0\n",
      "LTV                       0\n",
      "OrigInterestRate          0\n",
      "Channel                   0\n",
      "PPM                    5405\n",
      "ProductType               0\n",
      "PropertyState             0\n",
      "PropertyType             22\n",
      "PostalCode                6\n",
      "LoanSeqNum                0\n",
      "LoanPurpose               0\n",
      "OrigLoanTerm              0\n",
      "NumBorrowers            339\n",
      "SellerName                0\n",
      "ServicerName              0\n",
      "EverDelinquent            0\n",
      "MonthsDelinquent          0\n",
      "MonthsInRepayment         0\n",
      "Year                      0\n",
      "dtype: int64\n"
     ]
    }
   ],
   "source": [
    "count = (data.astype(str).applymap(str.strip) == \"X\").sum()\n",
    "\n",
    "print(count)\n"
   ]
  },
  {
   "cell_type": "markdown",
   "id": "fdf9d4a0",
   "metadata": {},
   "source": [
    "## We will change X values of NumBorrowers by its mode \"2\" and PropertyType by SF"
   ]
  },
  {
   "cell_type": "code",
   "execution_count": 13,
   "id": "4a5d2c08",
   "metadata": {},
   "outputs": [],
   "source": [
    "data.drop(data[data['NumBorrowers'] == 'X '].index, inplace=True)\n"
   ]
  },
  {
   "cell_type": "code",
   "execution_count": 14,
   "id": "3df9e971",
   "metadata": {},
   "outputs": [],
   "source": [
    "data['PropertyType'].replace('X ', 'SF', inplace=True)"
   ]
  },
  {
   "cell_type": "markdown",
   "id": "b4425127",
   "metadata": {},
   "source": [
    "## First we will remove X in the FirstTimeHomebuyer column as it is irrelevant."
   ]
  },
  {
   "cell_type": "code",
   "execution_count": 15,
   "id": "2e638c6d",
   "metadata": {},
   "outputs": [
    {
     "name": "stdout",
     "output_type": "stream",
     "text": [
      "N    183988\n",
      "X     77850\n",
      "Y     29274\n",
      "Name: FirstTimeHomebuyer, dtype: int64\n"
     ]
    }
   ],
   "source": [
    "c= ((data['FirstTimeHomebuyer'].value_counts()))\n",
    "print(c)"
   ]
  },
  {
   "cell_type": "code",
   "execution_count": 16,
   "id": "1ee68de4",
   "metadata": {},
   "outputs": [
    {
     "data": {
      "text/plain": [
       "array(['N', 'Y'], dtype=object)"
      ]
     },
     "execution_count": 16,
     "metadata": {},
     "output_type": "execute_result"
    }
   ],
   "source": [
    "data.drop(data[data['FirstTimeHomebuyer'] == 'X'].index, inplace=True)\n",
    "data['FirstTimeHomebuyer'].unique()"
   ]
  },
  {
   "cell_type": "markdown",
   "id": "82df6ba0",
   "metadata": {},
   "source": [
    "## We do not need column  PostalCode  for further analysis as we can use propertystate instead"
   ]
  },
  {
   "cell_type": "code",
   "execution_count": 17,
   "id": "c55436b6",
   "metadata": {},
   "outputs": [],
   "source": [
    "data.drop(['PostalCode','ProductType','LoanSeqNum'], axis=1, inplace=True)\n"
   ]
  },
  {
   "cell_type": "markdown",
   "id": "b1ecaaa3",
   "metadata": {},
   "source": [
    "## We will delete the rows with X in the columns 'MSA' and 'PPM' to clean data. We cannot use imputation method here as it will affect the integrity of the data."
   ]
  },
  {
   "cell_type": "code",
   "execution_count": 18,
   "id": "3616cb19",
   "metadata": {},
   "outputs": [
    {
     "name": "stdout",
     "output_type": "stream",
     "text": [
      "CreditScore           0\n",
      "FirstPaymentDate      0\n",
      "FirstTimeHomebuyer    0\n",
      "MaturityDate          0\n",
      "MSA                   0\n",
      "MIP                   0\n",
      "Units                 0\n",
      "Occupancy             0\n",
      "OCLTV                 0\n",
      "DTI                   0\n",
      "OrigUPB               0\n",
      "LTV                   0\n",
      "OrigInterestRate      0\n",
      "Channel               0\n",
      "PPM                   0\n",
      "PropertyState         0\n",
      "PropertyType          0\n",
      "LoanPurpose           0\n",
      "OrigLoanTerm          0\n",
      "NumBorrowers          0\n",
      "SellerName            0\n",
      "ServicerName          0\n",
      "EverDelinquent        0\n",
      "MonthsDelinquent      0\n",
      "MonthsInRepayment     0\n",
      "Year                  0\n",
      "dtype: int64\n"
     ]
    }
   ],
   "source": [
    "data = data[(data[['MSA','PPM']].apply(lambda x: x.str.strip()) != 'X').all(axis=1)]\n",
    "count = (data.astype(str).applymap(str.strip) == \"X\").sum()\n",
    "print(count)\n"
   ]
  },
  {
   "cell_type": "markdown",
   "id": "e82094cb",
   "metadata": {},
   "source": [
    "## There are only two rows with date 2011 and 2013. We can remove this as it affects our analysis."
   ]
  },
  {
   "cell_type": "code",
   "execution_count": 19,
   "id": "9de97391",
   "metadata": {},
   "outputs": [],
   "source": [
    "data=data[data['FirstPaymentDate'] < '01/2011']"
   ]
  },
  {
   "cell_type": "code",
   "execution_count": 20,
   "id": "d0e664de",
   "metadata": {},
   "outputs": [
    {
     "data": {
      "text/plain": [
       "(181684, 26)"
      ]
     },
     "execution_count": 20,
     "metadata": {},
     "output_type": "execute_result"
    }
   ],
   "source": [
    "data.shape"
   ]
  },
  {
   "cell_type": "markdown",
   "id": "54a4e4f7",
   "metadata": {},
   "source": [
    "## We will also remove null values"
   ]
  },
  {
   "cell_type": "code",
   "execution_count": 21,
   "id": "beae5fac",
   "metadata": {},
   "outputs": [
    {
     "data": {
      "text/plain": [
       "CreditScore           0\n",
       "FirstPaymentDate      0\n",
       "FirstTimeHomebuyer    0\n",
       "MaturityDate          0\n",
       "MSA                   0\n",
       "MIP                   0\n",
       "Units                 0\n",
       "Occupancy             0\n",
       "OCLTV                 0\n",
       "DTI                   0\n",
       "OrigUPB               0\n",
       "LTV                   0\n",
       "OrigInterestRate      0\n",
       "Channel               0\n",
       "PPM                   0\n",
       "PropertyState         0\n",
       "PropertyType          0\n",
       "LoanPurpose           0\n",
       "OrigLoanTerm          0\n",
       "NumBorrowers          0\n",
       "SellerName            0\n",
       "ServicerName          0\n",
       "EverDelinquent        0\n",
       "MonthsDelinquent      0\n",
       "MonthsInRepayment     0\n",
       "Year                  0\n",
       "dtype: int64"
      ]
     },
     "execution_count": 21,
     "metadata": {},
     "output_type": "execute_result"
    }
   ],
   "source": [
    "data.isnull().sum()"
   ]
  },
  {
   "cell_type": "code",
   "execution_count": 22,
   "id": "4223aba8",
   "metadata": {},
   "outputs": [
    {
     "data": {
      "text/plain": [
       "(181684, 26)"
      ]
     },
     "execution_count": 22,
     "metadata": {},
     "output_type": "execute_result"
    }
   ],
   "source": [
    "data.dropna(inplace=True)\n",
    "\n",
    "data.shape\n"
   ]
  },
  {
   "cell_type": "markdown",
   "id": "adcf3c45",
   "metadata": {},
   "source": [
    "# Exploratory Data Analysis\n",
    "\n",
    "## We set our target variable as EverDelinquent and do our analysis based on that. Before that we will be creating some new columns that will help in our analysis. "
   ]
  },
  {
   "cell_type": "markdown",
   "id": "83eb8a33",
   "metadata": {},
   "source": [
    "## We will create a band for CreditScores. The more the credit scores are the better for the bank.CreditScore contains a 0 which the data definition states is actually 850. Let's convert all 0's to 850"
   ]
  },
  {
   "cell_type": "code",
   "execution_count": 23,
   "id": "9b1d3168",
   "metadata": {},
   "outputs": [
    {
     "data": {
      "text/plain": [
       "array([850, 335, 342, 366, 375, 396, 466, 471, 477, 479, 482, 483, 486,\n",
       "       487, 489, 490, 491, 492, 494, 495, 496, 498, 499, 500, 502, 503,\n",
       "       504, 505, 506, 507, 508, 509, 510, 511, 512, 513, 514, 515, 516,\n",
       "       517, 518, 519, 520, 521, 522, 523, 524, 525, 526, 527, 528, 529,\n",
       "       530, 531, 532, 533, 534, 535, 536, 537, 538, 539, 540, 541, 542,\n",
       "       543, 544, 545, 546, 547, 548, 549, 550, 551, 552, 553, 554, 555,\n",
       "       556, 557, 558, 559, 560, 561, 562, 563, 564, 565, 566, 567, 568,\n",
       "       569, 570, 571, 572, 573, 574, 575, 576, 577, 578, 579, 580, 581,\n",
       "       582, 583, 584, 585, 586, 587, 588, 589, 590, 591, 592, 593, 594,\n",
       "       595, 596, 597, 598, 599, 600, 601, 602, 603, 604, 605, 606, 607,\n",
       "       608, 609, 610, 611, 612, 613, 614, 615, 616, 617, 618, 619, 620,\n",
       "       621, 622, 623, 624, 625, 626, 627, 628, 629, 630, 631, 632, 633,\n",
       "       634, 635, 636, 637, 638, 639, 640, 641, 642, 643, 644, 645, 646,\n",
       "       647, 648, 649, 650, 651, 652, 653, 654, 655, 656, 657, 658, 659,\n",
       "       660, 661, 662, 663, 664, 665, 666, 667, 668, 669, 670, 671, 672,\n",
       "       673, 674, 675, 676, 677, 678, 679, 680, 681, 682, 683, 684, 685,\n",
       "       686, 687, 688, 689, 690, 691, 692, 693, 694, 695, 696, 697, 698,\n",
       "       699, 700, 701, 702, 703, 704, 705, 706, 707, 708, 709, 710, 711,\n",
       "       712, 713, 714, 715, 716, 717, 718, 719, 720, 721, 722, 723, 724,\n",
       "       725, 726, 727, 728, 729, 730, 731, 732, 733, 734, 735, 736, 737,\n",
       "       738, 739, 740, 741, 742, 743, 744, 745, 746, 747, 748, 749, 750,\n",
       "       751, 752, 753, 754, 755, 756, 757, 758, 759, 760, 761, 762, 763,\n",
       "       764, 765, 766, 767, 768, 769, 770, 771, 772, 773, 774, 775, 776,\n",
       "       777, 778, 779, 780, 781, 782, 783, 784, 785, 786, 787, 788, 789,\n",
       "       790, 791, 792, 793, 794, 795, 796, 797, 798, 799, 800, 801, 802,\n",
       "       803, 804, 805, 806, 807, 808, 809, 810, 811, 812, 813, 814, 815,\n",
       "       816, 817, 818, 819, 820, 822, 823, 825, 826, 828, 829, 831, 837,\n",
       "       838, 839, 840, 845, 849], dtype=int64)"
      ]
     },
     "execution_count": 23,
     "metadata": {},
     "output_type": "execute_result"
    }
   ],
   "source": [
    "\n",
    "data['CreditScore'] = np.where(data['CreditScore'] == 0,850 , data['CreditScore'])\n",
    "data.CreditScore.unique()"
   ]
  },
  {
   "cell_type": "code",
   "execution_count": 24,
   "id": "db655f82",
   "metadata": {},
   "outputs": [
    {
     "name": "stdout",
     "output_type": "stream",
     "text": [
      "min 335\n",
      "max 850\n",
      "mean 712.762263050131\n"
     ]
    }
   ],
   "source": [
    "print('min',data['CreditScore'].min())\n",
    "print('max',data['CreditScore'].max())\n",
    "print('mean',data['CreditScore'].mean())"
   ]
  },
  {
   "cell_type": "markdown",
   "id": "308fdaaa",
   "metadata": {},
   "source": [
    "### We made a CreditScoreRange column and found that there is nan value which we removed."
   ]
  },
  {
   "cell_type": "code",
   "execution_count": 25,
   "id": "2e49f0e8",
   "metadata": {},
   "outputs": [],
   "source": [
    "\n",
    "# Create a new column 'CreditScoreRange' by cutting the CreditScore column into bands\n",
    "data['CreditScoreRange'] =  pd.cut(data.CreditScore,[550,650,700,750,1e6],4,labels=[1,2,3,4])"
   ]
  },
  {
   "cell_type": "code",
   "execution_count": 26,
   "id": "e51b107c",
   "metadata": {},
   "outputs": [
    {
     "name": "stdout",
     "output_type": "stream",
     "text": [
      "Is there a Null value in CreditScoreRange? True\n",
      "Dataframe shape: (181684, 27)\n"
     ]
    },
    {
     "data": {
      "text/plain": [
       "3    62051\n",
       "4    49056\n",
       "2    46297\n",
       "1    23846\n",
       "Name: CreditScoreRange, dtype: int64"
      ]
     },
     "execution_count": 26,
     "metadata": {},
     "output_type": "execute_result"
    }
   ],
   "source": [
    "print('Is there a Null value in CreditScoreRange?', data['CreditScoreRange'].isnull().values.any())\n",
    "print('Dataframe shape:',data.shape)\n",
    "data['CreditScoreRange'].value_counts()"
   ]
  },
  {
   "cell_type": "code",
   "execution_count": 27,
   "id": "5208afda",
   "metadata": {},
   "outputs": [
    {
     "name": "stdout",
     "output_type": "stream",
     "text": [
      "Is there a Null value in CreditScoreRange? False\n",
      "Dataframe shape: (181250, 27)\n"
     ]
    },
    {
     "data": {
      "text/plain": [
       "3    62051\n",
       "4    49056\n",
       "2    46297\n",
       "1    23846\n",
       "Name: CreditScoreRange, dtype: int64"
      ]
     },
     "execution_count": 27,
     "metadata": {},
     "output_type": "execute_result"
    }
   ],
   "source": [
    "data = data[data['CreditScoreRange'].notna()]\n",
    "print('Is there a Null value in CreditScoreRange?', data['CreditScoreRange'].isnull().values.any())\n",
    "print('Dataframe shape:',data.shape)\n",
    "data['CreditScoreRange'].value_counts()"
   ]
  },
  {
   "cell_type": "markdown",
   "id": "acde159b",
   "metadata": {},
   "source": [
    "## We will first convert FirstPaymentMonth and MaturityMonth columns and also create a Loan Duration column ."
   ]
  },
  {
   "cell_type": "code",
   "execution_count": 28,
   "id": "fa8f3ce8",
   "metadata": {},
   "outputs": [],
   "source": [
    "data['FirstPaymentMonth'] = pd.to_datetime(data['FirstPaymentDate'], format='%m/%Y').dt.strftime('%m')\n",
    "data['MaturityMonth'] = pd.to_datetime(data['MaturityDate'], format='%m/%Y').dt.strftime('%m')"
   ]
  },
  {
   "cell_type": "code",
   "execution_count": 29,
   "id": "42b53896",
   "metadata": {},
   "outputs": [],
   "source": [
    "data['LoanDuration'] = pd.to_datetime(data['MaturityDate'], format='%m/%Y') - pd.to_datetime(data['FirstPaymentDate'], format='%m/%Y')\n",
    "data['LoanDurationYear'] = (data['LoanDuration'].dt.days // 365 ) \n",
    "\n"
   ]
  },
  {
   "cell_type": "markdown",
   "id": "e9123041",
   "metadata": {},
   "source": [
    "## We will create a band for OrigInterestRate. The ranges  are 'below_6', '6_and_below_8', '8_and_below_10', '10_and_below_12' and '12_and_below_14'."
   ]
  },
  {
   "cell_type": "code",
   "execution_count": 30,
   "id": "76238b25",
   "metadata": {},
   "outputs": [
    {
     "name": "stdout",
     "output_type": "stream",
     "text": [
      "min 4.0\n",
      "max 11.5\n",
      "mean 6.926614311724137\n"
     ]
    }
   ],
   "source": [
    "print('min',data['OrigInterestRate'].min())\n",
    "print('max',data['OrigInterestRate'].max())\n",
    "print('mean',data['OrigInterestRate'].mean())"
   ]
  },
  {
   "cell_type": "code",
   "execution_count": 31,
   "id": "18a8574e",
   "metadata": {},
   "outputs": [],
   "source": [
    "# Define the bins and labels for interest bands\n",
    "bins = [4,  5,  6,  7, 8 , 9, 10, 11, 12, 13]\n",
    "labels = ['below_5', '5_and_below_6', '6_and_below_7', '7_and_below_8','8_and_below_9','9_and_below_10','10_and_below_11','11_and_below_12','above_12']\n",
    "\n",
    "data['OrigInterestRateRange'] = pd.cut(data['OrigInterestRate'], bins=bins, labels=labels, right=False)"
   ]
  },
  {
   "cell_type": "markdown",
   "id": "5967716d",
   "metadata": {},
   "source": [
    "## We found that loan to value ratio OCLTV and LTV have 2 values which is equal to zero, which is mostly likely due to missing value as it cannot be zero, so wqe delete it as there is only 2 rows involved."
   ]
  },
  {
   "cell_type": "code",
   "execution_count": 32,
   "id": "1817f631",
   "metadata": {},
   "outputs": [
    {
     "data": {
      "text/plain": [
       "2"
      ]
     },
     "execution_count": 32,
     "metadata": {},
     "output_type": "execute_result"
    }
   ],
   "source": [
    "(data['OCLTV']==0).sum()"
   ]
  },
  {
   "cell_type": "code",
   "execution_count": 33,
   "id": "55f4df82",
   "metadata": {},
   "outputs": [
    {
     "data": {
      "text/plain": [
       "2"
      ]
     },
     "execution_count": 33,
     "metadata": {},
     "output_type": "execute_result"
    }
   ],
   "source": [
    "(data['LTV']==0).sum()"
   ]
  },
  {
   "cell_type": "code",
   "execution_count": 34,
   "id": "d32417fa",
   "metadata": {},
   "outputs": [],
   "source": [
    "data = data[(data['LTV'] != 0) & (data['OCLTV'] != 0)]\n"
   ]
  },
  {
   "cell_type": "markdown",
   "id": "a1bb2ab7",
   "metadata": {},
   "source": [
    "## We will create a band for LTV. Original calculated loan to value ratio is better to be lesser for the bank, this means that the value of property is more, and if there is delinquency the acquired value of property will be more than mortgage value, which is good for bank"
   ]
  },
  {
   "cell_type": "code",
   "execution_count": 35,
   "id": "f543e2f3",
   "metadata": {},
   "outputs": [
    {
     "name": "stdout",
     "output_type": "stream",
     "text": [
      "min 6\n",
      "max 100\n",
      "mean 78.19311661370057\n"
     ]
    }
   ],
   "source": [
    "print('min',data['LTV'].min())\n",
    "print('max',data['LTV'].max())\n",
    "print('mean',data['LTV'].mean())"
   ]
  },
  {
   "cell_type": "code",
   "execution_count": 36,
   "id": "208078d5",
   "metadata": {},
   "outputs": [],
   "source": [
    "# Define the bins and labels for LTV bands\n",
    "bins = [0, 25, 50, 1000]\n",
    "labels = [1, 2, 3]\n",
    "data['LTVRange'] = pd.cut(data['LTV'], bins=bins, labels=labels)"
   ]
  },
  {
   "cell_type": "code",
   "execution_count": 37,
   "id": "4e6156d3",
   "metadata": {},
   "outputs": [
    {
     "name": "stdout",
     "output_type": "stream",
     "text": [
      "Is there a Null value in LTV? False\n",
      "Dataframe shape: (181248, 33)\n"
     ]
    },
    {
     "data": {
      "text/plain": [
       "3    168889\n",
       "2     11202\n",
       "1      1157\n",
       "Name: LTVRange, dtype: int64"
      ]
     },
     "execution_count": 37,
     "metadata": {},
     "output_type": "execute_result"
    }
   ],
   "source": [
    "print('Is there a Null value in LTV?', data['LTVRange'].isnull().values.any())\n",
    "print('Dataframe shape:',data.shape)\n",
    "data['LTVRange'].value_counts()"
   ]
  },
  {
   "cell_type": "code",
   "execution_count": 38,
   "id": "00938528",
   "metadata": {},
   "outputs": [],
   "source": [
    "#Convert category data into integer\n",
    "data[\"CreditScoreRange\"] = data[\"CreditScoreRange\"].astype(int)\n",
    "data[\"LTVRange\"] = data[\"LTVRange\"].astype(int)"
   ]
  },
  {
   "cell_type": "markdown",
   "id": "5a94309d",
   "metadata": {},
   "source": [
    "## We create a band for MonthsINRepayment"
   ]
  },
  {
   "cell_type": "code",
   "execution_count": 39,
   "id": "790bfef4",
   "metadata": {},
   "outputs": [
    {
     "name": "stdout",
     "output_type": "stream",
     "text": [
      "min 1\n",
      "max 212\n",
      "mean 59.26280014124294\n"
     ]
    }
   ],
   "source": [
    "print('min',data['MonthsInRepayment'].min())\n",
    "print('max',data['MonthsInRepayment'].max())\n",
    "print('mean',data['MonthsInRepayment'].mean())"
   ]
  },
  {
   "cell_type": "code",
   "execution_count": 40,
   "id": "cad6b52d",
   "metadata": {},
   "outputs": [],
   "source": [
    "bins = [0, 48, 96, 144,192,240]\n",
    "labels = ['0-48', '48-96', '96-144','144-192','192-240']\n",
    "data['RepaymentRange'] = pd.cut(data['MonthsInRepayment'], bins=bins, labels=labels)"
   ]
  },
  {
   "cell_type": "markdown",
   "id": "eacdf70d",
   "metadata": {},
   "source": [
    "##  We can plot some univariate plots to further understand our data."
   ]
  },
  {
   "cell_type": "code",
   "execution_count": 41,
   "id": "03b8138b",
   "metadata": {},
   "outputs": [
    {
     "data": {
      "image/png": "[encoded data removed]",
      "text/plain": [
       "<Figure size 1080x504 with 6 Axes>"
      ]
     },
     "metadata": {
      "needs_background": "light"
     },
     "output_type": "display_data"
    }
   ],
   "source": [
    "fig, ax =plt.subplots(2,3,figsize=(15,7))\n",
    "sns.countplot(x=data['Units'], ax=ax[0,0],)\n",
    "sns.countplot(x=data['LoanPurpose'], ax=ax[0,1])\n",
    "sns.countplot(x=data['Occupancy'],ax=ax[0,2])\n",
    "sns.countplot(x=data['EverDelinquent'],ax=ax[1,0])\n",
    "sns.countplot(x=data['FirstTimeHomebuyer'],ax=ax[1,1])\n",
    "sns.countplot(x=data['PPM'],ax=ax[1,2])\n",
    "\n",
    "plt.show()\n",
    "\n"
   ]
  },
  {
   "cell_type": "markdown",
   "id": "760106a2",
   "metadata": {},
   "source": [
    "## We will plot the boxplot and histogram for all numerical variables."
   ]
  },
  {
   "cell_type": "code",
   "execution_count": 42,
   "id": "3c07881e",
   "metadata": {},
   "outputs": [],
   "source": [
    "df_num = data.select_dtypes(include = 'number')"
   ]
  },
  {
   "cell_type": "code",
   "execution_count": 43,
   "id": "52a49e0f",
   "metadata": {},
   "outputs": [
    {
     "data": {
      "image/png": "[encoded data removed]",
      "text/plain": [
       "<Figure size 1296x648 with 1 Axes>"
      ]
     },
     "metadata": {
      "needs_background": "light"
     },
     "output_type": "display_data"
    }
   ],
   "source": [
    "#Boxplot of numerical variables\n",
    "plt.figure(figsize=(18,9))\n",
    "df_num.boxplot()\n",
    "plt.title(\"Numerical variables in dataset\", fontsize=20)\n",
    "plt.show()"
   ]
  },
  {
   "cell_type": "code",
   "execution_count": 44,
   "id": "2842b6c2",
   "metadata": {},
   "outputs": [
    {
     "data": {
      "image/png": "[encoded data removed]",
      "text/plain": [
       "<Figure size 1152x1440 with 16 Axes>"
      ]
     },
     "metadata": {
      "needs_background": "light"
     },
     "output_type": "display_data"
    }
   ],
   "source": [
    "df_num.hist(figsize=(16, 20), bins=50, xlabelsize=8, ylabelsize=8);"
   ]
  },
  {
   "cell_type": "markdown",
   "id": "eda62f3a",
   "metadata": {},
   "source": [
    "## The mean of OrigInerestRate is maximum in the year 2000 followed by 2001 and lowest in 2004. There are a lot of outliers in the year 1999"
   ]
  },
  {
   "cell_type": "code",
   "execution_count": 45,
   "id": "9ba965d9",
   "metadata": {},
   "outputs": [
    {
     "data": {
      "image/png": "[encoded data removed]",
      "text/plain": [
       "<Figure size 432x288 with 1 Axes>"
      ]
     },
     "metadata": {
      "needs_background": "light"
     },
     "output_type": "display_data"
    }
   ],
   "source": [
    "data['Year']= pd.to_datetime(data['FirstPaymentDate'], format='%m/%Y').dt.year # Convert to datetime format\n",
    "sns.boxplot(x=data['Year'], y=data['OrigInterestRate'])\n",
    "plt.show()\n"
   ]
  },
  {
   "cell_type": "markdown",
   "id": "8b054b74",
   "metadata": {},
   "source": [
    "## We checked about the proprty type and its relation with originalInterestRate and Delinquency. There are a lot of outliers."
   ]
  },
  {
   "cell_type": "code",
   "execution_count": 46,
   "id": "04016798",
   "metadata": {},
   "outputs": [
    {
     "data": {
      "image/png": "[encoded data removed]",
      "text/plain": [
       "<Figure size 445.5x360 with 1 Axes>"
      ]
     },
     "metadata": {
      "needs_background": "light"
     },
     "output_type": "display_data"
    }
   ],
   "source": [
    "sns.catplot(x='PropertyType', y='OrigInterestRate', hue='EverDelinquent', data=data, kind='box')\n",
    "plt.show()"
   ]
  },
  {
   "cell_type": "markdown",
   "id": "c15d8adb",
   "metadata": {},
   "source": [
    "## We will do some multivariate analysis to further understand the data."
   ]
  },
  {
   "cell_type": "code",
   "execution_count": 47,
   "id": "52b38562",
   "metadata": {
    "scrolled": true
   },
   "outputs": [
    {
     "data": {
      "image/png": "[encoded data removed]",
      "text/plain": [
       "<Figure size 540x540 with 12 Axes>"
      ]
     },
     "metadata": {
      "needs_background": "light"
     },
     "output_type": "display_data"
    }
   ],
   "source": [
    "# Perform multivariate analysis\n",
    "sns.pairplot(data[['DTI', 'OrigInterestRate',  'OrigUPB']])\n",
    "plt.show()\n"
   ]
  },
  {
   "cell_type": "markdown",
   "id": "1e5f10e5",
   "metadata": {},
   "source": [
    "### Lets check the dependency of the columns with everdelinquent column."
   ]
  },
  {
   "cell_type": "code",
   "execution_count": 48,
   "id": "b8beaaa8",
   "metadata": {},
   "outputs": [
    {
     "data": {
      "image/png": "[encoded data removed]",
      "text/plain": [
       "<Figure size 1296x1080 with 12 Axes>"
      ]
     },
     "metadata": {
      "needs_background": "light"
     },
     "output_type": "display_data"
    }
   ],
   "source": [
    "cols=['Occupancy','Year','CreditScoreRange',\n",
    "    'OrigInterestRateRange',\n",
    "     'FirstTimeHomebuyer',\n",
    "    'Occupancy',\n",
    "    'Channel',\n",
    "    'PPM','NumBorrowers',\n",
    "    'PropertyType',\n",
    "    'LoanPurpose',\n",
    "    'LoanDurationYear']\n",
    "num_rows = 4  # Number of rows\n",
    "num_cols = 4  # Number of columns\n",
    "\n",
    "fig, axs = plt.subplots(num_rows, num_cols, figsize=(18, 15))\n",
    "\n",
    "# Flatten the axs array to access subplots by index\n",
    "axs = axs.flatten()\n",
    "\n",
    "# Iterate over columns and create subplots\n",
    "for i, x in enumerate(cols):\n",
    "    df = pd.crosstab(data[x], data['EverDelinquent'])\n",
    "    df.div(df.sum(1).astype(float), axis=0).plot(kind='bar', ax=axs[i])\n",
    "    axs[i].set_title('Dependency of ' + x , fontsize=12)\n",
    "    axs[i].set_xlabel(x)\n",
    "    axs[i].set_ylabel('Proportion')\n",
    "    axs[i].legend(title='EverDelinquent')\n",
    "\n",
    "# Hide any unused subplots\n",
    "for j in range(len(cols), num_rows * num_cols):\n",
    "    fig.delaxes(axs[j])\n",
    "\n",
    "fig.tight_layout()\n",
    "plt.show()"
   ]
  },
  {
   "cell_type": "markdown",
   "id": "ba2880e2",
   "metadata": {},
   "source": [
    "### We can see that from the plots that occupancy type do not have much impact on delinquency as it is distributed equally. Year has some impact here, in 2004 and 2009 there were more Delinquency. Credit score also have a notable impact here, when the credit score is lesser more delinquency has happened. The The interest  range till 12% shows steady increase in Delinquency  but after that there is no delinquency which is to be noted in particular. As OCLTV increases the delinquency increases and same thing can be seen with DT. MIP value shows a steady increase in delinquency as the value increases may be because of the insurance protection. First time home buyers, occupancy, and loan purpose show not much delinquency changes in its catagories. There is an influence of property type, loan duration year,PPM and number of borrowers in delinquency."
   ]
  },
  {
   "cell_type": "code",
   "execution_count": 49,
   "id": "cafce19b",
   "metadata": {},
   "outputs": [
    {
     "data": {
      "image/png": "[encoded data removed]",
      "text/plain": [
       "<Figure size 471.5x360 with 1 Axes>"
      ]
     },
     "metadata": {
      "needs_background": "light"
     },
     "output_type": "display_data"
    }
   ],
   "source": [
    "\n",
    "sns.lmplot(x='CreditScore', y='MIP', hue='FirstTimeHomebuyer', data=data)\n",
    "plt.show()\n"
   ]
  },
  {
   "cell_type": "markdown",
   "id": "f433d1e3",
   "metadata": {},
   "source": [
    "## The figure shows the correlation matrix of the data."
   ]
  },
  {
   "cell_type": "code",
   "execution_count": 51,
   "id": "24630899",
   "metadata": {},
   "outputs": [
    {
     "data": {
      "text/html": [
       "<style type=\"text/css\">\n",
       "#T_4b32a_row0_col0, #T_4b32a_row1_col1, #T_4b32a_row2_col2, #T_4b32a_row3_col3, #T_4b32a_row3_col6, #T_4b32a_row4_col4, #T_4b32a_row5_col5, #T_4b32a_row6_col3, #T_4b32a_row6_col6, #T_4b32a_row7_col7, #T_4b32a_row8_col8, #T_4b32a_row9_col9, #T_4b32a_row10_col10, #T_4b32a_row11_col11, #T_4b32a_row12_col12, #T_4b32a_row13_col13, #T_4b32a_row14_col14, #T_4b32a_row15_col15 {\n",
       "  background-color: #b40426;\n",
       "  color: #f1f1f1;\n",
       "}\n",
       "#T_4b32a_row0_col1, #T_4b32a_row0_col3, #T_4b32a_row0_col4, #T_4b32a_row0_col6, #T_4b32a_row0_col7, #T_4b32a_row0_col9, #T_4b32a_row0_col10, #T_4b32a_row0_col15, #T_4b32a_row1_col2, #T_4b32a_row3_col0, #T_4b32a_row3_col2, #T_4b32a_row3_col13, #T_4b32a_row5_col11, #T_4b32a_row6_col0, #T_4b32a_row6_col2, #T_4b32a_row6_col13, #T_4b32a_row8_col12, #T_4b32a_row9_col0, #T_4b32a_row9_col13, #T_4b32a_row11_col5, #T_4b32a_row11_col7, #T_4b32a_row12_col8, #T_4b32a_row12_col14, #T_4b32a_row13_col1, #T_4b32a_row13_col4, #T_4b32a_row13_col7, #T_4b32a_row13_col9 {\n",
       "  background-color: #3b4cc0;\n",
       "  color: #f1f1f1;\n",
       "}\n",
       "#T_4b32a_row0_col2 {\n",
       "  background-color: #455cce;\n",
       "  color: #f1f1f1;\n",
       "}\n",
       "#T_4b32a_row0_col5, #T_4b32a_row8_col5, #T_4b32a_row9_col4, #T_4b32a_row12_col1, #T_4b32a_row12_col11 {\n",
       "  background-color: #6c8ff1;\n",
       "  color: #f1f1f1;\n",
       "}\n",
       "#T_4b32a_row0_col8, #T_4b32a_row4_col12, #T_4b32a_row5_col8, #T_4b32a_row11_col12, #T_4b32a_row13_col8, #T_4b32a_row15_col12 {\n",
       "  background-color: #c4d5f3;\n",
       "  color: #000000;\n",
       "}\n",
       "#T_4b32a_row0_col11, #T_4b32a_row5_col1, #T_4b32a_row8_col0, #T_4b32a_row8_col11, #T_4b32a_row8_col13, #T_4b32a_row14_col13 {\n",
       "  background-color: #7699f6;\n",
       "  color: #f1f1f1;\n",
       "}\n",
       "#T_4b32a_row0_col12, #T_4b32a_row1_col8, #T_4b32a_row3_col14, #T_4b32a_row6_col14 {\n",
       "  background-color: #cbd8ee;\n",
       "  color: #000000;\n",
       "}\n",
       "#T_4b32a_row0_col13, #T_4b32a_row13_col0 {\n",
       "  background-color: #c32e31;\n",
       "  color: #f1f1f1;\n",
       "}\n",
       "#T_4b32a_row0_col14, #T_4b32a_row1_col12, #T_4b32a_row5_col14, #T_4b32a_row11_col10, #T_4b32a_row13_col14 {\n",
       "  background-color: #c3d5f4;\n",
       "  color: #000000;\n",
       "}\n",
       "#T_4b32a_row1_col0, #T_4b32a_row10_col2, #T_4b32a_row12_col2, #T_4b32a_row15_col2 {\n",
       "  background-color: #4358cb;\n",
       "  color: #f1f1f1;\n",
       "}\n",
       "#T_4b32a_row1_col3 {\n",
       "  background-color: #f18f71;\n",
       "  color: #f1f1f1;\n",
       "}\n",
       "#T_4b32a_row1_col4, #T_4b32a_row12_col0 {\n",
       "  background-color: #82a6fb;\n",
       "  color: #f1f1f1;\n",
       "}\n",
       "#T_4b32a_row1_col5, #T_4b32a_row13_col11, #T_4b32a_row14_col11 {\n",
       "  background-color: #7597f6;\n",
       "  color: #f1f1f1;\n",
       "}\n",
       "#T_4b32a_row1_col6 {\n",
       "  background-color: #f18d6f;\n",
       "  color: #f1f1f1;\n",
       "}\n",
       "#T_4b32a_row1_col7, #T_4b32a_row8_col3, #T_4b32a_row8_col6 {\n",
       "  background-color: #85a8fc;\n",
       "  color: #f1f1f1;\n",
       "}\n",
       "#T_4b32a_row1_col9, #T_4b32a_row3_col9, #T_4b32a_row6_col9 {\n",
       "  background-color: #8fb1fe;\n",
       "  color: #000000;\n",
       "}\n",
       "#T_4b32a_row1_col10, #T_4b32a_row8_col1, #T_4b32a_row12_col5, #T_4b32a_row14_col1 {\n",
       "  background-color: #7a9df8;\n",
       "  color: #f1f1f1;\n",
       "}\n",
       "#T_4b32a_row1_col11, #T_4b32a_row4_col0, #T_4b32a_row5_col10, #T_4b32a_row7_col0 {\n",
       "  background-color: #5977e3;\n",
       "  color: #f1f1f1;\n",
       "}\n",
       "#T_4b32a_row1_col13 {\n",
       "  background-color: #4257c9;\n",
       "  color: #f1f1f1;\n",
       "}\n",
       "#T_4b32a_row1_col14, #T_4b32a_row7_col14, #T_4b32a_row11_col8, #T_4b32a_row13_col12, #T_4b32a_row15_col8 {\n",
       "  background-color: #cad8ef;\n",
       "  color: #000000;\n",
       "}\n",
       "#T_4b32a_row1_col15 {\n",
       "  background-color: #a3c2fe;\n",
       "  color: #000000;\n",
       "}\n",
       "#T_4b32a_row2_col0, #T_4b32a_row2_col9, #T_4b32a_row3_col7, #T_4b32a_row4_col15, #T_4b32a_row8_col9, #T_4b32a_row14_col9 {\n",
       "  background-color: #7ea1fa;\n",
       "  color: #f1f1f1;\n",
       "}\n",
       "#T_4b32a_row2_col1, #T_4b32a_row8_col10, #T_4b32a_row14_col10 {\n",
       "  background-color: #6b8df0;\n",
       "  color: #f1f1f1;\n",
       "}\n",
       "#T_4b32a_row2_col3, #T_4b32a_row2_col6, #T_4b32a_row4_col10, #T_4b32a_row15_col10 {\n",
       "  background-color: #7396f5;\n",
       "  color: #f1f1f1;\n",
       "}\n",
       "#T_4b32a_row2_col4, #T_4b32a_row12_col15 {\n",
       "  background-color: #5f7fe8;\n",
       "  color: #f1f1f1;\n",
       "}\n",
       "#T_4b32a_row2_col5, #T_4b32a_row2_col13, #T_4b32a_row3_col10, #T_4b32a_row6_col10, #T_4b32a_row11_col13 {\n",
       "  background-color: #7da0f9;\n",
       "  color: #f1f1f1;\n",
       "}\n",
       "#T_4b32a_row2_col7, #T_4b32a_row7_col15, #T_4b32a_row9_col7, #T_4b32a_row9_col15 {\n",
       "  background-color: #7093f3;\n",
       "  color: #f1f1f1;\n",
       "}\n",
       "#T_4b32a_row2_col8, #T_4b32a_row2_col12, #T_4b32a_row9_col14, #T_4b32a_row10_col11, #T_4b32a_row11_col14 {\n",
       "  background-color: #c7d7f0;\n",
       "  color: #000000;\n",
       "}\n",
       "#T_4b32a_row2_col10, #T_4b32a_row5_col9, #T_4b32a_row8_col15, #T_4b32a_row14_col15, #T_4b32a_row15_col7 {\n",
       "  background-color: #6a8bef;\n",
       "  color: #f1f1f1;\n",
       "}\n",
       "#T_4b32a_row2_col11, #T_4b32a_row5_col4, #T_4b32a_row7_col10, #T_4b32a_row12_col9 {\n",
       "  background-color: #799cf8;\n",
       "  color: #f1f1f1;\n",
       "}\n",
       "#T_4b32a_row2_col14, #T_4b32a_row10_col12, #T_4b32a_row10_col14 {\n",
       "  background-color: #c6d6f1;\n",
       "  color: #000000;\n",
       "}\n",
       "#T_4b32a_row2_col15 {\n",
       "  background-color: #6485ec;\n",
       "  color: #f1f1f1;\n",
       "}\n",
       "#T_4b32a_row3_col1, #T_4b32a_row6_col1 {\n",
       "  background-color: #f29072;\n",
       "  color: #f1f1f1;\n",
       "}\n",
       "#T_4b32a_row3_col4, #T_4b32a_row4_col9, #T_4b32a_row6_col4 {\n",
       "  background-color: #89acfd;\n",
       "  color: #000000;\n",
       "}\n",
       "#T_4b32a_row3_col5 {\n",
       "  background-color: #93b5fe;\n",
       "  color: #000000;\n",
       "}\n",
       "#T_4b32a_row3_col8, #T_4b32a_row4_col14, #T_4b32a_row5_col12, #T_4b32a_row6_col8, #T_4b32a_row7_col8 {\n",
       "  background-color: #ccd9ed;\n",
       "  color: #000000;\n",
       "}\n",
       "#T_4b32a_row3_col11, #T_4b32a_row6_col11, #T_4b32a_row7_col2 {\n",
       "  background-color: #5673e0;\n",
       "  color: #f1f1f1;\n",
       "}\n",
       "#T_4b32a_row3_col12, #T_4b32a_row6_col12, #T_4b32a_row7_col12 {\n",
       "  background-color: #c1d4f4;\n",
       "  color: #000000;\n",
       "}\n",
       "#T_4b32a_row3_col15, #T_4b32a_row6_col15 {\n",
       "  background-color: #f6a283;\n",
       "  color: #000000;\n",
       "}\n",
       "#T_4b32a_row4_col1 {\n",
       "  background-color: #97b8ff;\n",
       "  color: #000000;\n",
       "}\n",
       "#T_4b32a_row4_col2, #T_4b32a_row8_col2, #T_4b32a_row14_col2 {\n",
       "  background-color: #445acc;\n",
       "  color: #f1f1f1;\n",
       "}\n",
       "#T_4b32a_row4_col3, #T_4b32a_row4_col6 {\n",
       "  background-color: #a5c3fe;\n",
       "  color: #000000;\n",
       "}\n",
       "#T_4b32a_row4_col5, #T_4b32a_row7_col9 {\n",
       "  background-color: #8caffe;\n",
       "  color: #000000;\n",
       "}\n",
       "#T_4b32a_row4_col7, #T_4b32a_row7_col4, #T_4b32a_row10_col7, #T_4b32a_row13_col5, #T_4b32a_row14_col5 {\n",
       "  background-color: #6e90f2;\n",
       "  color: #f1f1f1;\n",
       "}\n",
       "#T_4b32a_row4_col8 {\n",
       "  background-color: #cdd9ec;\n",
       "  color: #000000;\n",
       "}\n",
       "#T_4b32a_row4_col11 {\n",
       "  background-color: #6384eb;\n",
       "  color: #f1f1f1;\n",
       "}\n",
       "#T_4b32a_row4_col13, #T_4b32a_row7_col13, #T_4b32a_row12_col4 {\n",
       "  background-color: #5875e1;\n",
       "  color: #f1f1f1;\n",
       "}\n",
       "#T_4b32a_row5_col0, #T_4b32a_row5_col13, #T_4b32a_row14_col0, #T_4b32a_row15_col4 {\n",
       "  background-color: #779af7;\n",
       "  color: #f1f1f1;\n",
       "}\n",
       "#T_4b32a_row5_col2, #T_4b32a_row7_col11, #T_4b32a_row11_col4 {\n",
       "  background-color: #4f69d9;\n",
       "  color: #f1f1f1;\n",
       "}\n",
       "#T_4b32a_row5_col3, #T_4b32a_row5_col6, #T_4b32a_row7_col6 {\n",
       "  background-color: #9bbcff;\n",
       "  color: #000000;\n",
       "}\n",
       "#T_4b32a_row5_col7, #T_4b32a_row14_col12 {\n",
       "  background-color: #3d50c3;\n",
       "  color: #f1f1f1;\n",
       "}\n",
       "#T_4b32a_row5_col15, #T_4b32a_row6_col5 {\n",
       "  background-color: #92b4fe;\n",
       "  color: #000000;\n",
       "}\n",
       "#T_4b32a_row6_col7, #T_4b32a_row11_col0, #T_4b32a_row12_col13 {\n",
       "  background-color: #80a3fa;\n",
       "  color: #f1f1f1;\n",
       "}\n",
       "#T_4b32a_row7_col1 {\n",
       "  background-color: #98b9ff;\n",
       "  color: #000000;\n",
       "}\n",
       "#T_4b32a_row7_col3 {\n",
       "  background-color: #9abbff;\n",
       "  color: #000000;\n",
       "}\n",
       "#T_4b32a_row7_col5, #T_4b32a_row15_col0 {\n",
       "  background-color: #516ddb;\n",
       "  color: #f1f1f1;\n",
       "}\n",
       "#T_4b32a_row8_col4, #T_4b32a_row10_col4, #T_4b32a_row12_col10, #T_4b32a_row14_col4 {\n",
       "  background-color: #688aef;\n",
       "  color: #f1f1f1;\n",
       "}\n",
       "#T_4b32a_row8_col7 {\n",
       "  background-color: #6788ee;\n",
       "  color: #f1f1f1;\n",
       "}\n",
       "#T_4b32a_row8_col14, #T_4b32a_row14_col8 {\n",
       "  background-color: #b8122a;\n",
       "  color: #f1f1f1;\n",
       "}\n",
       "#T_4b32a_row9_col1 {\n",
       "  background-color: #88abfd;\n",
       "  color: #000000;\n",
       "}\n",
       "#T_4b32a_row9_col2, #T_4b32a_row13_col2 {\n",
       "  background-color: #465ecf;\n",
       "  color: #f1f1f1;\n",
       "}\n",
       "#T_4b32a_row9_col3, #T_4b32a_row9_col6 {\n",
       "  background-color: #90b2fe;\n",
       "  color: #000000;\n",
       "}\n",
       "#T_4b32a_row9_col5, #T_4b32a_row10_col5 {\n",
       "  background-color: #6180e9;\n",
       "  color: #f1f1f1;\n",
       "}\n",
       "#T_4b32a_row9_col8, #T_4b32a_row10_col8, #T_4b32a_row15_col14 {\n",
       "  background-color: #c9d7f0;\n",
       "  color: #000000;\n",
       "}\n",
       "#T_4b32a_row9_col10 {\n",
       "  background-color: #dedcdb;\n",
       "  color: #000000;\n",
       "}\n",
       "#T_4b32a_row9_col11 {\n",
       "  background-color: #b3cdfb;\n",
       "  color: #000000;\n",
       "}\n",
       "#T_4b32a_row9_col12 {\n",
       "  background-color: #c5d6f2;\n",
       "  color: #000000;\n",
       "}\n",
       "#T_4b32a_row10_col0, #T_4b32a_row10_col13 {\n",
       "  background-color: #4c66d6;\n",
       "  color: #f1f1f1;\n",
       "}\n",
       "#T_4b32a_row10_col1, #T_4b32a_row14_col3, #T_4b32a_row14_col6 {\n",
       "  background-color: #84a7fc;\n",
       "  color: #f1f1f1;\n",
       "}\n",
       "#T_4b32a_row10_col3, #T_4b32a_row10_col6 {\n",
       "  background-color: #8db0fe;\n",
       "  color: #000000;\n",
       "}\n",
       "#T_4b32a_row10_col9 {\n",
       "  background-color: #e5d8d1;\n",
       "  color: #000000;\n",
       "}\n",
       "#T_4b32a_row10_col15 {\n",
       "  background-color: #6f92f3;\n",
       "  color: #f1f1f1;\n",
       "}\n",
       "#T_4b32a_row11_col1 {\n",
       "  background-color: #5b7ae5;\n",
       "  color: #f1f1f1;\n",
       "}\n",
       "#T_4b32a_row11_col2 {\n",
       "  background-color: #4a63d3;\n",
       "  color: #f1f1f1;\n",
       "}\n",
       "#T_4b32a_row11_col3, #T_4b32a_row11_col6, #T_4b32a_row15_col11 {\n",
       "  background-color: #6282ea;\n",
       "  color: #f1f1f1;\n",
       "}\n",
       "#T_4b32a_row11_col9 {\n",
       "  background-color: #bbd1f8;\n",
       "  color: #000000;\n",
       "}\n",
       "#T_4b32a_row11_col15 {\n",
       "  background-color: #5572df;\n",
       "  color: #f1f1f1;\n",
       "}\n",
       "#T_4b32a_row12_col3, #T_4b32a_row12_col6 {\n",
       "  background-color: #7295f4;\n",
       "  color: #f1f1f1;\n",
       "}\n",
       "#T_4b32a_row12_col7 {\n",
       "  background-color: #5470de;\n",
       "  color: #f1f1f1;\n",
       "}\n",
       "#T_4b32a_row13_col3, #T_4b32a_row13_col6, #T_4b32a_row13_col10, #T_4b32a_row13_col15 {\n",
       "  background-color: #3c4ec2;\n",
       "  color: #f1f1f1;\n",
       "}\n",
       "#T_4b32a_row14_col7 {\n",
       "  background-color: #6687ed;\n",
       "  color: #f1f1f1;\n",
       "}\n",
       "#T_4b32a_row15_col1 {\n",
       "  background-color: #afcafc;\n",
       "  color: #000000;\n",
       "}\n",
       "#T_4b32a_row15_col3, #T_4b32a_row15_col6 {\n",
       "  background-color: #f4987a;\n",
       "  color: #000000;\n",
       "}\n",
       "#T_4b32a_row15_col5 {\n",
       "  background-color: #9dbdff;\n",
       "  color: #000000;\n",
       "}\n",
       "#T_4b32a_row15_col9 {\n",
       "  background-color: #86a9fc;\n",
       "  color: #f1f1f1;\n",
       "}\n",
       "#T_4b32a_row15_col13 {\n",
       "  background-color: #536edd;\n",
       "  color: #f1f1f1;\n",
       "}\n",
       "</style>\n",
       "<table id=\"T_4b32a\">\n",
       "  <thead>\n",
       "    <tr>\n",
       "      <th class=\"blank level0\" >&nbsp;</th>\n",
       "      <th id=\"T_4b32a_level0_col0\" class=\"col_heading level0 col0\" >CreditScore</th>\n",
       "      <th id=\"T_4b32a_level0_col1\" class=\"col_heading level0 col1\" >MIP</th>\n",
       "      <th id=\"T_4b32a_level0_col2\" class=\"col_heading level0 col2\" >Units</th>\n",
       "      <th id=\"T_4b32a_level0_col3\" class=\"col_heading level0 col3\" >OCLTV</th>\n",
       "      <th id=\"T_4b32a_level0_col4\" class=\"col_heading level0 col4\" >DTI</th>\n",
       "      <th id=\"T_4b32a_level0_col5\" class=\"col_heading level0 col5\" >OrigUPB</th>\n",
       "      <th id=\"T_4b32a_level0_col6\" class=\"col_heading level0 col6\" >LTV</th>\n",
       "      <th id=\"T_4b32a_level0_col7\" class=\"col_heading level0 col7\" >OrigInterestRate</th>\n",
       "      <th id=\"T_4b32a_level0_col8\" class=\"col_heading level0 col8\" >OrigLoanTerm</th>\n",
       "      <th id=\"T_4b32a_level0_col9\" class=\"col_heading level0 col9\" >EverDelinquent</th>\n",
       "      <th id=\"T_4b32a_level0_col10\" class=\"col_heading level0 col10\" >MonthsDelinquent</th>\n",
       "      <th id=\"T_4b32a_level0_col11\" class=\"col_heading level0 col11\" >MonthsInRepayment</th>\n",
       "      <th id=\"T_4b32a_level0_col12\" class=\"col_heading level0 col12\" >Year</th>\n",
       "      <th id=\"T_4b32a_level0_col13\" class=\"col_heading level0 col13\" >CreditScoreRange</th>\n",
       "      <th id=\"T_4b32a_level0_col14\" class=\"col_heading level0 col14\" >LoanDurationYear</th>\n",
       "      <th id=\"T_4b32a_level0_col15\" class=\"col_heading level0 col15\" >LTVRange</th>\n",
       "    </tr>\n",
       "  </thead>\n",
       "  <tbody>\n",
       "    <tr>\n",
       "      <th id=\"T_4b32a_level0_row0\" class=\"row_heading level0 row0\" >CreditScore</th>\n",
       "      <td id=\"T_4b32a_row0_col0\" class=\"data row0 col0\" >1.000000</td>\n",
       "      <td id=\"T_4b32a_row0_col1\" class=\"data row0 col1\" >-0.218184</td>\n",
       "      <td id=\"T_4b32a_row0_col2\" class=\"data row0 col2\" >0.008352</td>\n",
       "      <td id=\"T_4b32a_row0_col3\" class=\"data row0 col3\" >-0.254317</td>\n",
       "      <td id=\"T_4b32a_row0_col4\" class=\"data row0 col4\" >-0.130434</td>\n",
       "      <td id=\"T_4b32a_row0_col5\" class=\"data row0 col5\" >-0.018204</td>\n",
       "      <td id=\"T_4b32a_row0_col6\" class=\"data row0 col6\" >-0.254741</td>\n",
       "      <td id=\"T_4b32a_row0_col7\" class=\"data row0 col7\" >-0.130369</td>\n",
       "      <td id=\"T_4b32a_row0_col8\" class=\"data row0 col8\" >-0.020528</td>\n",
       "      <td id=\"T_4b32a_row0_col9\" class=\"data row0 col9\" >-0.250769</td>\n",
       "      <td id=\"T_4b32a_row0_col10\" class=\"data row0 col10\" >-0.177140</td>\n",
       "      <td id=\"T_4b32a_row0_col11\" class=\"data row0 col11\" >0.013195</td>\n",
       "      <td id=\"T_4b32a_row0_col12\" class=\"data row0 col12\" >0.021976</td>\n",
       "      <td id=\"T_4b32a_row0_col13\" class=\"data row0 col13\" >0.948809</td>\n",
       "      <td id=\"T_4b32a_row0_col14\" class=\"data row0 col14\" >-0.018845</td>\n",
       "      <td id=\"T_4b32a_row0_col15\" class=\"data row0 col15\" >-0.157561</td>\n",
       "    </tr>\n",
       "    <tr>\n",
       "      <th id=\"T_4b32a_level0_row1\" class=\"row_heading level0 row1\" >MIP</th>\n",
       "      <td id=\"T_4b32a_row1_col0\" class=\"data row1 col0\" >-0.218184</td>\n",
       "      <td id=\"T_4b32a_row1_col1\" class=\"data row1 col1\" >1.000000</td>\n",
       "      <td id=\"T_4b32a_row1_col2\" class=\"data row1 col2\" >-0.031880</td>\n",
       "      <td id=\"T_4b32a_row1_col3\" class=\"data row1 col3\" >0.719612</td>\n",
       "      <td id=\"T_4b32a_row1_col4\" class=\"data row1 col4\" >0.121157</td>\n",
       "      <td id=\"T_4b32a_row1_col5\" class=\"data row1 col5\" >0.008826</td>\n",
       "      <td id=\"T_4b32a_row1_col6\" class=\"data row1 col6\" >0.720995</td>\n",
       "      <td id=\"T_4b32a_row1_col7\" class=\"data row1 col7\" >0.128485</td>\n",
       "      <td id=\"T_4b32a_row1_col8\" class=\"data row1 col8\" >0.023476</td>\n",
       "      <td id=\"T_4b32a_row1_col9\" class=\"data row1 col9\" >0.067339</td>\n",
       "      <td id=\"T_4b32a_row1_col10\" class=\"data row1 col10\" >0.056271</td>\n",
       "      <td id=\"T_4b32a_row1_col11\" class=\"data row1 col11\" >-0.088086</td>\n",
       "      <td id=\"T_4b32a_row1_col12\" class=\"data row1 col12\" >-0.027514</td>\n",
       "      <td id=\"T_4b32a_row1_col13\" class=\"data row1 col13\" >-0.215227</td>\n",
       "      <td id=\"T_4b32a_row1_col14\" class=\"data row1 col14\" >0.020711</td>\n",
       "      <td id=\"T_4b32a_row1_col15\" class=\"data row1 col15\" >0.208003</td>\n",
       "    </tr>\n",
       "    <tr>\n",
       "      <th id=\"T_4b32a_level0_row2\" class=\"row_heading level0 row2\" >Units</th>\n",
       "      <td id=\"T_4b32a_row2_col0\" class=\"data row2 col0\" >0.008352</td>\n",
       "      <td id=\"T_4b32a_row2_col1\" class=\"data row2 col1\" >-0.031880</td>\n",
       "      <td id=\"T_4b32a_row2_col2\" class=\"data row2 col2\" >1.000000</td>\n",
       "      <td id=\"T_4b32a_row2_col3\" class=\"data row2 col3\" >-0.031039</td>\n",
       "      <td id=\"T_4b32a_row2_col4\" class=\"data row2 col4\" >0.003720</td>\n",
       "      <td id=\"T_4b32a_row2_col5\" class=\"data row2 col5\" >0.036994</td>\n",
       "      <td id=\"T_4b32a_row2_col6\" class=\"data row2 col6\" >-0.030948</td>\n",
       "      <td id=\"T_4b32a_row2_col7\" class=\"data row2 col7\" >0.061934</td>\n",
       "      <td id=\"T_4b32a_row2_col8\" class=\"data row2 col8\" >0.001526</td>\n",
       "      <td id=\"T_4b32a_row2_col9\" class=\"data row2 col9\" >0.009171</td>\n",
       "      <td id=\"T_4b32a_row2_col10\" class=\"data row2 col10\" >0.000099</td>\n",
       "      <td id=\"T_4b32a_row2_col11\" class=\"data row2 col11\" >0.023599</td>\n",
       "      <td id=\"T_4b32a_row2_col12\" class=\"data row2 col12\" >-0.000946</td>\n",
       "      <td id=\"T_4b32a_row2_col13\" class=\"data row2 col13\" >0.009670</td>\n",
       "      <td id=\"T_4b32a_row2_col14\" class=\"data row2 col14\" >0.000849</td>\n",
       "      <td id=\"T_4b32a_row2_col15\" class=\"data row2 col15\" >-0.003434</td>\n",
       "    </tr>\n",
       "    <tr>\n",
       "      <th id=\"T_4b32a_level0_row3\" class=\"row_heading level0 row3\" >OCLTV</th>\n",
       "      <td id=\"T_4b32a_row3_col0\" class=\"data row3 col0\" >-0.254317</td>\n",
       "      <td id=\"T_4b32a_row3_col1\" class=\"data row3 col1\" >0.719612</td>\n",
       "      <td id=\"T_4b32a_row3_col2\" class=\"data row3 col2\" >-0.031039</td>\n",
       "      <td id=\"T_4b32a_row3_col3\" class=\"data row3 col3\" >1.000000</td>\n",
       "      <td id=\"T_4b32a_row3_col4\" class=\"data row3 col4\" >0.143264</td>\n",
       "      <td id=\"T_4b32a_row3_col5\" class=\"data row3 col5\" >0.112211</td>\n",
       "      <td id=\"T_4b32a_row3_col6\" class=\"data row3 col6\" >0.999398</td>\n",
       "      <td id=\"T_4b32a_row3_col7\" class=\"data row3 col7\" >0.107749</td>\n",
       "      <td id=\"T_4b32a_row3_col8\" class=\"data row3 col8\" >0.029893</td>\n",
       "      <td id=\"T_4b32a_row3_col9\" class=\"data row3 col9\" >0.069835</td>\n",
       "      <td id=\"T_4b32a_row3_col10\" class=\"data row3 col10\" >0.062753</td>\n",
       "      <td id=\"T_4b32a_row3_col11\" class=\"data row3 col11\" >-0.096510</td>\n",
       "      <td id=\"T_4b32a_row3_col12\" class=\"data row3 col12\" >-0.034422</td>\n",
       "      <td id=\"T_4b32a_row3_col13\" class=\"data row3 col13\" >-0.247739</td>\n",
       "      <td id=\"T_4b32a_row3_col14\" class=\"data row3 col14\" >0.027766</td>\n",
       "      <td id=\"T_4b32a_row3_col15\" class=\"data row3 col15\" >0.686475</td>\n",
       "    </tr>\n",
       "    <tr>\n",
       "      <th id=\"T_4b32a_level0_row4\" class=\"row_heading level0 row4\" >DTI</th>\n",
       "      <td id=\"T_4b32a_row4_col0\" class=\"data row4 col0\" >-0.130434</td>\n",
       "      <td id=\"T_4b32a_row4_col1\" class=\"data row4 col1\" >0.121157</td>\n",
       "      <td id=\"T_4b32a_row4_col2\" class=\"data row4 col2\" >0.003720</td>\n",
       "      <td id=\"T_4b32a_row4_col3\" class=\"data row4 col3\" >0.143264</td>\n",
       "      <td id=\"T_4b32a_row4_col4\" class=\"data row4 col4\" >1.000000</td>\n",
       "      <td id=\"T_4b32a_row4_col5\" class=\"data row4 col5\" >0.090014</td>\n",
       "      <td id=\"T_4b32a_row4_col6\" class=\"data row4 col6\" >0.143025</td>\n",
       "      <td id=\"T_4b32a_row4_col7\" class=\"data row4 col7\" >0.052111</td>\n",
       "      <td id=\"T_4b32a_row4_col8\" class=\"data row4 col8\" >0.033591</td>\n",
       "      <td id=\"T_4b32a_row4_col9\" class=\"data row4 col9\" >0.047292</td>\n",
       "      <td id=\"T_4b32a_row4_col10\" class=\"data row4 col10\" >0.033571</td>\n",
       "      <td id=\"T_4b32a_row4_col11\" class=\"data row4 col11\" >-0.051742</td>\n",
       "      <td id=\"T_4b32a_row4_col12\" class=\"data row4 col12\" >-0.020507</td>\n",
       "      <td id=\"T_4b32a_row4_col13\" class=\"data row4 col13\" >-0.128964</td>\n",
       "      <td id=\"T_4b32a_row4_col14\" class=\"data row4 col14\" >0.033650</td>\n",
       "      <td id=\"T_4b32a_row4_col15\" class=\"data row4 col15\" >0.083038</td>\n",
       "    </tr>\n",
       "    <tr>\n",
       "      <th id=\"T_4b32a_level0_row5\" class=\"row_heading level0 row5\" >OrigUPB</th>\n",
       "      <td id=\"T_4b32a_row5_col0\" class=\"data row5 col0\" >-0.018204</td>\n",
       "      <td id=\"T_4b32a_row5_col1\" class=\"data row5 col1\" >0.008826</td>\n",
       "      <td id=\"T_4b32a_row5_col2\" class=\"data row5 col2\" >0.036994</td>\n",
       "      <td id=\"T_4b32a_row5_col3\" class=\"data row5 col3\" >0.112211</td>\n",
       "      <td id=\"T_4b32a_row5_col4\" class=\"data row5 col4\" >0.090014</td>\n",
       "      <td id=\"T_4b32a_row5_col5\" class=\"data row5 col5\" >1.000000</td>\n",
       "      <td id=\"T_4b32a_row5_col6\" class=\"data row5 col6\" >0.111439</td>\n",
       "      <td id=\"T_4b32a_row5_col7\" class=\"data row5 col7\" >-0.119874</td>\n",
       "      <td id=\"T_4b32a_row5_col8\" class=\"data row5 col8\" >-0.016088</td>\n",
       "      <td id=\"T_4b32a_row5_col9\" class=\"data row5 col9\" >-0.063116</td>\n",
       "      <td id=\"T_4b32a_row5_col10\" class=\"data row5 col10\" >-0.061801</td>\n",
       "      <td id=\"T_4b32a_row5_col11\" class=\"data row5 col11\" >-0.209800</td>\n",
       "      <td id=\"T_4b32a_row5_col12\" class=\"data row5 col12\" >0.028339</td>\n",
       "      <td id=\"T_4b32a_row5_col13\" class=\"data row5 col13\" >-0.011371</td>\n",
       "      <td id=\"T_4b32a_row5_col14\" class=\"data row5 col14\" >-0.014450</td>\n",
       "      <td id=\"T_4b32a_row5_col15\" class=\"data row5 col15\" >0.147821</td>\n",
       "    </tr>\n",
       "    <tr>\n",
       "      <th id=\"T_4b32a_level0_row6\" class=\"row_heading level0 row6\" >LTV</th>\n",
       "      <td id=\"T_4b32a_row6_col0\" class=\"data row6 col0\" >-0.254741</td>\n",
       "      <td id=\"T_4b32a_row6_col1\" class=\"data row6 col1\" >0.720995</td>\n",
       "      <td id=\"T_4b32a_row6_col2\" class=\"data row6 col2\" >-0.030948</td>\n",
       "      <td id=\"T_4b32a_row6_col3\" class=\"data row6 col3\" >0.999398</td>\n",
       "      <td id=\"T_4b32a_row6_col4\" class=\"data row6 col4\" >0.143025</td>\n",
       "      <td id=\"T_4b32a_row6_col5\" class=\"data row6 col5\" >0.111439</td>\n",
       "      <td id=\"T_4b32a_row6_col6\" class=\"data row6 col6\" >1.000000</td>\n",
       "      <td id=\"T_4b32a_row6_col7\" class=\"data row6 col7\" >0.108129</td>\n",
       "      <td id=\"T_4b32a_row6_col8\" class=\"data row6 col8\" >0.029817</td>\n",
       "      <td id=\"T_4b32a_row6_col9\" class=\"data row6 col9\" >0.070137</td>\n",
       "      <td id=\"T_4b32a_row6_col10\" class=\"data row6 col10\" >0.062938</td>\n",
       "      <td id=\"T_4b32a_row6_col11\" class=\"data row6 col11\" >-0.096870</td>\n",
       "      <td id=\"T_4b32a_row6_col12\" class=\"data row6 col12\" >-0.034665</td>\n",
       "      <td id=\"T_4b32a_row6_col13\" class=\"data row6 col13\" >-0.248159</td>\n",
       "      <td id=\"T_4b32a_row6_col14\" class=\"data row6 col14\" >0.027690</td>\n",
       "      <td id=\"T_4b32a_row6_col15\" class=\"data row6 col15\" >0.686652</td>\n",
       "    </tr>\n",
       "    <tr>\n",
       "      <th id=\"T_4b32a_level0_row7\" class=\"row_heading level0 row7\" >OrigInterestRate</th>\n",
       "      <td id=\"T_4b32a_row7_col0\" class=\"data row7 col0\" >-0.130369</td>\n",
       "      <td id=\"T_4b32a_row7_col1\" class=\"data row7 col1\" >0.128485</td>\n",
       "      <td id=\"T_4b32a_row7_col2\" class=\"data row7 col2\" >0.061934</td>\n",
       "      <td id=\"T_4b32a_row7_col3\" class=\"data row7 col3\" >0.107749</td>\n",
       "      <td id=\"T_4b32a_row7_col4\" class=\"data row7 col4\" >0.052111</td>\n",
       "      <td id=\"T_4b32a_row7_col5\" class=\"data row7 col5\" >-0.119874</td>\n",
       "      <td id=\"T_4b32a_row7_col6\" class=\"data row7 col6\" >0.108129</td>\n",
       "      <td id=\"T_4b32a_row7_col7\" class=\"data row7 col7\" >1.000000</td>\n",
       "      <td id=\"T_4b32a_row7_col8\" class=\"data row7 col8\" >0.030966</td>\n",
       "      <td id=\"T_4b32a_row7_col9\" class=\"data row7 col9\" >0.061014</td>\n",
       "      <td id=\"T_4b32a_row7_col10\" class=\"data row7 col10\" >0.051990</td>\n",
       "      <td id=\"T_4b32a_row7_col11\" class=\"data row7 col11\" >-0.128637</td>\n",
       "      <td id=\"T_4b32a_row7_col12\" class=\"data row7 col12\" >-0.035953</td>\n",
       "      <td id=\"T_4b32a_row7_col13\" class=\"data row7 col13\" >-0.130691</td>\n",
       "      <td id=\"T_4b32a_row7_col14\" class=\"data row7 col14\" >0.025281</td>\n",
       "      <td id=\"T_4b32a_row7_col15\" class=\"data row7 col15\" >0.038466</td>\n",
       "    </tr>\n",
       "    <tr>\n",
       "      <th id=\"T_4b32a_level0_row8\" class=\"row_heading level0 row8\" >OrigLoanTerm</th>\n",
       "      <td id=\"T_4b32a_row8_col0\" class=\"data row8 col0\" >-0.020528</td>\n",
       "      <td id=\"T_4b32a_row8_col1\" class=\"data row8 col1\" >0.023476</td>\n",
       "      <td id=\"T_4b32a_row8_col2\" class=\"data row8 col2\" >0.001526</td>\n",
       "      <td id=\"T_4b32a_row8_col3\" class=\"data row8 col3\" >0.029893</td>\n",
       "      <td id=\"T_4b32a_row8_col4\" class=\"data row8 col4\" >0.033591</td>\n",
       "      <td id=\"T_4b32a_row8_col5\" class=\"data row8 col5\" >-0.016088</td>\n",
       "      <td id=\"T_4b32a_row8_col6\" class=\"data row8 col6\" >0.029817</td>\n",
       "      <td id=\"T_4b32a_row8_col7\" class=\"data row8 col7\" >0.030966</td>\n",
       "      <td id=\"T_4b32a_row8_col8\" class=\"data row8 col8\" >1.000000</td>\n",
       "      <td id=\"T_4b32a_row8_col9\" class=\"data row8 col9\" >0.009774</td>\n",
       "      <td id=\"T_4b32a_row8_col10\" class=\"data row8 col10\" >0.005399</td>\n",
       "      <td id=\"T_4b32a_row8_col11\" class=\"data row8 col11\" >0.013366</td>\n",
       "      <td id=\"T_4b32a_row8_col12\" class=\"data row8 col12\" >-0.733557</td>\n",
       "      <td id=\"T_4b32a_row8_col13\" class=\"data row8 col13\" >-0.017837</td>\n",
       "      <td id=\"T_4b32a_row8_col14\" class=\"data row8 col14\" >0.978936</td>\n",
       "      <td id=\"T_4b32a_row8_col15\" class=\"data row8 col15\" >0.015388</td>\n",
       "    </tr>\n",
       "    <tr>\n",
       "      <th id=\"T_4b32a_level0_row9\" class=\"row_heading level0 row9\" >EverDelinquent</th>\n",
       "      <td id=\"T_4b32a_row9_col0\" class=\"data row9 col0\" >-0.250769</td>\n",
       "      <td id=\"T_4b32a_row9_col1\" class=\"data row9 col1\" >0.067339</td>\n",
       "      <td id=\"T_4b32a_row9_col2\" class=\"data row9 col2\" >0.009171</td>\n",
       "      <td id=\"T_4b32a_row9_col3\" class=\"data row9 col3\" >0.069835</td>\n",
       "      <td id=\"T_4b32a_row9_col4\" class=\"data row9 col4\" >0.047292</td>\n",
       "      <td id=\"T_4b32a_row9_col5\" class=\"data row9 col5\" >-0.063116</td>\n",
       "      <td id=\"T_4b32a_row9_col6\" class=\"data row9 col6\" >0.070137</td>\n",
       "      <td id=\"T_4b32a_row9_col7\" class=\"data row9 col7\" >0.061014</td>\n",
       "      <td id=\"T_4b32a_row9_col8\" class=\"data row9 col8\" >0.009774</td>\n",
       "      <td id=\"T_4b32a_row9_col9\" class=\"data row9 col9\" >1.000000</td>\n",
       "      <td id=\"T_4b32a_row9_col10\" class=\"data row9 col10\" >0.416898</td>\n",
       "      <td id=\"T_4b32a_row9_col11\" class=\"data row9 col11\" >0.228090</td>\n",
       "      <td id=\"T_4b32a_row9_col12\" class=\"data row9 col12\" >-0.011268</td>\n",
       "      <td id=\"T_4b32a_row9_col13\" class=\"data row9 col13\" >-0.246530</td>\n",
       "      <td id=\"T_4b32a_row9_col14\" class=\"data row9 col14\" >0.008853</td>\n",
       "      <td id=\"T_4b32a_row9_col15\" class=\"data row9 col15\" >0.038600</td>\n",
       "    </tr>\n",
       "    <tr>\n",
       "      <th id=\"T_4b32a_level0_row10\" class=\"row_heading level0 row10\" >MonthsDelinquent</th>\n",
       "      <td id=\"T_4b32a_row10_col0\" class=\"data row10 col0\" >-0.177140</td>\n",
       "      <td id=\"T_4b32a_row10_col1\" class=\"data row10 col1\" >0.056271</td>\n",
       "      <td id=\"T_4b32a_row10_col2\" class=\"data row10 col2\" >0.000099</td>\n",
       "      <td id=\"T_4b32a_row10_col3\" class=\"data row10 col3\" >0.062753</td>\n",
       "      <td id=\"T_4b32a_row10_col4\" class=\"data row10 col4\" >0.033571</td>\n",
       "      <td id=\"T_4b32a_row10_col5\" class=\"data row10 col5\" >-0.061801</td>\n",
       "      <td id=\"T_4b32a_row10_col6\" class=\"data row10 col6\" >0.062938</td>\n",
       "      <td id=\"T_4b32a_row10_col7\" class=\"data row10 col7\" >0.051990</td>\n",
       "      <td id=\"T_4b32a_row10_col8\" class=\"data row10 col8\" >0.005399</td>\n",
       "      <td id=\"T_4b32a_row10_col9\" class=\"data row10 col9\" >0.416898</td>\n",
       "      <td id=\"T_4b32a_row10_col10\" class=\"data row10 col10\" >1.000000</td>\n",
       "      <td id=\"T_4b32a_row10_col11\" class=\"data row10 col11\" >0.304425</td>\n",
       "      <td id=\"T_4b32a_row10_col12\" class=\"data row10 col12\" >-0.006926</td>\n",
       "      <td id=\"T_4b32a_row10_col13\" class=\"data row10 col13\" >-0.172016</td>\n",
       "      <td id=\"T_4b32a_row10_col14\" class=\"data row10 col14\" >0.005165</td>\n",
       "      <td id=\"T_4b32a_row10_col15\" class=\"data row10 col15\" >0.033489</td>\n",
       "    </tr>\n",
       "    <tr>\n",
       "      <th id=\"T_4b32a_level0_row11\" class=\"row_heading level0 row11\" >MonthsInRepayment</th>\n",
       "      <td id=\"T_4b32a_row11_col0\" class=\"data row11 col0\" >0.013195</td>\n",
       "      <td id=\"T_4b32a_row11_col1\" class=\"data row11 col1\" >-0.088086</td>\n",
       "      <td id=\"T_4b32a_row11_col2\" class=\"data row11 col2\" >0.023599</td>\n",
       "      <td id=\"T_4b32a_row11_col3\" class=\"data row11 col3\" >-0.096510</td>\n",
       "      <td id=\"T_4b32a_row11_col4\" class=\"data row11 col4\" >-0.051742</td>\n",
       "      <td id=\"T_4b32a_row11_col5\" class=\"data row11 col5\" >-0.209800</td>\n",
       "      <td id=\"T_4b32a_row11_col6\" class=\"data row11 col6\" >-0.096870</td>\n",
       "      <td id=\"T_4b32a_row11_col7\" class=\"data row11 col7\" >-0.128637</td>\n",
       "      <td id=\"T_4b32a_row11_col8\" class=\"data row11 col8\" >0.013366</td>\n",
       "      <td id=\"T_4b32a_row11_col9\" class=\"data row11 col9\" >0.228090</td>\n",
       "      <td id=\"T_4b32a_row11_col10\" class=\"data row11 col10\" >0.304425</td>\n",
       "      <td id=\"T_4b32a_row11_col11\" class=\"data row11 col11\" >1.000000</td>\n",
       "      <td id=\"T_4b32a_row11_col12\" class=\"data row11 col12\" >-0.020690</td>\n",
       "      <td id=\"T_4b32a_row11_col13\" class=\"data row11 col13\" >0.009154</td>\n",
       "      <td id=\"T_4b32a_row11_col14\" class=\"data row11 col14\" >0.012099</td>\n",
       "      <td id=\"T_4b32a_row11_col15\" class=\"data row11 col15\" >-0.055968</td>\n",
       "    </tr>\n",
       "    <tr>\n",
       "      <th id=\"T_4b32a_level0_row12\" class=\"row_heading level0 row12\" >Year</th>\n",
       "      <td id=\"T_4b32a_row12_col0\" class=\"data row12 col0\" >0.021976</td>\n",
       "      <td id=\"T_4b32a_row12_col1\" class=\"data row12 col1\" >-0.027514</td>\n",
       "      <td id=\"T_4b32a_row12_col2\" class=\"data row12 col2\" >-0.000946</td>\n",
       "      <td id=\"T_4b32a_row12_col3\" class=\"data row12 col3\" >-0.034422</td>\n",
       "      <td id=\"T_4b32a_row12_col4\" class=\"data row12 col4\" >-0.020507</td>\n",
       "      <td id=\"T_4b32a_row12_col5\" class=\"data row12 col5\" >0.028339</td>\n",
       "      <td id=\"T_4b32a_row12_col6\" class=\"data row12 col6\" >-0.034665</td>\n",
       "      <td id=\"T_4b32a_row12_col7\" class=\"data row12 col7\" >-0.035953</td>\n",
       "      <td id=\"T_4b32a_row12_col8\" class=\"data row12 col8\" >-0.733557</td>\n",
       "      <td id=\"T_4b32a_row12_col9\" class=\"data row12 col9\" >-0.011268</td>\n",
       "      <td id=\"T_4b32a_row12_col10\" class=\"data row12 col10\" >-0.006926</td>\n",
       "      <td id=\"T_4b32a_row12_col11\" class=\"data row12 col11\" >-0.020690</td>\n",
       "      <td id=\"T_4b32a_row12_col12\" class=\"data row12 col12\" >1.000000</td>\n",
       "      <td id=\"T_4b32a_row12_col13\" class=\"data row12 col13\" >0.018010</td>\n",
       "      <td id=\"T_4b32a_row12_col14\" class=\"data row12 col14\" >-0.719746</td>\n",
       "      <td id=\"T_4b32a_row12_col15\" class=\"data row12 col15\" >-0.019736</td>\n",
       "    </tr>\n",
       "    <tr>\n",
       "      <th id=\"T_4b32a_level0_row13\" class=\"row_heading level0 row13\" >CreditScoreRange</th>\n",
       "      <td id=\"T_4b32a_row13_col0\" class=\"data row13 col0\" >0.948809</td>\n",
       "      <td id=\"T_4b32a_row13_col1\" class=\"data row13 col1\" >-0.215227</td>\n",
       "      <td id=\"T_4b32a_row13_col2\" class=\"data row13 col2\" >0.009670</td>\n",
       "      <td id=\"T_4b32a_row13_col3\" class=\"data row13 col3\" >-0.247739</td>\n",
       "      <td id=\"T_4b32a_row13_col4\" class=\"data row13 col4\" >-0.128964</td>\n",
       "      <td id=\"T_4b32a_row13_col5\" class=\"data row13 col5\" >-0.011371</td>\n",
       "      <td id=\"T_4b32a_row13_col6\" class=\"data row13 col6\" >-0.248159</td>\n",
       "      <td id=\"T_4b32a_row13_col7\" class=\"data row13 col7\" >-0.130691</td>\n",
       "      <td id=\"T_4b32a_row13_col8\" class=\"data row13 col8\" >-0.017837</td>\n",
       "      <td id=\"T_4b32a_row13_col9\" class=\"data row13 col9\" >-0.246530</td>\n",
       "      <td id=\"T_4b32a_row13_col10\" class=\"data row13 col10\" >-0.172016</td>\n",
       "      <td id=\"T_4b32a_row13_col11\" class=\"data row13 col11\" >0.009154</td>\n",
       "      <td id=\"T_4b32a_row13_col12\" class=\"data row13 col12\" >0.018010</td>\n",
       "      <td id=\"T_4b32a_row13_col13\" class=\"data row13 col13\" >1.000000</td>\n",
       "      <td id=\"T_4b32a_row13_col14\" class=\"data row13 col14\" >-0.016619</td>\n",
       "      <td id=\"T_4b32a_row13_col15\" class=\"data row13 col15\" >-0.149623</td>\n",
       "    </tr>\n",
       "    <tr>\n",
       "      <th id=\"T_4b32a_level0_row14\" class=\"row_heading level0 row14\" >LoanDurationYear</th>\n",
       "      <td id=\"T_4b32a_row14_col0\" class=\"data row14 col0\" >-0.018845</td>\n",
       "      <td id=\"T_4b32a_row14_col1\" class=\"data row14 col1\" >0.020711</td>\n",
       "      <td id=\"T_4b32a_row14_col2\" class=\"data row14 col2\" >0.000849</td>\n",
       "      <td id=\"T_4b32a_row14_col3\" class=\"data row14 col3\" >0.027766</td>\n",
       "      <td id=\"T_4b32a_row14_col4\" class=\"data row14 col4\" >0.033650</td>\n",
       "      <td id=\"T_4b32a_row14_col5\" class=\"data row14 col5\" >-0.014450</td>\n",
       "      <td id=\"T_4b32a_row14_col6\" class=\"data row14 col6\" >0.027690</td>\n",
       "      <td id=\"T_4b32a_row14_col7\" class=\"data row14 col7\" >0.025281</td>\n",
       "      <td id=\"T_4b32a_row14_col8\" class=\"data row14 col8\" >0.978936</td>\n",
       "      <td id=\"T_4b32a_row14_col9\" class=\"data row14 col9\" >0.008853</td>\n",
       "      <td id=\"T_4b32a_row14_col10\" class=\"data row14 col10\" >0.005165</td>\n",
       "      <td id=\"T_4b32a_row14_col11\" class=\"data row14 col11\" >0.012099</td>\n",
       "      <td id=\"T_4b32a_row14_col12\" class=\"data row14 col12\" >-0.719746</td>\n",
       "      <td id=\"T_4b32a_row14_col13\" class=\"data row14 col13\" >-0.016619</td>\n",
       "      <td id=\"T_4b32a_row14_col14\" class=\"data row14 col14\" >1.000000</td>\n",
       "      <td id=\"T_4b32a_row14_col15\" class=\"data row14 col15\" >0.014341</td>\n",
       "    </tr>\n",
       "    <tr>\n",
       "      <th id=\"T_4b32a_level0_row15\" class=\"row_heading level0 row15\" >LTVRange</th>\n",
       "      <td id=\"T_4b32a_row15_col0\" class=\"data row15 col0\" >-0.157561</td>\n",
       "      <td id=\"T_4b32a_row15_col1\" class=\"data row15 col1\" >0.208003</td>\n",
       "      <td id=\"T_4b32a_row15_col2\" class=\"data row15 col2\" >-0.003434</td>\n",
       "      <td id=\"T_4b32a_row15_col3\" class=\"data row15 col3\" >0.686475</td>\n",
       "      <td id=\"T_4b32a_row15_col4\" class=\"data row15 col4\" >0.083038</td>\n",
       "      <td id=\"T_4b32a_row15_col5\" class=\"data row15 col5\" >0.147821</td>\n",
       "      <td id=\"T_4b32a_row15_col6\" class=\"data row15 col6\" >0.686652</td>\n",
       "      <td id=\"T_4b32a_row15_col7\" class=\"data row15 col7\" >0.038466</td>\n",
       "      <td id=\"T_4b32a_row15_col8\" class=\"data row15 col8\" >0.015388</td>\n",
       "      <td id=\"T_4b32a_row15_col9\" class=\"data row15 col9\" >0.038600</td>\n",
       "      <td id=\"T_4b32a_row15_col10\" class=\"data row15 col10\" >0.033489</td>\n",
       "      <td id=\"T_4b32a_row15_col11\" class=\"data row15 col11\" >-0.055968</td>\n",
       "      <td id=\"T_4b32a_row15_col12\" class=\"data row15 col12\" >-0.019736</td>\n",
       "      <td id=\"T_4b32a_row15_col13\" class=\"data row15 col13\" >-0.149623</td>\n",
       "      <td id=\"T_4b32a_row15_col14\" class=\"data row15 col14\" >0.014341</td>\n",
       "      <td id=\"T_4b32a_row15_col15\" class=\"data row15 col15\" >1.000000</td>\n",
       "    </tr>\n",
       "  </tbody>\n",
       "</table>\n"
      ],
      "text/plain": [
       "<pandas.io.formats.style.Styler at 0x1e99b844b50>"
      ]
     },
     "execution_count": 51,
     "metadata": {},
     "output_type": "execute_result"
    }
   ],
   "source": [
    "cormat = data.corr()\n",
    "round(cormat,2)\n",
    "cormat.style.background_gradient(cmap='coolwarm') \n"
   ]
  },
  {
   "cell_type": "code",
   "execution_count": 52,
   "id": "d68193b5",
   "metadata": {},
   "outputs": [
    {
     "name": "stdout",
     "output_type": "stream",
     "text": [
      "There are 9 strongly correlated values with CreditScore:\n",
      "CreditScore         1.000000\n",
      "CreditScoreRange    0.948809\n",
      "OrigInterestRate   -0.130369\n",
      "DTI                -0.130434\n",
      "MonthsDelinquent   -0.177140\n",
      "MIP                -0.218184\n",
      "EverDelinquent     -0.250769\n",
      "OCLTV              -0.254317\n",
      "LTV                -0.254741\n",
      "Name: CreditScore, dtype: float64\n"
     ]
    }
   ],
   "source": [
    "#Now we'll try to find which features are strongly correlated with CreditScore\n",
    "cormat = cormat['CreditScore'][:-1]  # -1 because the latest row is SalePrice\n",
    "golden_features_list = cormat[abs(cormat) > 0.05].sort_values(ascending=False)\n",
    "print(\"There are {} strongly correlated values with CreditScore:\\n{}\".format(len(golden_features_list), golden_features_list))\n"
   ]
  },
  {
   "cell_type": "markdown",
   "id": "d6ffa8d6",
   "metadata": {},
   "source": [
    "## We will find the ratio of OrigUPB and MSA to form a new column called UPBtoMSA. The lesser the value of UPBtoMSA means more security amount is payed by the customer. We will create a band for this also."
   ]
  },
  {
   "cell_type": "code",
   "execution_count": 53,
   "id": "294b5bae",
   "metadata": {},
   "outputs": [
    {
     "name": "stdout",
     "output_type": "stream",
     "text": [
      "min 0.20989001763076148\n",
      "max 36.038394415357764\n",
      "mean 4.9794517444842\n"
     ]
    }
   ],
   "source": [
    "data['UPBtoMSA']=(data['OrigUPB'] / data['MSA'].astype(int))\n",
    "print('min',data['UPBtoMSA'].min())\n",
    "print('max',data['UPBtoMSA'].max())\n",
    "print('mean',data['UPBtoMSA'].mean())"
   ]
  },
  {
   "cell_type": "markdown",
   "id": "2cfe4e83",
   "metadata": {},
   "source": [
    "# Encoding the data"
   ]
  },
  {
   "cell_type": "markdown",
   "id": "ae108868",
   "metadata": {},
   "source": [
    "## we will do label encoding and ordinal encoding. Label encoding encodes the categorival columns as category approach. We have some columns with ordinal data , so we use ordinal encoding on them."
   ]
  },
  {
   "cell_type": "code",
   "execution_count": 54,
   "id": "ef732446",
   "metadata": {},
   "outputs": [
    {
     "data": {
      "text/html": [
       "<div>\n",
       "<style scoped>\n",
       "    .dataframe tbody tr th:only-of-type {\n",
       "        vertical-align: middle;\n",
       "    }\n",
       "\n",
       "    .dataframe tbody tr th {\n",
       "        vertical-align: top;\n",
       "    }\n",
       "\n",
       "    .dataframe thead th {\n",
       "        text-align: right;\n",
       "    }\n",
       "</style>\n",
       "<table border=\"1\" class=\"dataframe\">\n",
       "  <thead>\n",
       "    <tr style=\"text-align: right;\">\n",
       "      <th></th>\n",
       "      <th>CreditScore</th>\n",
       "      <th>FirstPaymentDate</th>\n",
       "      <th>FirstTimeHomebuyer</th>\n",
       "      <th>MaturityDate</th>\n",
       "      <th>MSA</th>\n",
       "      <th>MIP</th>\n",
       "      <th>Units</th>\n",
       "      <th>Occupancy</th>\n",
       "      <th>OCLTV</th>\n",
       "      <th>DTI</th>\n",
       "      <th>OrigUPB</th>\n",
       "      <th>LTV</th>\n",
       "      <th>OrigInterestRate</th>\n",
       "      <th>Channel</th>\n",
       "      <th>PPM</th>\n",
       "      <th>PropertyState</th>\n",
       "      <th>PropertyType</th>\n",
       "      <th>LoanPurpose</th>\n",
       "      <th>OrigLoanTerm</th>\n",
       "      <th>NumBorrowers</th>\n",
       "      <th>SellerName</th>\n",
       "      <th>ServicerName</th>\n",
       "      <th>EverDelinquent</th>\n",
       "      <th>MonthsDelinquent</th>\n",
       "      <th>MonthsInRepayment</th>\n",
       "      <th>Year</th>\n",
       "      <th>CreditScoreRange</th>\n",
       "      <th>FirstPaymentMonth</th>\n",
       "      <th>MaturityMonth</th>\n",
       "      <th>LoanDuration</th>\n",
       "      <th>LoanDurationYear</th>\n",
       "      <th>OrigInterestRateRange</th>\n",
       "      <th>LTVRange</th>\n",
       "      <th>RepaymentRange</th>\n",
       "      <th>UPBtoMSA</th>\n",
       "    </tr>\n",
       "  </thead>\n",
       "  <tbody>\n",
       "    <tr>\n",
       "      <th>0</th>\n",
       "      <td>850</td>\n",
       "      <td>01/1999</td>\n",
       "      <td>N</td>\n",
       "      <td>01/2029</td>\n",
       "      <td>16974</td>\n",
       "      <td>25</td>\n",
       "      <td>1</td>\n",
       "      <td>O</td>\n",
       "      <td>89</td>\n",
       "      <td>27</td>\n",
       "      <td>117000</td>\n",
       "      <td>89</td>\n",
       "      <td>6.750</td>\n",
       "      <td>T</td>\n",
       "      <td>N</td>\n",
       "      <td>IL</td>\n",
       "      <td>SF</td>\n",
       "      <td>P</td>\n",
       "      <td>360</td>\n",
       "      <td>2</td>\n",
       "      <td>FL</td>\n",
       "      <td>WASHINGTONMUTUALBANK</td>\n",
       "      <td>0</td>\n",
       "      <td>0</td>\n",
       "      <td>52</td>\n",
       "      <td>1999</td>\n",
       "      <td>4</td>\n",
       "      <td>01</td>\n",
       "      <td>01</td>\n",
       "      <td>10958 days</td>\n",
       "      <td>30</td>\n",
       "      <td>6_and_below_7</td>\n",
       "      <td>3</td>\n",
       "      <td>48-96</td>\n",
       "      <td>6.892895</td>\n",
       "    </tr>\n",
       "    <tr>\n",
       "      <th>1</th>\n",
       "      <td>850</td>\n",
       "      <td>01/1999</td>\n",
       "      <td>N</td>\n",
       "      <td>01/2029</td>\n",
       "      <td>19740</td>\n",
       "      <td>0</td>\n",
       "      <td>1</td>\n",
       "      <td>O</td>\n",
       "      <td>73</td>\n",
       "      <td>17</td>\n",
       "      <td>109000</td>\n",
       "      <td>73</td>\n",
       "      <td>6.500</td>\n",
       "      <td>R</td>\n",
       "      <td>N</td>\n",
       "      <td>CO</td>\n",
       "      <td>SF</td>\n",
       "      <td>N</td>\n",
       "      <td>360</td>\n",
       "      <td>1</td>\n",
       "      <td>FT</td>\n",
       "      <td>CHASEHOMEFINANCELLC</td>\n",
       "      <td>0</td>\n",
       "      <td>0</td>\n",
       "      <td>144</td>\n",
       "      <td>1999</td>\n",
       "      <td>4</td>\n",
       "      <td>01</td>\n",
       "      <td>01</td>\n",
       "      <td>10958 days</td>\n",
       "      <td>30</td>\n",
       "      <td>6_and_below_7</td>\n",
       "      <td>3</td>\n",
       "      <td>96-144</td>\n",
       "      <td>5.521783</td>\n",
       "    </tr>\n",
       "    <tr>\n",
       "      <th>2</th>\n",
       "      <td>850</td>\n",
       "      <td>01/1999</td>\n",
       "      <td>N</td>\n",
       "      <td>01/2029</td>\n",
       "      <td>29940</td>\n",
       "      <td>0</td>\n",
       "      <td>1</td>\n",
       "      <td>O</td>\n",
       "      <td>75</td>\n",
       "      <td>16</td>\n",
       "      <td>88000</td>\n",
       "      <td>75</td>\n",
       "      <td>6.875</td>\n",
       "      <td>T</td>\n",
       "      <td>N</td>\n",
       "      <td>KS</td>\n",
       "      <td>SF</td>\n",
       "      <td>N</td>\n",
       "      <td>360</td>\n",
       "      <td>2</td>\n",
       "      <td>FL</td>\n",
       "      <td>WASHINGTONMUTUALBANK</td>\n",
       "      <td>0</td>\n",
       "      <td>0</td>\n",
       "      <td>67</td>\n",
       "      <td>1999</td>\n",
       "      <td>4</td>\n",
       "      <td>01</td>\n",
       "      <td>01</td>\n",
       "      <td>10958 days</td>\n",
       "      <td>30</td>\n",
       "      <td>6_and_below_7</td>\n",
       "      <td>3</td>\n",
       "      <td>48-96</td>\n",
       "      <td>2.939212</td>\n",
       "    </tr>\n",
       "    <tr>\n",
       "      <th>3</th>\n",
       "      <td>850</td>\n",
       "      <td>01/1999</td>\n",
       "      <td>N</td>\n",
       "      <td>01/2029</td>\n",
       "      <td>31084</td>\n",
       "      <td>0</td>\n",
       "      <td>1</td>\n",
       "      <td>O</td>\n",
       "      <td>76</td>\n",
       "      <td>14</td>\n",
       "      <td>160000</td>\n",
       "      <td>76</td>\n",
       "      <td>6.875</td>\n",
       "      <td>R</td>\n",
       "      <td>N</td>\n",
       "      <td>CA</td>\n",
       "      <td>SF</td>\n",
       "      <td>N</td>\n",
       "      <td>360</td>\n",
       "      <td>2</td>\n",
       "      <td>GM</td>\n",
       "      <td>GMACMTGECORP</td>\n",
       "      <td>0</td>\n",
       "      <td>0</td>\n",
       "      <td>35</td>\n",
       "      <td>1999</td>\n",
       "      <td>4</td>\n",
       "      <td>01</td>\n",
       "      <td>01</td>\n",
       "      <td>10958 days</td>\n",
       "      <td>30</td>\n",
       "      <td>6_and_below_7</td>\n",
       "      <td>3</td>\n",
       "      <td>0-48</td>\n",
       "      <td>5.147343</td>\n",
       "    </tr>\n",
       "    <tr>\n",
       "      <th>4</th>\n",
       "      <td>850</td>\n",
       "      <td>01/1999</td>\n",
       "      <td>N</td>\n",
       "      <td>01/2029</td>\n",
       "      <td>35644</td>\n",
       "      <td>0</td>\n",
       "      <td>1</td>\n",
       "      <td>O</td>\n",
       "      <td>78</td>\n",
       "      <td>18</td>\n",
       "      <td>109000</td>\n",
       "      <td>78</td>\n",
       "      <td>7.125</td>\n",
       "      <td>R</td>\n",
       "      <td>N</td>\n",
       "      <td>NJ</td>\n",
       "      <td>SF</td>\n",
       "      <td>N</td>\n",
       "      <td>360</td>\n",
       "      <td>2</td>\n",
       "      <td>GM</td>\n",
       "      <td>GMACMTGECORP</td>\n",
       "      <td>0</td>\n",
       "      <td>0</td>\n",
       "      <td>54</td>\n",
       "      <td>1999</td>\n",
       "      <td>4</td>\n",
       "      <td>01</td>\n",
       "      <td>01</td>\n",
       "      <td>10958 days</td>\n",
       "      <td>30</td>\n",
       "      <td>7_and_below_8</td>\n",
       "      <td>3</td>\n",
       "      <td>48-96</td>\n",
       "      <td>3.058018</td>\n",
       "    </tr>\n",
       "  </tbody>\n",
       "</table>\n",
       "</div>"
      ],
      "text/plain": [
       "   CreditScore FirstPaymentDate FirstTimeHomebuyer MaturityDate    MSA  MIP  \\\n",
       "0          850          01/1999                  N      01/2029  16974   25   \n",
       "1          850          01/1999                  N      01/2029  19740    0   \n",
       "2          850          01/1999                  N      01/2029  29940    0   \n",
       "3          850          01/1999                  N      01/2029  31084    0   \n",
       "4          850          01/1999                  N      01/2029  35644    0   \n",
       "\n",
       "   Units Occupancy  OCLTV  DTI  OrigUPB  LTV  OrigInterestRate Channel PPM  \\\n",
       "0      1         O     89   27   117000   89             6.750       T   N   \n",
       "1      1         O     73   17   109000   73             6.500       R   N   \n",
       "2      1         O     75   16    88000   75             6.875       T   N   \n",
       "3      1         O     76   14   160000   76             6.875       R   N   \n",
       "4      1         O     78   18   109000   78             7.125       R   N   \n",
       "\n",
       "  PropertyState PropertyType LoanPurpose  OrigLoanTerm NumBorrowers  \\\n",
       "0            IL           SF           P           360            2   \n",
       "1            CO           SF           N           360            1   \n",
       "2            KS           SF           N           360            2   \n",
       "3            CA           SF           N           360            2   \n",
       "4            NJ           SF           N           360            2   \n",
       "\n",
       "  SellerName          ServicerName  EverDelinquent  MonthsDelinquent  \\\n",
       "0         FL  WASHINGTONMUTUALBANK               0                 0   \n",
       "1         FT  CHASEHOMEFINANCELLC                0                 0   \n",
       "2         FL  WASHINGTONMUTUALBANK               0                 0   \n",
       "3         GM  GMACMTGECORP                       0                 0   \n",
       "4         GM  GMACMTGECORP                       0                 0   \n",
       "\n",
       "   MonthsInRepayment  Year  CreditScoreRange FirstPaymentMonth MaturityMonth  \\\n",
       "0                 52  1999                 4                01            01   \n",
       "1                144  1999                 4                01            01   \n",
       "2                 67  1999                 4                01            01   \n",
       "3                 35  1999                 4                01            01   \n",
       "4                 54  1999                 4                01            01   \n",
       "\n",
       "  LoanDuration  LoanDurationYear OrigInterestRateRange  LTVRange  \\\n",
       "0   10958 days                30         6_and_below_7         3   \n",
       "1   10958 days                30         6_and_below_7         3   \n",
       "2   10958 days                30         6_and_below_7         3   \n",
       "3   10958 days                30         6_and_below_7         3   \n",
       "4   10958 days                30         7_and_below_8         3   \n",
       "\n",
       "  RepaymentRange  UPBtoMSA  \n",
       "0          48-96  6.892895  \n",
       "1         96-144  5.521783  \n",
       "2          48-96  2.939212  \n",
       "3           0-48  5.147343  \n",
       "4          48-96  3.058018  "
      ]
     },
     "execution_count": 54,
     "metadata": {},
     "output_type": "execute_result"
    }
   ],
   "source": [
    "data.head()"
   ]
  },
  {
   "cell_type": "code",
   "execution_count": 55,
   "id": "2f91035a",
   "metadata": {},
   "outputs": [],
   "source": [
    "from sklearn.preprocessing import LabelEncoder\n",
    "columns_to_encode =[\n",
    "    'FirstTimeHomebuyer',\n",
    "    'PPM'\n",
    "    ]\n",
    "\n",
    "# Initialize the LabelEncoder\n",
    "label_encoder = LabelEncoder()\n",
    "\n",
    "# Perform label encoding on the specified columns\n",
    "for column in columns_to_encode:\n",
    "    data[column] = label_encoder.fit_transform(data[column])\n"
   ]
  },
  {
   "cell_type": "code",
   "execution_count": 56,
   "id": "f336f5f7",
   "metadata": {
    "scrolled": true
   },
   "outputs": [
    {
     "data": {
      "text/html": [
       "<div>\n",
       "<style scoped>\n",
       "    .dataframe tbody tr th:only-of-type {\n",
       "        vertical-align: middle;\n",
       "    }\n",
       "\n",
       "    .dataframe tbody tr th {\n",
       "        vertical-align: top;\n",
       "    }\n",
       "\n",
       "    .dataframe thead th {\n",
       "        text-align: right;\n",
       "    }\n",
       "</style>\n",
       "<table border=\"1\" class=\"dataframe\">\n",
       "  <thead>\n",
       "    <tr style=\"text-align: right;\">\n",
       "      <th></th>\n",
       "      <th>CreditScore</th>\n",
       "      <th>FirstPaymentDate</th>\n",
       "      <th>FirstTimeHomebuyer</th>\n",
       "      <th>MaturityDate</th>\n",
       "      <th>MSA</th>\n",
       "      <th>MIP</th>\n",
       "      <th>Units</th>\n",
       "      <th>Occupancy</th>\n",
       "      <th>OCLTV</th>\n",
       "      <th>DTI</th>\n",
       "      <th>OrigUPB</th>\n",
       "      <th>LTV</th>\n",
       "      <th>OrigInterestRate</th>\n",
       "      <th>Channel</th>\n",
       "      <th>PPM</th>\n",
       "      <th>PropertyState</th>\n",
       "      <th>PropertyType</th>\n",
       "      <th>LoanPurpose</th>\n",
       "      <th>OrigLoanTerm</th>\n",
       "      <th>NumBorrowers</th>\n",
       "      <th>SellerName</th>\n",
       "      <th>ServicerName</th>\n",
       "      <th>EverDelinquent</th>\n",
       "      <th>MonthsDelinquent</th>\n",
       "      <th>MonthsInRepayment</th>\n",
       "      <th>Year</th>\n",
       "      <th>CreditScoreRange</th>\n",
       "      <th>FirstPaymentMonth</th>\n",
       "      <th>MaturityMonth</th>\n",
       "      <th>LoanDuration</th>\n",
       "      <th>LoanDurationYear</th>\n",
       "      <th>OrigInterestRateRange</th>\n",
       "      <th>LTVRange</th>\n",
       "      <th>RepaymentRange</th>\n",
       "      <th>UPBtoMSA</th>\n",
       "    </tr>\n",
       "  </thead>\n",
       "  <tbody>\n",
       "    <tr>\n",
       "      <th>0</th>\n",
       "      <td>850</td>\n",
       "      <td>01/1999</td>\n",
       "      <td>0</td>\n",
       "      <td>01/2029</td>\n",
       "      <td>16974</td>\n",
       "      <td>25</td>\n",
       "      <td>1</td>\n",
       "      <td>O</td>\n",
       "      <td>89</td>\n",
       "      <td>27</td>\n",
       "      <td>117000</td>\n",
       "      <td>89</td>\n",
       "      <td>6.750</td>\n",
       "      <td>T</td>\n",
       "      <td>0</td>\n",
       "      <td>IL</td>\n",
       "      <td>SF</td>\n",
       "      <td>P</td>\n",
       "      <td>360</td>\n",
       "      <td>2</td>\n",
       "      <td>FL</td>\n",
       "      <td>WASHINGTONMUTUALBANK</td>\n",
       "      <td>0</td>\n",
       "      <td>0</td>\n",
       "      <td>52</td>\n",
       "      <td>1999</td>\n",
       "      <td>4</td>\n",
       "      <td>01</td>\n",
       "      <td>01</td>\n",
       "      <td>10958 days</td>\n",
       "      <td>30</td>\n",
       "      <td>2.0</td>\n",
       "      <td>3</td>\n",
       "      <td>1.0</td>\n",
       "      <td>6.892895</td>\n",
       "    </tr>\n",
       "    <tr>\n",
       "      <th>1</th>\n",
       "      <td>850</td>\n",
       "      <td>01/1999</td>\n",
       "      <td>0</td>\n",
       "      <td>01/2029</td>\n",
       "      <td>19740</td>\n",
       "      <td>0</td>\n",
       "      <td>1</td>\n",
       "      <td>O</td>\n",
       "      <td>73</td>\n",
       "      <td>17</td>\n",
       "      <td>109000</td>\n",
       "      <td>73</td>\n",
       "      <td>6.500</td>\n",
       "      <td>R</td>\n",
       "      <td>0</td>\n",
       "      <td>CO</td>\n",
       "      <td>SF</td>\n",
       "      <td>N</td>\n",
       "      <td>360</td>\n",
       "      <td>1</td>\n",
       "      <td>FT</td>\n",
       "      <td>CHASEHOMEFINANCELLC</td>\n",
       "      <td>0</td>\n",
       "      <td>0</td>\n",
       "      <td>144</td>\n",
       "      <td>1999</td>\n",
       "      <td>4</td>\n",
       "      <td>01</td>\n",
       "      <td>01</td>\n",
       "      <td>10958 days</td>\n",
       "      <td>30</td>\n",
       "      <td>2.0</td>\n",
       "      <td>3</td>\n",
       "      <td>2.0</td>\n",
       "      <td>5.521783</td>\n",
       "    </tr>\n",
       "    <tr>\n",
       "      <th>2</th>\n",
       "      <td>850</td>\n",
       "      <td>01/1999</td>\n",
       "      <td>0</td>\n",
       "      <td>01/2029</td>\n",
       "      <td>29940</td>\n",
       "      <td>0</td>\n",
       "      <td>1</td>\n",
       "      <td>O</td>\n",
       "      <td>75</td>\n",
       "      <td>16</td>\n",
       "      <td>88000</td>\n",
       "      <td>75</td>\n",
       "      <td>6.875</td>\n",
       "      <td>T</td>\n",
       "      <td>0</td>\n",
       "      <td>KS</td>\n",
       "      <td>SF</td>\n",
       "      <td>N</td>\n",
       "      <td>360</td>\n",
       "      <td>2</td>\n",
       "      <td>FL</td>\n",
       "      <td>WASHINGTONMUTUALBANK</td>\n",
       "      <td>0</td>\n",
       "      <td>0</td>\n",
       "      <td>67</td>\n",
       "      <td>1999</td>\n",
       "      <td>4</td>\n",
       "      <td>01</td>\n",
       "      <td>01</td>\n",
       "      <td>10958 days</td>\n",
       "      <td>30</td>\n",
       "      <td>2.0</td>\n",
       "      <td>3</td>\n",
       "      <td>1.0</td>\n",
       "      <td>2.939212</td>\n",
       "    </tr>\n",
       "    <tr>\n",
       "      <th>3</th>\n",
       "      <td>850</td>\n",
       "      <td>01/1999</td>\n",
       "      <td>0</td>\n",
       "      <td>01/2029</td>\n",
       "      <td>31084</td>\n",
       "      <td>0</td>\n",
       "      <td>1</td>\n",
       "      <td>O</td>\n",
       "      <td>76</td>\n",
       "      <td>14</td>\n",
       "      <td>160000</td>\n",
       "      <td>76</td>\n",
       "      <td>6.875</td>\n",
       "      <td>R</td>\n",
       "      <td>0</td>\n",
       "      <td>CA</td>\n",
       "      <td>SF</td>\n",
       "      <td>N</td>\n",
       "      <td>360</td>\n",
       "      <td>2</td>\n",
       "      <td>GM</td>\n",
       "      <td>GMACMTGECORP</td>\n",
       "      <td>0</td>\n",
       "      <td>0</td>\n",
       "      <td>35</td>\n",
       "      <td>1999</td>\n",
       "      <td>4</td>\n",
       "      <td>01</td>\n",
       "      <td>01</td>\n",
       "      <td>10958 days</td>\n",
       "      <td>30</td>\n",
       "      <td>2.0</td>\n",
       "      <td>3</td>\n",
       "      <td>0.0</td>\n",
       "      <td>5.147343</td>\n",
       "    </tr>\n",
       "    <tr>\n",
       "      <th>4</th>\n",
       "      <td>850</td>\n",
       "      <td>01/1999</td>\n",
       "      <td>0</td>\n",
       "      <td>01/2029</td>\n",
       "      <td>35644</td>\n",
       "      <td>0</td>\n",
       "      <td>1</td>\n",
       "      <td>O</td>\n",
       "      <td>78</td>\n",
       "      <td>18</td>\n",
       "      <td>109000</td>\n",
       "      <td>78</td>\n",
       "      <td>7.125</td>\n",
       "      <td>R</td>\n",
       "      <td>0</td>\n",
       "      <td>NJ</td>\n",
       "      <td>SF</td>\n",
       "      <td>N</td>\n",
       "      <td>360</td>\n",
       "      <td>2</td>\n",
       "      <td>GM</td>\n",
       "      <td>GMACMTGECORP</td>\n",
       "      <td>0</td>\n",
       "      <td>0</td>\n",
       "      <td>54</td>\n",
       "      <td>1999</td>\n",
       "      <td>4</td>\n",
       "      <td>01</td>\n",
       "      <td>01</td>\n",
       "      <td>10958 days</td>\n",
       "      <td>30</td>\n",
       "      <td>3.0</td>\n",
       "      <td>3</td>\n",
       "      <td>1.0</td>\n",
       "      <td>3.058018</td>\n",
       "    </tr>\n",
       "  </tbody>\n",
       "</table>\n",
       "</div>"
      ],
      "text/plain": [
       "   CreditScore FirstPaymentDate  FirstTimeHomebuyer MaturityDate    MSA  MIP  \\\n",
       "0          850          01/1999                   0      01/2029  16974   25   \n",
       "1          850          01/1999                   0      01/2029  19740    0   \n",
       "2          850          01/1999                   0      01/2029  29940    0   \n",
       "3          850          01/1999                   0      01/2029  31084    0   \n",
       "4          850          01/1999                   0      01/2029  35644    0   \n",
       "\n",
       "   Units Occupancy  OCLTV  DTI  OrigUPB  LTV  OrigInterestRate Channel  PPM  \\\n",
       "0      1         O     89   27   117000   89             6.750       T    0   \n",
       "1      1         O     73   17   109000   73             6.500       R    0   \n",
       "2      1         O     75   16    88000   75             6.875       T    0   \n",
       "3      1         O     76   14   160000   76             6.875       R    0   \n",
       "4      1         O     78   18   109000   78             7.125       R    0   \n",
       "\n",
       "  PropertyState PropertyType LoanPurpose  OrigLoanTerm NumBorrowers  \\\n",
       "0            IL           SF           P           360            2   \n",
       "1            CO           SF           N           360            1   \n",
       "2            KS           SF           N           360            2   \n",
       "3            CA           SF           N           360            2   \n",
       "4            NJ           SF           N           360            2   \n",
       "\n",
       "  SellerName          ServicerName  EverDelinquent  MonthsDelinquent  \\\n",
       "0         FL  WASHINGTONMUTUALBANK               0                 0   \n",
       "1         FT  CHASEHOMEFINANCELLC                0                 0   \n",
       "2         FL  WASHINGTONMUTUALBANK               0                 0   \n",
       "3         GM  GMACMTGECORP                       0                 0   \n",
       "4         GM  GMACMTGECORP                       0                 0   \n",
       "\n",
       "   MonthsInRepayment  Year  CreditScoreRange FirstPaymentMonth MaturityMonth  \\\n",
       "0                 52  1999                 4                01            01   \n",
       "1                144  1999                 4                01            01   \n",
       "2                 67  1999                 4                01            01   \n",
       "3                 35  1999                 4                01            01   \n",
       "4                 54  1999                 4                01            01   \n",
       "\n",
       "  LoanDuration  LoanDurationYear  OrigInterestRateRange  LTVRange  \\\n",
       "0   10958 days                30                    2.0         3   \n",
       "1   10958 days                30                    2.0         3   \n",
       "2   10958 days                30                    2.0         3   \n",
       "3   10958 days                30                    2.0         3   \n",
       "4   10958 days                30                    3.0         3   \n",
       "\n",
       "   RepaymentRange  UPBtoMSA  \n",
       "0             1.0  6.892895  \n",
       "1             2.0  5.521783  \n",
       "2             1.0  2.939212  \n",
       "3             0.0  5.147343  \n",
       "4             1.0  3.058018  "
      ]
     },
     "execution_count": 56,
     "metadata": {},
     "output_type": "execute_result"
    }
   ],
   "source": [
    "\n",
    "from sklearn.preprocessing import OrdinalEncoder\n",
    "import pandas as pd\n",
    "\n",
    "columns_to_encode = [\n",
    "    'OrigInterestRateRange',\n",
    "    'RepaymentRange'\n",
    "    ]\n",
    "\n",
    "category_order = [\n",
    "   \n",
    "    ['below_5', '5_and_below_6', '6_and_below_7', '7_and_below_8','8_and_below_9','9_and_below_10','10_and_below_11','11_and_below_12','above_12'],\n",
    "    ['0-48', '48-96', '96-144','144-192','192-240']\n",
    "]\n",
    "\n",
    "# Initialize the OrdinalEncoder with specified category order\n",
    "ordinal_encoder = OrdinalEncoder(categories=category_order)\n",
    "\n",
    "# Encode the specified columns\n",
    "data[columns_to_encode] = ordinal_encoder.fit_transform(data[columns_to_encode])\n",
    "\n",
    "# Print the encoded dataset\n",
    "data.head()\n"
   ]
  },
  {
   "cell_type": "markdown",
   "id": "aef57259",
   "metadata": {},
   "source": [
    "# Feature engineering\n",
    "\n"
   ]
  },
  {
   "cell_type": "markdown",
   "id": "4ef0763e",
   "metadata": {},
   "source": [
    "## Droping unnecessary columns"
   ]
  },
  {
   "cell_type": "code",
   "execution_count": 57,
   "id": "bad06c05",
   "metadata": {},
   "outputs": [
    {
     "data": {
      "text/plain": [
       "(181248, 15)"
      ]
     },
     "execution_count": 57,
     "metadata": {},
     "output_type": "execute_result"
    }
   ],
   "source": [
    "data.drop(['FirstPaymentDate','MaturityDate','Units','Occupancy','Year','MSA','OrigUPB','Channel','PropertyState','PropertyType','LoanPurpose','SellerName','ServicerName','FirstPaymentMonth','MaturityMonth','LoanDuration','LoanDurationYear','OrigInterestRateRange','UPBtoMSA','MonthsDelinquent'],axis=1, inplace=True)\n",
    "data.shape"
   ]
  },
  {
   "cell_type": "code",
   "execution_count": 58,
   "id": "f7d69aab",
   "metadata": {},
   "outputs": [
    {
     "data": {
      "text/html": [
       "<div>\n",
       "<style scoped>\n",
       "    .dataframe tbody tr th:only-of-type {\n",
       "        vertical-align: middle;\n",
       "    }\n",
       "\n",
       "    .dataframe tbody tr th {\n",
       "        vertical-align: top;\n",
       "    }\n",
       "\n",
       "    .dataframe thead th {\n",
       "        text-align: right;\n",
       "    }\n",
       "</style>\n",
       "<table border=\"1\" class=\"dataframe\">\n",
       "  <thead>\n",
       "    <tr style=\"text-align: right;\">\n",
       "      <th></th>\n",
       "      <th>CreditScore</th>\n",
       "      <th>FirstTimeHomebuyer</th>\n",
       "      <th>MIP</th>\n",
       "      <th>OCLTV</th>\n",
       "      <th>DTI</th>\n",
       "      <th>LTV</th>\n",
       "      <th>OrigInterestRate</th>\n",
       "      <th>PPM</th>\n",
       "      <th>OrigLoanTerm</th>\n",
       "      <th>NumBorrowers</th>\n",
       "      <th>EverDelinquent</th>\n",
       "      <th>MonthsInRepayment</th>\n",
       "      <th>CreditScoreRange</th>\n",
       "      <th>LTVRange</th>\n",
       "      <th>RepaymentRange</th>\n",
       "    </tr>\n",
       "  </thead>\n",
       "  <tbody>\n",
       "    <tr>\n",
       "      <th>0</th>\n",
       "      <td>850</td>\n",
       "      <td>0</td>\n",
       "      <td>25</td>\n",
       "      <td>89</td>\n",
       "      <td>27</td>\n",
       "      <td>89</td>\n",
       "      <td>6.750</td>\n",
       "      <td>0</td>\n",
       "      <td>360</td>\n",
       "      <td>2</td>\n",
       "      <td>0</td>\n",
       "      <td>52</td>\n",
       "      <td>4</td>\n",
       "      <td>3</td>\n",
       "      <td>1.0</td>\n",
       "    </tr>\n",
       "    <tr>\n",
       "      <th>1</th>\n",
       "      <td>850</td>\n",
       "      <td>0</td>\n",
       "      <td>0</td>\n",
       "      <td>73</td>\n",
       "      <td>17</td>\n",
       "      <td>73</td>\n",
       "      <td>6.500</td>\n",
       "      <td>0</td>\n",
       "      <td>360</td>\n",
       "      <td>1</td>\n",
       "      <td>0</td>\n",
       "      <td>144</td>\n",
       "      <td>4</td>\n",
       "      <td>3</td>\n",
       "      <td>2.0</td>\n",
       "    </tr>\n",
       "    <tr>\n",
       "      <th>2</th>\n",
       "      <td>850</td>\n",
       "      <td>0</td>\n",
       "      <td>0</td>\n",
       "      <td>75</td>\n",
       "      <td>16</td>\n",
       "      <td>75</td>\n",
       "      <td>6.875</td>\n",
       "      <td>0</td>\n",
       "      <td>360</td>\n",
       "      <td>2</td>\n",
       "      <td>0</td>\n",
       "      <td>67</td>\n",
       "      <td>4</td>\n",
       "      <td>3</td>\n",
       "      <td>1.0</td>\n",
       "    </tr>\n",
       "    <tr>\n",
       "      <th>3</th>\n",
       "      <td>850</td>\n",
       "      <td>0</td>\n",
       "      <td>0</td>\n",
       "      <td>76</td>\n",
       "      <td>14</td>\n",
       "      <td>76</td>\n",
       "      <td>6.875</td>\n",
       "      <td>0</td>\n",
       "      <td>360</td>\n",
       "      <td>2</td>\n",
       "      <td>0</td>\n",
       "      <td>35</td>\n",
       "      <td>4</td>\n",
       "      <td>3</td>\n",
       "      <td>0.0</td>\n",
       "    </tr>\n",
       "    <tr>\n",
       "      <th>4</th>\n",
       "      <td>850</td>\n",
       "      <td>0</td>\n",
       "      <td>0</td>\n",
       "      <td>78</td>\n",
       "      <td>18</td>\n",
       "      <td>78</td>\n",
       "      <td>7.125</td>\n",
       "      <td>0</td>\n",
       "      <td>360</td>\n",
       "      <td>2</td>\n",
       "      <td>0</td>\n",
       "      <td>54</td>\n",
       "      <td>4</td>\n",
       "      <td>3</td>\n",
       "      <td>1.0</td>\n",
       "    </tr>\n",
       "  </tbody>\n",
       "</table>\n",
       "</div>"
      ],
      "text/plain": [
       "   CreditScore  FirstTimeHomebuyer  MIP  OCLTV  DTI  LTV  OrigInterestRate  \\\n",
       "0          850                   0   25     89   27   89             6.750   \n",
       "1          850                   0    0     73   17   73             6.500   \n",
       "2          850                   0    0     75   16   75             6.875   \n",
       "3          850                   0    0     76   14   76             6.875   \n",
       "4          850                   0    0     78   18   78             7.125   \n",
       "\n",
       "   PPM  OrigLoanTerm NumBorrowers  EverDelinquent  MonthsInRepayment  \\\n",
       "0    0           360            2               0                 52   \n",
       "1    0           360            1               0                144   \n",
       "2    0           360            2               0                 67   \n",
       "3    0           360            2               0                 35   \n",
       "4    0           360            2               0                 54   \n",
       "\n",
       "   CreditScoreRange  LTVRange  RepaymentRange  \n",
       "0                 4         3             1.0  \n",
       "1                 4         3             2.0  \n",
       "2                 4         3             1.0  \n",
       "3                 4         3             0.0  \n",
       "4                 4         3             1.0  "
      ]
     },
     "execution_count": 58,
     "metadata": {},
     "output_type": "execute_result"
    }
   ],
   "source": [
    "data.head()"
   ]
  },
  {
   "cell_type": "code",
   "execution_count": 59,
   "id": "5683e81e",
   "metadata": {},
   "outputs": [
    {
     "data": {
      "image/png": "[encoded data removed]",
      "text/plain": [
       "<Figure size 864x432 with 1 Axes>"
      ]
     },
     "metadata": {
      "needs_background": "light"
     },
     "output_type": "display_data"
    }
   ],
   "source": [
    "plt.figure(figsize=(12, 6))\n",
    "data.boxplot()\n",
    "plt.xticks(rotation=90)  # Rotate the x-axis labels by 90 degrees\n",
    "plt.title(\"Boxplot of Data\", fontsize=20)\n",
    "plt.show()"
   ]
  },
  {
   "cell_type": "markdown",
   "id": "5c46defe",
   "metadata": {},
   "source": [
    "## We have seen that there were many outliers in the data, we will remove them."
   ]
  },
  {
   "cell_type": "code",
   "execution_count": 60,
   "id": "4cea3884",
   "metadata": {},
   "outputs": [
    {
     "data": {
      "text/plain": [
       "\"\\ndef remove_outliers(data, columns, threshold=1.5):\\n    df = data.copy()\\n    for column in columns:\\n        q1 = df[column].quantile(0.25)\\n        q3 = df[column].quantile(0.75)\\n        iqr = q3 - q1\\n        lower_bound = q1 - threshold * iqr\\n        upper_bound = q3 + threshold * iqr\\n        df = df[(df[column] >= lower_bound) & (df[column] <= upper_bound)]\\n    return df\\n# Example usage\\noutlier_columns = ['CreditScore', 'LTV']\\ndata = remove_outliers(data, outlier_columns)\\n\""
      ]
     },
     "execution_count": 60,
     "metadata": {},
     "output_type": "execute_result"
    }
   ],
   "source": [
    "'''\n",
    "def remove_outliers(data, columns, threshold=1.5):\n",
    "    df = data.copy()\n",
    "    for column in columns:\n",
    "        q1 = df[column].quantile(0.25)\n",
    "        q3 = df[column].quantile(0.75)\n",
    "        iqr = q3 - q1\n",
    "        lower_bound = q1 - threshold * iqr\n",
    "        upper_bound = q3 + threshold * iqr\n",
    "        df = df[(df[column] >= lower_bound) & (df[column] <= upper_bound)]\n",
    "    return df\n",
    "# Example usage\n",
    "outlier_columns = ['CreditScore', 'LTV']\n",
    "data = remove_outliers(data, outlier_columns)\n",
    "'''\n"
   ]
  },
  {
   "cell_type": "code",
   "execution_count": 61,
   "id": "35341d9c",
   "metadata": {},
   "outputs": [
    {
     "name": "stdout",
     "output_type": "stream",
     "text": [
      "<class 'pandas.core.frame.DataFrame'>\n",
      "Int64Index: 181248 entries, 0 to 291450\n",
      "Data columns (total 15 columns):\n",
      " #   Column              Non-Null Count   Dtype  \n",
      "---  ------              --------------   -----  \n",
      " 0   CreditScore         181248 non-null  int64  \n",
      " 1   FirstTimeHomebuyer  181248 non-null  int32  \n",
      " 2   MIP                 181248 non-null  int64  \n",
      " 3   OCLTV               181248 non-null  int64  \n",
      " 4   DTI                 181248 non-null  int64  \n",
      " 5   LTV                 181248 non-null  int64  \n",
      " 6   OrigInterestRate    181248 non-null  float64\n",
      " 7   PPM                 181248 non-null  int32  \n",
      " 8   OrigLoanTerm        181248 non-null  int64  \n",
      " 9   NumBorrowers        181248 non-null  object \n",
      " 10  EverDelinquent      181248 non-null  int64  \n",
      " 11  MonthsInRepayment   181248 non-null  int64  \n",
      " 12  CreditScoreRange    181248 non-null  int32  \n",
      " 13  LTVRange            181248 non-null  int32  \n",
      " 14  RepaymentRange      181248 non-null  float64\n",
      "dtypes: float64(2), int32(4), int64(8), object(1)\n",
      "memory usage: 19.4+ MB\n"
     ]
    }
   ],
   "source": [
    "data.info()"
   ]
  },
  {
   "cell_type": "markdown",
   "id": "cc5e43c7",
   "metadata": {},
   "source": [
    "## There is a chance of overfitting of the data, so we smote function to balance the data"
   ]
  },
  {
   "cell_type": "code",
   "execution_count": 62,
   "id": "95c0b0cc",
   "metadata": {},
   "outputs": [
    {
     "data": {
      "text/html": [
       "<div>\n",
       "<style scoped>\n",
       "    .dataframe tbody tr th:only-of-type {\n",
       "        vertical-align: middle;\n",
       "    }\n",
       "\n",
       "    .dataframe tbody tr th {\n",
       "        vertical-align: top;\n",
       "    }\n",
       "\n",
       "    .dataframe thead th {\n",
       "        text-align: right;\n",
       "    }\n",
       "</style>\n",
       "<table border=\"1\" class=\"dataframe\">\n",
       "  <thead>\n",
       "    <tr style=\"text-align: right;\">\n",
       "      <th></th>\n",
       "      <th>Specs</th>\n",
       "      <th>Score</th>\n",
       "    </tr>\n",
       "  </thead>\n",
       "  <tbody>\n",
       "    <tr>\n",
       "      <th>10</th>\n",
       "      <td>MonthsInRepayment</td>\n",
       "      <td>312110.752101</td>\n",
       "    </tr>\n",
       "    <tr>\n",
       "      <th>0</th>\n",
       "      <td>CreditScore</td>\n",
       "      <td>41422.627934</td>\n",
       "    </tr>\n",
       "    <tr>\n",
       "      <th>2</th>\n",
       "      <td>MIP</td>\n",
       "      <td>13589.055889</td>\n",
       "    </tr>\n",
       "    <tr>\n",
       "      <th>13</th>\n",
       "      <td>RepaymentRange</td>\n",
       "      <td>11659.226762</td>\n",
       "    </tr>\n",
       "    <tr>\n",
       "      <th>11</th>\n",
       "      <td>CreditScoreRange</td>\n",
       "      <td>3966.108289</td>\n",
       "    </tr>\n",
       "    <tr>\n",
       "      <th>5</th>\n",
       "      <td>LTV</td>\n",
       "      <td>2695.271685</td>\n",
       "    </tr>\n",
       "    <tr>\n",
       "      <th>3</th>\n",
       "      <td>OCLTV</td>\n",
       "      <td>2674.773182</td>\n",
       "    </tr>\n",
       "    <tr>\n",
       "      <th>4</th>\n",
       "      <td>DTI</td>\n",
       "      <td>1653.321540</td>\n",
       "    </tr>\n",
       "    <tr>\n",
       "      <th>9</th>\n",
       "      <td>NumBorrowers</td>\n",
       "      <td>139.410894</td>\n",
       "    </tr>\n",
       "    <tr>\n",
       "      <th>7</th>\n",
       "      <td>PPM</td>\n",
       "      <td>31.128898</td>\n",
       "    </tr>\n",
       "    <tr>\n",
       "      <th>6</th>\n",
       "      <td>OrigInterestRate</td>\n",
       "      <td>11.291461</td>\n",
       "    </tr>\n",
       "    <tr>\n",
       "      <th>12</th>\n",
       "      <td>LTVRange</td>\n",
       "      <td>7.548964</td>\n",
       "    </tr>\n",
       "    <tr>\n",
       "      <th>1</th>\n",
       "      <td>FirstTimeHomebuyer</td>\n",
       "      <td>4.593519</td>\n",
       "    </tr>\n",
       "    <tr>\n",
       "      <th>8</th>\n",
       "      <td>OrigLoanTerm</td>\n",
       "      <td>0.218523</td>\n",
       "    </tr>\n",
       "  </tbody>\n",
       "</table>\n",
       "</div>"
      ],
      "text/plain": [
       "                 Specs          Score\n",
       "10   MonthsInRepayment  312110.752101\n",
       "0          CreditScore   41422.627934\n",
       "2                  MIP   13589.055889\n",
       "13      RepaymentRange   11659.226762\n",
       "11    CreditScoreRange    3966.108289\n",
       "5                  LTV    2695.271685\n",
       "3                OCLTV    2674.773182\n",
       "4                  DTI    1653.321540\n",
       "9         NumBorrowers     139.410894\n",
       "7                  PPM      31.128898\n",
       "6     OrigInterestRate      11.291461\n",
       "12            LTVRange       7.548964\n",
       "1   FirstTimeHomebuyer       4.593519\n",
       "8         OrigLoanTerm       0.218523"
      ]
     },
     "execution_count": 62,
     "metadata": {},
     "output_type": "execute_result"
    }
   ],
   "source": [
    "\n",
    "from sklearn.feature_selection import SelectKBest\n",
    "from sklearn.feature_selection import chi2\n",
    "\n",
    "x = data.drop(\"EverDelinquent\", axis=1)\n",
    "y = data[\"EverDelinquent\"]\n",
    "\n",
    "bestfeatures = SelectKBest(score_func=chi2, k=14)\n",
    "fit = bestfeatures.fit(x, y)\n",
    "\n",
    "dfscores = pd.DataFrame(fit.scores_)\n",
    "dfcolumns = pd.DataFrame(x.columns)\n",
    "\n",
    "featureScores = pd.concat([dfcolumns, dfscores], axis=1)\n",
    "featureScores.columns = ['Specs', 'Score']\n",
    "featureScores.sort_values(by='Score', ascending=False)"
   ]
  },
  {
   "cell_type": "code",
   "execution_count": 63,
   "id": "a163ca00",
   "metadata": {},
   "outputs": [],
   "source": [
    "from imblearn.combine import SMOTETomek\n",
    "\n",
    "smt = SMOTETomek(random_state=42)\n",
    "x_smote, y_smote = smt.fit_resample(x, y)\n"
   ]
  },
  {
   "cell_type": "code",
   "execution_count": 64,
   "id": "54bdf15c",
   "metadata": {},
   "outputs": [],
   "source": [
    "#Now Concat the x_smote and y_smote and make balance dataframe\n",
    "df_smote_over = pd.concat([pd.DataFrame(x_smote,columns=['CreditScore','FirstTimeHomebuyer','MIP','OCLTV','DTI','LTV','OrigInterestRate','PPM','OrigLoanTerm','NumBorrowers','MonthsInRepayment','CreditScoreRange','LTVRange','RepaymentRange']), pd.DataFrame(y_smote, columns=['EverDelinquent'])], axis=1)"
   ]
  },
  {
   "cell_type": "code",
   "execution_count": 65,
   "id": "3bf7e17b",
   "metadata": {},
   "outputs": [],
   "source": [
    "\n",
    "\n",
    "df_smote_over = df_smote_over.astype(int)\n",
    "\n",
    "#converting EveryColumn into int datatype except \"OrigInterestRate\"\n",
    "for x in df_smote_over.columns:\n",
    "  if(x==\"OrigInterestRate\"):\n",
    "    continue\n",
    "  df_smote_over[x]=df_smote_over[x].astype(int)"
   ]
  },
  {
   "cell_type": "code",
   "execution_count": 66,
   "id": "7ba89433",
   "metadata": {},
   "outputs": [
    {
     "name": "stdout",
     "output_type": "stream",
     "text": [
      "<class 'pandas.core.frame.DataFrame'>\n",
      "RangeIndex: 284046 entries, 0 to 284045\n",
      "Data columns (total 15 columns):\n",
      " #   Column              Non-Null Count   Dtype\n",
      "---  ------              --------------   -----\n",
      " 0   CreditScore         284046 non-null  int32\n",
      " 1   FirstTimeHomebuyer  284046 non-null  int32\n",
      " 2   MIP                 284046 non-null  int32\n",
      " 3   OCLTV               284046 non-null  int32\n",
      " 4   DTI                 284046 non-null  int32\n",
      " 5   LTV                 284046 non-null  int32\n",
      " 6   OrigInterestRate    284046 non-null  int32\n",
      " 7   PPM                 284046 non-null  int32\n",
      " 8   OrigLoanTerm        284046 non-null  int32\n",
      " 9   NumBorrowers        284046 non-null  int32\n",
      " 10  MonthsInRepayment   284046 non-null  int32\n",
      " 11  CreditScoreRange    284046 non-null  int32\n",
      " 12  LTVRange            284046 non-null  int32\n",
      " 13  RepaymentRange      284046 non-null  int32\n",
      " 14  EverDelinquent      284046 non-null  int32\n",
      "dtypes: int32(15)\n",
      "memory usage: 16.3 MB\n"
     ]
    }
   ],
   "source": [
    "df_smote_over.info()"
   ]
  },
  {
   "cell_type": "markdown",
   "id": "1f7d1d8d",
   "metadata": {},
   "source": [
    "## We will scale the data"
   ]
  },
  {
   "cell_type": "code",
   "execution_count": 67,
   "id": "d2c30703",
   "metadata": {},
   "outputs": [
    {
     "data": {
      "text/html": [
       "<div>\n",
       "<style scoped>\n",
       "    .dataframe tbody tr th:only-of-type {\n",
       "        vertical-align: middle;\n",
       "    }\n",
       "\n",
       "    .dataframe tbody tr th {\n",
       "        vertical-align: top;\n",
       "    }\n",
       "\n",
       "    .dataframe thead th {\n",
       "        text-align: right;\n",
       "    }\n",
       "</style>\n",
       "<table border=\"1\" class=\"dataframe\">\n",
       "  <thead>\n",
       "    <tr style=\"text-align: right;\">\n",
       "      <th></th>\n",
       "      <th>CreditScore</th>\n",
       "      <th>FirstTimeHomebuyer</th>\n",
       "      <th>MIP</th>\n",
       "      <th>OCLTV</th>\n",
       "      <th>DTI</th>\n",
       "      <th>LTV</th>\n",
       "      <th>OrigInterestRate</th>\n",
       "      <th>PPM</th>\n",
       "      <th>OrigLoanTerm</th>\n",
       "      <th>NumBorrowers</th>\n",
       "      <th>MonthsInRepayment</th>\n",
       "      <th>CreditScoreRange</th>\n",
       "      <th>LTVRange</th>\n",
       "      <th>RepaymentRange</th>\n",
       "      <th>EverDelinquent</th>\n",
       "    </tr>\n",
       "  </thead>\n",
       "  <tbody>\n",
       "    <tr>\n",
       "      <th>0</th>\n",
       "      <td>2.776793</td>\n",
       "      <td>-0.333571</td>\n",
       "      <td>1.031809</td>\n",
       "      <td>0.669761</td>\n",
       "      <td>-0.440800</td>\n",
       "      <td>0.671404</td>\n",
       "      <td>-0.787062</td>\n",
       "      <td>-0.113713</td>\n",
       "      <td>0.060409</td>\n",
       "      <td>0.965216</td>\n",
       "      <td>-0.301058</td>\n",
       "      <td>1.417519</td>\n",
       "      <td>0.246973</td>\n",
       "      <td>0.097737</td>\n",
       "      <td>0</td>\n",
       "    </tr>\n",
       "    <tr>\n",
       "      <th>1</th>\n",
       "      <td>2.776793</td>\n",
       "      <td>-0.333571</td>\n",
       "      <td>-0.842557</td>\n",
       "      <td>-0.268027</td>\n",
       "      <td>-1.425393</td>\n",
       "      <td>-0.266793</td>\n",
       "      <td>-0.787062</td>\n",
       "      <td>-0.113713</td>\n",
       "      <td>0.060409</td>\n",
       "      <td>0.965216</td>\n",
       "      <td>-0.003695</td>\n",
       "      <td>1.417519</td>\n",
       "      <td>0.246973</td>\n",
       "      <td>0.097737</td>\n",
       "      <td>0</td>\n",
       "    </tr>\n",
       "    <tr>\n",
       "      <th>2</th>\n",
       "      <td>2.776793</td>\n",
       "      <td>-0.333571</td>\n",
       "      <td>-0.842557</td>\n",
       "      <td>-0.201043</td>\n",
       "      <td>-1.604410</td>\n",
       "      <td>-0.199779</td>\n",
       "      <td>-0.787062</td>\n",
       "      <td>-0.113713</td>\n",
       "      <td>0.060409</td>\n",
       "      <td>0.965216</td>\n",
       "      <td>-0.638068</td>\n",
       "      <td>1.417519</td>\n",
       "      <td>0.246973</td>\n",
       "      <td>-0.796590</td>\n",
       "      <td>0</td>\n",
       "    </tr>\n",
       "    <tr>\n",
       "      <th>3</th>\n",
       "      <td>2.776793</td>\n",
       "      <td>-0.333571</td>\n",
       "      <td>-0.842557</td>\n",
       "      <td>-0.067073</td>\n",
       "      <td>-1.246376</td>\n",
       "      <td>-0.065751</td>\n",
       "      <td>1.151172</td>\n",
       "      <td>-0.113713</td>\n",
       "      <td>0.060409</td>\n",
       "      <td>0.965216</td>\n",
       "      <td>-0.261409</td>\n",
       "      <td>1.417519</td>\n",
       "      <td>0.246973</td>\n",
       "      <td>0.097737</td>\n",
       "      <td>0</td>\n",
       "    </tr>\n",
       "    <tr>\n",
       "      <th>4</th>\n",
       "      <td>2.776793</td>\n",
       "      <td>2.997866</td>\n",
       "      <td>1.406683</td>\n",
       "      <td>1.071670</td>\n",
       "      <td>-0.440800</td>\n",
       "      <td>1.073488</td>\n",
       "      <td>1.151172</td>\n",
       "      <td>-0.113713</td>\n",
       "      <td>0.060409</td>\n",
       "      <td>-1.036038</td>\n",
       "      <td>2.870805</td>\n",
       "      <td>1.417519</td>\n",
       "      <td>0.246973</td>\n",
       "      <td>2.780716</td>\n",
       "      <td>1</td>\n",
       "    </tr>\n",
       "  </tbody>\n",
       "</table>\n",
       "</div>"
      ],
      "text/plain": [
       "   CreditScore  FirstTimeHomebuyer       MIP     OCLTV       DTI       LTV  \\\n",
       "0     2.776793           -0.333571  1.031809  0.669761 -0.440800  0.671404   \n",
       "1     2.776793           -0.333571 -0.842557 -0.268027 -1.425393 -0.266793   \n",
       "2     2.776793           -0.333571 -0.842557 -0.201043 -1.604410 -0.199779   \n",
       "3     2.776793           -0.333571 -0.842557 -0.067073 -1.246376 -0.065751   \n",
       "4     2.776793            2.997866  1.406683  1.071670 -0.440800  1.073488   \n",
       "\n",
       "   OrigInterestRate       PPM  OrigLoanTerm  NumBorrowers  MonthsInRepayment  \\\n",
       "0         -0.787062 -0.113713      0.060409      0.965216          -0.301058   \n",
       "1         -0.787062 -0.113713      0.060409      0.965216          -0.003695   \n",
       "2         -0.787062 -0.113713      0.060409      0.965216          -0.638068   \n",
       "3          1.151172 -0.113713      0.060409      0.965216          -0.261409   \n",
       "4          1.151172 -0.113713      0.060409     -1.036038           2.870805   \n",
       "\n",
       "   CreditScoreRange  LTVRange  RepaymentRange  EverDelinquent  \n",
       "0          1.417519  0.246973        0.097737               0  \n",
       "1          1.417519  0.246973        0.097737               0  \n",
       "2          1.417519  0.246973       -0.796590               0  \n",
       "3          1.417519  0.246973        0.097737               0  \n",
       "4          1.417519  0.246973        2.780716               1  "
      ]
     },
     "execution_count": 67,
     "metadata": {},
     "output_type": "execute_result"
    }
   ],
   "source": [
    "from sklearn.preprocessing import StandardScaler\n",
    "\n",
    "# Create a copy of the DataFrame\n",
    "df = df_smote_over.copy()\n",
    "\n",
    "# Select the columns to scale\n",
    "columns_to_scale = df_smote_over.columns.drop('EverDelinquent')\n",
    "\n",
    "# Initialize the scaler\n",
    "scaler = StandardScaler()\n",
    "\n",
    "# Scale the selected columns\n",
    "df[columns_to_scale] = scaler.fit_transform(df[columns_to_scale])\n",
    "\n",
    "df.head()\n",
    "\n"
   ]
  },
  {
   "cell_type": "code",
   "execution_count": 68,
   "id": "08eb1f9d",
   "metadata": {
    "scrolled": true
   },
   "outputs": [
    {
     "name": "stdout",
     "output_type": "stream",
     "text": [
      "CreditScore           7.812703e-16\n",
      "FirstTimeHomebuyer    4.482699e-17\n",
      "MIP                   5.923566e-17\n",
      "OCLTV                -2.905749e-16\n",
      "DTI                  -3.592162e-17\n",
      "LTV                  -3.728244e-16\n",
      "OrigInterestRate      1.098661e-16\n",
      "PPM                   3.322000e-17\n",
      "OrigLoanTerm         -1.012179e-14\n",
      "NumBorrowers         -1.408848e-16\n",
      "MonthsInRepayment     6.644000e-17\n",
      "CreditScoreRange     -1.953176e-16\n",
      "LTVRange             -4.304591e-16\n",
      "RepaymentRange       -7.284385e-17\n",
      "EverDelinquent        5.000000e-01\n",
      "dtype: float64\n",
      "CreditScore           1.0\n",
      "FirstTimeHomebuyer    1.0\n",
      "MIP                   1.0\n",
      "OCLTV                 1.0\n",
      "DTI                   1.0\n",
      "LTV                   1.0\n",
      "OrigInterestRate      1.0\n",
      "PPM                   1.0\n",
      "OrigLoanTerm          1.0\n",
      "NumBorrowers          1.0\n",
      "MonthsInRepayment     1.0\n",
      "CreditScoreRange      1.0\n",
      "LTVRange              1.0\n",
      "RepaymentRange        1.0\n",
      "EverDelinquent        0.5\n",
      "dtype: float64\n"
     ]
    }
   ],
   "source": [
    "df_numeric = df.select_dtypes(include=[np.number])\n",
    "print(np.mean(df_numeric))\n",
    "print(np.std(df_numeric))\n"
   ]
  },
  {
   "cell_type": "markdown",
   "id": "157ad039",
   "metadata": {},
   "source": [
    "## We will be splitting the data in to test and train datas. We will find accuracy of components "
   ]
  },
  {
   "cell_type": "code",
   "execution_count": 69,
   "id": "ecf8c7f4",
   "metadata": {},
   "outputs": [],
   "source": [
    "x = df.drop(\"EverDelinquent\", axis=1)\n",
    "y = df[\"EverDelinquent\"]"
   ]
  },
  {
   "cell_type": "code",
   "execution_count": 70,
   "id": "9434fca1",
   "metadata": {},
   "outputs": [
    {
     "data": {
      "text/html": [
       "<div>\n",
       "<style scoped>\n",
       "    .dataframe tbody tr th:only-of-type {\n",
       "        vertical-align: middle;\n",
       "    }\n",
       "\n",
       "    .dataframe tbody tr th {\n",
       "        vertical-align: top;\n",
       "    }\n",
       "\n",
       "    .dataframe thead th {\n",
       "        text-align: right;\n",
       "    }\n",
       "</style>\n",
       "<table border=\"1\" class=\"dataframe\">\n",
       "  <thead>\n",
       "    <tr style=\"text-align: right;\">\n",
       "      <th></th>\n",
       "      <th>CreditScore</th>\n",
       "      <th>FirstTimeHomebuyer</th>\n",
       "      <th>MIP</th>\n",
       "      <th>OCLTV</th>\n",
       "      <th>DTI</th>\n",
       "      <th>LTV</th>\n",
       "      <th>OrigInterestRate</th>\n",
       "      <th>PPM</th>\n",
       "      <th>OrigLoanTerm</th>\n",
       "      <th>NumBorrowers</th>\n",
       "      <th>MonthsInRepayment</th>\n",
       "      <th>CreditScoreRange</th>\n",
       "      <th>LTVRange</th>\n",
       "      <th>RepaymentRange</th>\n",
       "    </tr>\n",
       "  </thead>\n",
       "  <tbody>\n",
       "    <tr>\n",
       "      <th>0</th>\n",
       "      <td>0.127483</td>\n",
       "      <td>-1.317410</td>\n",
       "      <td>-2.890920</td>\n",
       "      <td>0.740646</td>\n",
       "      <td>0.678692</td>\n",
       "      <td>-0.380038</td>\n",
       "      <td>-0.429481</td>\n",
       "      <td>-0.029876</td>\n",
       "      <td>-0.384663</td>\n",
       "      <td>1.040226</td>\n",
       "      <td>0.143070</td>\n",
       "      <td>-0.974775</td>\n",
       "      <td>-0.263620</td>\n",
       "      <td>-0.000905</td>\n",
       "    </tr>\n",
       "    <tr>\n",
       "      <th>1</th>\n",
       "      <td>1.971412</td>\n",
       "      <td>-1.065704</td>\n",
       "      <td>-2.360985</td>\n",
       "      <td>1.279219</td>\n",
       "      <td>0.596094</td>\n",
       "      <td>-0.304423</td>\n",
       "      <td>-0.685615</td>\n",
       "      <td>0.382603</td>\n",
       "      <td>0.181078</td>\n",
       "      <td>-0.217418</td>\n",
       "      <td>-0.179011</td>\n",
       "      <td>-0.970290</td>\n",
       "      <td>-0.057067</td>\n",
       "      <td>-0.002436</td>\n",
       "    </tr>\n",
       "    <tr>\n",
       "      <th>2</th>\n",
       "      <td>1.790884</td>\n",
       "      <td>-2.051457</td>\n",
       "      <td>-2.046697</td>\n",
       "      <td>1.348356</td>\n",
       "      <td>0.611487</td>\n",
       "      <td>-0.326676</td>\n",
       "      <td>-0.715636</td>\n",
       "      <td>0.379849</td>\n",
       "      <td>0.491044</td>\n",
       "      <td>-0.219202</td>\n",
       "      <td>-0.240898</td>\n",
       "      <td>-0.970973</td>\n",
       "      <td>0.126954</td>\n",
       "      <td>-0.002529</td>\n",
       "    </tr>\n",
       "    <tr>\n",
       "      <th>3</th>\n",
       "      <td>1.541167</td>\n",
       "      <td>-1.409092</td>\n",
       "      <td>-2.103199</td>\n",
       "      <td>0.592388</td>\n",
       "      <td>0.048014</td>\n",
       "      <td>0.356574</td>\n",
       "      <td>-0.974544</td>\n",
       "      <td>1.614323</td>\n",
       "      <td>-0.624998</td>\n",
       "      <td>-0.410373</td>\n",
       "      <td>-0.361289</td>\n",
       "      <td>-0.971611</td>\n",
       "      <td>-0.248527</td>\n",
       "      <td>-0.002981</td>\n",
       "    </tr>\n",
       "    <tr>\n",
       "      <th>4</th>\n",
       "      <td>-0.614407</td>\n",
       "      <td>2.359522</td>\n",
       "      <td>-4.982492</td>\n",
       "      <td>-1.352901</td>\n",
       "      <td>-1.935075</td>\n",
       "      <td>1.761886</td>\n",
       "      <td>-0.884501</td>\n",
       "      <td>-0.192118</td>\n",
       "      <td>-0.571093</td>\n",
       "      <td>-0.357740</td>\n",
       "      <td>0.093177</td>\n",
       "      <td>-0.946191</td>\n",
       "      <td>0.067839</td>\n",
       "      <td>-0.001024</td>\n",
       "    </tr>\n",
       "  </tbody>\n",
       "</table>\n",
       "</div>"
      ],
      "text/plain": [
       "   CreditScore  FirstTimeHomebuyer       MIP     OCLTV       DTI       LTV  \\\n",
       "0     0.127483           -1.317410 -2.890920  0.740646  0.678692 -0.380038   \n",
       "1     1.971412           -1.065704 -2.360985  1.279219  0.596094 -0.304423   \n",
       "2     1.790884           -2.051457 -2.046697  1.348356  0.611487 -0.326676   \n",
       "3     1.541167           -1.409092 -2.103199  0.592388  0.048014  0.356574   \n",
       "4    -0.614407            2.359522 -4.982492 -1.352901 -1.935075  1.761886   \n",
       "\n",
       "   OrigInterestRate       PPM  OrigLoanTerm  NumBorrowers  MonthsInRepayment  \\\n",
       "0         -0.429481 -0.029876     -0.384663      1.040226           0.143070   \n",
       "1         -0.685615  0.382603      0.181078     -0.217418          -0.179011   \n",
       "2         -0.715636  0.379849      0.491044     -0.219202          -0.240898   \n",
       "3         -0.974544  1.614323     -0.624998     -0.410373          -0.361289   \n",
       "4         -0.884501 -0.192118     -0.571093     -0.357740           0.093177   \n",
       "\n",
       "   CreditScoreRange  LTVRange  RepaymentRange  \n",
       "0         -0.974775 -0.263620       -0.000905  \n",
       "1         -0.970290 -0.057067       -0.002436  \n",
       "2         -0.970973  0.126954       -0.002529  \n",
       "3         -0.971611 -0.248527       -0.002981  \n",
       "4         -0.946191  0.067839       -0.001024  "
      ]
     },
     "execution_count": 70,
     "metadata": {},
     "output_type": "execute_result"
    }
   ],
   "source": [
    "from sklearn.decomposition import PCA\n",
    "pca = PCA(n_components=14, svd_solver=\"full\")\n",
    "x = pd.DataFrame(pca.fit_transform(x), columns=x.columns)\n",
    "x.head()"
   ]
  },
  {
   "cell_type": "markdown",
   "id": "e5f18eb2",
   "metadata": {},
   "source": [
    "# Modeling"
   ]
  },
  {
   "cell_type": "code",
   "execution_count": 93,
   "id": "10932930",
   "metadata": {},
   "outputs": [],
   "source": [
    "# Supporting libraries\n",
    "from sklearn.model_selection import train_test_split\n",
    "from sklearn.metrics import accuracy_score,r2_score, precision_score, recall_score, f1_score, roc_auc_score\n",
    "from sklearn.model_selection import cross_val_score\n",
    "\n",
    "from sklearn import metrics \n",
    "from sklearn.metrics import mean_squared_error, r2_score,mean_absolute_error\n",
    "from sklearn.metrics import confusion_matrix, accuracy_score\n",
    "from sklearn.metrics import classification_report\n",
    "from sklearn import model_selection\n",
    "\n",
    "\n",
    "\n",
    "# Models\n",
    "from sklearn.linear_model import LogisticRegression\n",
    "from sklearn.ensemble import RandomForestClassifier\n",
    "import xgboost as xgb\n",
    "from sklearn.neighbors import KNeighborsClassifier\n",
    "\n",
    "#Improve Models\n",
    "from sklearn.model_selection import GridSearchCV\n",
    "from sklearn.metrics import precision_score\n"
   ]
  },
  {
   "cell_type": "markdown",
   "id": "a1d87cd1",
   "metadata": {},
   "source": [
    "## Splitting"
   ]
  },
  {
   "cell_type": "code",
   "execution_count": 142,
   "id": "697cfc05",
   "metadata": {},
   "outputs": [],
   "source": [
    "# Spliting the dataset - 0.2\n",
    "X_train, X_test, y_train, y_test = train_test_split(x, y, test_size=0.2, random_state=42)"
   ]
  },
  {
   "cell_type": "markdown",
   "id": "0e987db1",
   "metadata": {},
   "source": [
    "## Logistic Regression"
   ]
  },
  {
   "cell_type": "code",
   "execution_count": 89,
   "id": "d8d2789d",
   "metadata": {},
   "outputs": [
    {
     "name": "stdout",
     "output_type": "stream",
     "text": [
      "The precision of the model is: 71.9906494676956\n",
      "              precision    recall  f1-score   support\n",
      "\n",
      "           0       0.72      0.73      0.72     35565\n",
      "           1       0.73      0.71      0.72     35447\n",
      "\n",
      "    accuracy                           0.72     71012\n",
      "   macro avg       0.72      0.72      0.72     71012\n",
      "weighted avg       0.72      0.72      0.72     71012\n",
      "\n"
     ]
    }
   ],
   "source": [
    "# Training the Logistic Regression model on the Training set\n",
    "classifier_LogR = LogisticRegression()\n",
    "classifier_LogR.fit(X_train, y_train)\n",
    "\n",
    "# Predicting the Test set results\n",
    "LR_class_pred = classifier_LogR.predict(X_test)\n",
    "\n",
    "# Making the Confusion Matrix\n",
    "LR_cm = confusion_matrix(y_test, LR_class_pred)\n",
    "score_LogR = accuracy_score(y_test, LR_class_pred)\n",
    "\n",
    "# Precision of the model\n",
    "print('The precision of the model is:', (score_LogR)*100)\n",
    "\n",
    "# Classification Report\n",
    "print(classification_report(y_test, LR_class_pred))"
   ]
  },
  {
   "cell_type": "markdown",
   "id": "e66feb99",
   "metadata": {},
   "source": [
    "## Random Forest"
   ]
  },
  {
   "cell_type": "code",
   "execution_count": 159,
   "id": "b9fc192d",
   "metadata": {},
   "outputs": [
    {
     "name": "stdout",
     "output_type": "stream",
     "text": [
      "The precision of the model is: 82.14222848090125\n",
      "              precision    recall  f1-score   support\n",
      "\n",
      "           0       0.84      0.80      0.82     28486\n",
      "           1       0.81      0.84      0.82     28324\n",
      "\n",
      "    accuracy                           0.82     56810\n",
      "   macro avg       0.82      0.82      0.82     56810\n",
      "weighted avg       0.82      0.82      0.82     56810\n",
      "\n"
     ]
    }
   ],
   "source": [
    "# Training the Random Forest Classifier model on the Training set\n",
    "classifier_RFC = RandomForestClassifier()\n",
    "classifier_RFC.fit(X_train, y_train)\n",
    "\n",
    "# Predicting the Test set results\n",
    "RFC_pred = classifier_RFC.predict(X_test)\n",
    "\n",
    "# Making the Confusion Matrix\n",
    "RFC_cm = confusion_matrix(y_test, RFC_pred)\n",
    "score_RFC = accuracy_score(y_test, RFC_pred)\n",
    "\n",
    "# Precision of the model\n",
    "print('The precision of the model is:',(score_RFC)*100)\n",
    "\n",
    "# Classification Report\n",
    "print(classification_report(y_test, RFC_pred))"
   ]
  },
  {
   "cell_type": "markdown",
   "id": "9be32074",
   "metadata": {},
   "source": [
    "## XGBoost"
   ]
  },
  {
   "cell_type": "code",
   "execution_count": 157,
   "id": "0bdd5226",
   "metadata": {},
   "outputs": [
    {
     "name": "stdout",
     "output_type": "stream",
     "text": [
      "The precision of the model is: 74.05034324942793\n",
      "              precision    recall  f1-score   support\n",
      "\n",
      "           0       0.74      0.74      0.74     28486\n",
      "           1       0.74      0.74      0.74     28324\n",
      "\n",
      "    accuracy                           0.74     56810\n",
      "   macro avg       0.74      0.74      0.74     56810\n",
      "weighted avg       0.74      0.74      0.74     56810\n",
      "\n"
     ]
    }
   ],
   "source": [
    "# Training the XGBoost Classifier model on the Training set\n",
    "classifier_XGB = xgb.XGBClassifier()\n",
    "classifier_XGB.fit(X_train, y_train)\n",
    "\n",
    "# Predicting the Test set results\n",
    "XGB_pred = classifier_XGB.predict(X_test)\n",
    "\n",
    "# Making the Confusion Matrix\n",
    "XGB_cm = confusion_matrix(y_test, XGB_pred)\n",
    "score_XGB = accuracy_score(y_test, XGB_pred)\n",
    "\n",
    "# Precision of the model\n",
    "print('The precision of the model is:', (score_XGB) * 100)\n",
    "\n",
    "# Classification Report\n",
    "print(classification_report(y_test, XGB_pred))"
   ]
  },
  {
   "cell_type": "markdown",
   "id": "04f7c8bb",
   "metadata": {},
   "source": [
    "## KNN"
   ]
  },
  {
   "cell_type": "code",
   "execution_count": 87,
   "id": "cf493862",
   "metadata": {},
   "outputs": [
    {
     "name": "stdout",
     "output_type": "stream",
     "text": [
      "The precision of the model is: 76.69749024345553\n",
      "              precision    recall  f1-score   support\n",
      "\n",
      "           0       0.80      0.71      0.75     35565\n",
      "           1       0.74      0.82      0.78     35447\n",
      "\n",
      "    accuracy                           0.76     71012\n",
      "   macro avg       0.77      0.76      0.76     71012\n",
      "weighted avg       0.77      0.76      0.76     71012\n",
      "\n"
     ]
    }
   ],
   "source": [
    "# Training the KNN model on the Training set\n",
    "classifier_KNC = KNeighborsClassifier()\n",
    "classifier_KNC.fit(X_train, y_train)\n",
    "\n",
    "# Predicting the Test set results\n",
    "KNN_pred = classifier_KNC.predict(X_test)\n",
    "\n",
    "# Making the Confusion Matrix\n",
    "KNN_cm = confusion_matrix(y_test, KNN_pred)\n",
    "score_KNC = precision_score(y_test, KNN_pred, average='macro')\n",
    "\n",
    "# Precision of the model\n",
    "print('The precision of the model is:',(score_KNC)*100)\n",
    "\n",
    "# Classification Report\n",
    "print(classification_report(y_test, KNN_pred))"
   ]
  },
  {
   "cell_type": "markdown",
   "id": "6669af90",
   "metadata": {},
   "source": [
    "# Improving Classification Models Performance"
   ]
  },
  {
   "cell_type": "markdown",
   "id": "c5d90633",
   "metadata": {},
   "source": [
    "## GridSearchCV (Logistic Regression)"
   ]
  },
  {
   "cell_type": "code",
   "execution_count": 94,
   "id": "584dd06c",
   "metadata": {},
   "outputs": [
    {
     "data": {
      "text/plain": [
       "GridSearchCV(cv=5, estimator=LogisticRegression(),\n",
       "             param_grid=[{'C': [10.0, 25.0, 50.0], 'penalty': ['l1', 'l2'],\n",
       "                          'solver': ['newton-cg', 'lbfgs', 'liblinear']}],\n",
       "             scoring='accuracy')"
      ]
     },
     "execution_count": 94,
     "metadata": {},
     "output_type": "execute_result"
    }
   ],
   "source": [
    "# doing the gridSearch\n",
    "LogR_params = [{'penalty' : ['l1','l2'], # Also known as regularization. It specifies the norm of the penalty. \n",
    "                'C'       : [10.0, 25.0, 50.0], # it shows the Inverse of regularization strength. \n",
    "                'solver'  : ['newton-cg', 'lbfgs', 'liblinear'] # this selects the algorithm to use in the optimization problem.\n",
    "               }]\n",
    "\n",
    "clf_LogR = GridSearchCV(classifier_LogR, LogR_params, cv = 3, scoring='accuracy')\n",
    "\n",
    "clf_LogR.fit(X_train, y_train)"
   ]
  },
  {
   "cell_type": "code",
   "execution_count": 95,
   "id": "d0751e76",
   "metadata": {},
   "outputs": [
    {
     "name": "stdout",
     "output_type": "stream",
     "text": [
      "{'C': 50.0, 'penalty': 'l2', 'solver': 'liblinear'}\n"
     ]
    }
   ],
   "source": [
    "# showing the best parameters\n",
    "print(clf_LogR.best_params_)"
   ]
  },
  {
   "cell_type": "code",
   "execution_count": 96,
   "id": "6fca2b86",
   "metadata": {},
   "outputs": [
    {
     "name": "stdout",
     "output_type": "stream",
     "text": [
      "71.99414282877484\n"
     ]
    }
   ],
   "source": [
    "# showing the best score\n",
    "print(clf_LogR.best_score_*100)"
   ]
  },
  {
   "cell_type": "code",
   "execution_count": 99,
   "id": "c9e083bb",
   "metadata": {},
   "outputs": [
    {
     "name": "stdout",
     "output_type": "stream",
     "text": [
      "              precision    recall  f1-score   support\n",
      "\n",
      "           0       0.72      0.73      0.72     35565\n",
      "           1       0.73      0.71      0.72     35447\n",
      "\n",
      "    accuracy                           0.72     71012\n",
      "   macro avg       0.72      0.72      0.72     71012\n",
      "weighted avg       0.72      0.72      0.72     71012\n",
      "\n"
     ]
    }
   ],
   "source": [
    "# Classification Report  - Grid Search\n",
    "grid_predictions = clf_LogR.predict(X_test)\n",
    " \n",
    "# print classification report\n",
    "print(classification_report(y_test, grid_predictions))"
   ]
  },
  {
   "cell_type": "markdown",
   "id": "5d29492a",
   "metadata": {},
   "source": [
    "## GridSearchCV (Random Forest Classifier)"
   ]
  },
  {
   "cell_type": "code",
   "execution_count": 145,
   "id": "d9990fe4",
   "metadata": {},
   "outputs": [
    {
     "data": {
      "text/plain": [
       "GridSearchCV(cv=2, estimator=RandomForestClassifier(),\n",
       "             param_grid=[{'max_depth': [101], 'max_features': [1, 3]}],\n",
       "             scoring='accuracy')"
      ]
     },
     "execution_count": 145,
     "metadata": {},
     "output_type": "execute_result"
    }
   ],
   "source": [
    "# doing the gridSearch\n",
    "RFC_params = [{'max_depth': [9, 53, 101], # this is the longest path between the root node and the leaf node. It is possible to limit the depth of every tree in the random forest is goint to grow\n",
    "                'max_features': [1, 3], # It shows the number of features to consider when the model is looking for the best split.\n",
    "                'n_estimators': [100, 300], # it defines the number of trees in the forest.\n",
    "               'criterion' :['gini', 'entropy'] # Checks the quality of the split.\n",
    "               \n",
    "              }]\n",
    "\n",
    "clf_RFC = GridSearchCV(classifier_RFC, RFC_params, cv = 2, scoring='accuracy')\n",
    "\n",
    "clf_RFC.fit(X_train, y_train)"
   ]
  },
  {
   "cell_type": "code",
   "execution_count": 146,
   "id": "53e0008e",
   "metadata": {},
   "outputs": [
    {
     "name": "stdout",
     "output_type": "stream",
     "text": [
      "{'max_depth': 101, 'max_features': 3}\n"
     ]
    }
   ],
   "source": [
    "# showing the best parameters\n",
    "print(clf_RFC.best_params_)"
   ]
  },
  {
   "cell_type": "code",
   "execution_count": 147,
   "id": "cb6f0ee2",
   "metadata": {},
   "outputs": [
    {
     "name": "stdout",
     "output_type": "stream",
     "text": [
      "78.52672991955501\n"
     ]
    }
   ],
   "source": [
    "# showing the best score\n",
    "print(clf_RFC.best_score_*100)"
   ]
  },
  {
   "cell_type": "code",
   "execution_count": 139,
   "id": "0a627104",
   "metadata": {},
   "outputs": [
    {
     "name": "stdout",
     "output_type": "stream",
     "text": [
      "              precision    recall  f1-score   support\n",
      "\n",
      "           0       0.83      0.80      0.81     35565\n",
      "           1       0.81      0.84      0.82     35447\n",
      "\n",
      "    accuracy                           0.82     71012\n",
      "   macro avg       0.82      0.82      0.82     71012\n",
      "weighted avg       0.82      0.82      0.82     71012\n",
      "\n"
     ]
    }
   ],
   "source": [
    "# Classification Report  - Grid Search\n",
    "grid_predictions = clf_RFC.predict(X_test)\n",
    " \n",
    "# print classification report\n",
    "print(classification_report(y_test, grid_predictions))"
   ]
  },
  {
   "cell_type": "markdown",
   "id": "6581a3f7",
   "metadata": {},
   "source": [
    "## GridSearchCV (XGBoost)"
   ]
  },
  {
   "cell_type": "code",
   "execution_count": 104,
   "id": "4b16b2d6",
   "metadata": {},
   "outputs": [
    {
     "data": {
      "text/plain": [
       "GridSearchCV(cv=2,\n",
       "             estimator=XGBClassifier(base_score=0.5, booster='gbtree',\n",
       "                                     callbacks=None, colsample_bylevel=1,\n",
       "                                     colsample_bynode=1, colsample_bytree=1,\n",
       "                                     early_stopping_rounds=None,\n",
       "                                     enable_categorical=False, eval_metric=None,\n",
       "                                     feature_types=None, gamma=0, gpu_id=-1,\n",
       "                                     grow_policy='depthwise',\n",
       "                                     importance_type=None,\n",
       "                                     interaction_constraints='',\n",
       "                                     learning_rate=0.300000012...\n",
       "                                     max_cat_threshold=64, max_cat_to_onehot=4,\n",
       "                                     max_delta_step=0, max_depth=6,\n",
       "                                     max_leaves=0, min_child_weight=1,\n",
       "                                     missing=nan, monotone_constraints='()',\n",
       "                                     n_estimators=100, n_jobs=0,\n",
       "                                     num_parallel_tree=1, predictor='auto',\n",
       "                                     random_state=1, ...),\n",
       "             param_grid=[{'learning_rate': [0.1, 0.01, 0.001],\n",
       "                          'max_depth': [3, 6, 9], 'n_estimators': [50, 150],\n",
       "                          'reg_alpha': [0, 0.1, 0.5]}],\n",
       "             scoring='accuracy')"
      ]
     },
     "execution_count": 104,
     "metadata": {},
     "output_type": "execute_result"
    }
   ],
   "source": [
    "# Defining the parameter grid for GridSearchCV\n",
    "XGB_params = [{'max_depth': [3, 6, 9],\n",
    "               'learning_rate': [0.1, 0.01, 0.001],\n",
    "               'n_estimators': [50, 150],\n",
    "               'reg_alpha': [0, 0.1, 0.5]\n",
    "              }]\n",
    "\n",
    "# Performing GridSearchCV\n",
    "clf_XGB = GridSearchCV(classifier_XGB, XGB_params, cv=2, scoring='accuracy')\n",
    "clf_XGB.fit(X_train, y_train)"
   ]
  },
  {
   "cell_type": "code",
   "execution_count": 105,
   "id": "c95fad61",
   "metadata": {},
   "outputs": [
    {
     "name": "stdout",
     "output_type": "stream",
     "text": [
      "{'learning_rate': 0.1, 'max_depth': 9, 'n_estimators': 150, 'reg_alpha': 0.5}\n"
     ]
    }
   ],
   "source": [
    "# Showing the best parameters\n",
    "print(clf_XGB.best_params_)"
   ]
  },
  {
   "cell_type": "code",
   "execution_count": 106,
   "id": "1f2149a1",
   "metadata": {},
   "outputs": [
    {
     "name": "stdout",
     "output_type": "stream",
     "text": [
      "74.69840494944468\n"
     ]
    }
   ],
   "source": [
    "# Showing the best score\n",
    "print(clf_XGB.best_score_ * 100)"
   ]
  },
  {
   "cell_type": "code",
   "execution_count": 107,
   "id": "f954889b",
   "metadata": {},
   "outputs": [
    {
     "name": "stdout",
     "output_type": "stream",
     "text": [
      "              precision    recall  f1-score   support\n",
      "\n",
      "           0       0.75      0.75      0.75     35565\n",
      "           1       0.75      0.75      0.75     35447\n",
      "\n",
      "    accuracy                           0.75     71012\n",
      "   macro avg       0.75      0.75      0.75     71012\n",
      "weighted avg       0.75      0.75      0.75     71012\n",
      "\n"
     ]
    }
   ],
   "source": [
    "# Classification Report - Grid Search\n",
    "grid_predictions = clf_XGB.predict(X_test)\n",
    "\n",
    "# Print classification report\n",
    "print(classification_report(y_test, grid_predictions))"
   ]
  },
  {
   "cell_type": "markdown",
   "id": "bb9c92ff",
   "metadata": {},
   "source": [
    "## GridSearchCV (KNeighbors Classifier)"
   ]
  },
  {
   "cell_type": "code",
   "execution_count": 152,
   "id": "9f088f51",
   "metadata": {},
   "outputs": [
    {
     "data": {
      "text/plain": [
       "GridSearchCV(cv=2, estimator=KNeighborsClassifier(),\n",
       "             param_grid=[{'leaf_size': [7, 21], 'n_neighbors': [3, 5]}],\n",
       "             scoring='accuracy')"
      ]
     },
     "execution_count": 152,
     "metadata": {},
     "output_type": "execute_result"
    }
   ],
   "source": [
    "# doing the gridSearch\n",
    "KNC_params = [{'n_neighbors' : [3, 5], # This is the number of neighbors. For this project just odd numbers\n",
    "                'weights' : ['uniform', 'distance'], # This is used to test the contribution of members of the neighborhood via different weightings.\n",
    "                'metric' : ['minkowski', 'chebyshev'], # This is used to choose the composition of the neighborhood.\n",
    "                'leaf_size' : [7, 21], # This value can affect the memory needed to store the tree. \n",
    "                'algorithm' : ['auto', 'ball_tree', 'kd_tree', 'brute'], # This is the algorithm used to compute the nearest neighbors. \n",
    "                'p' : [1, 2] # This is the Power parameter for the Minkowski metric.                        \n",
    "              }]\n",
    "\n",
    "clf_KNC = GridSearchCV(classifier_KNC, KNC_params, cv = 2, scoring='accuracy')\n",
    "\n",
    "clf_KNC.fit(X_train, y_train)"
   ]
  },
  {
   "cell_type": "code",
   "execution_count": 153,
   "id": "4874b34f",
   "metadata": {},
   "outputs": [
    {
     "name": "stdout",
     "output_type": "stream",
     "text": [
      "{'leaf_size': 7, 'n_neighbors': 3}\n"
     ]
    }
   ],
   "source": [
    "# showing the best parameters\n",
    "print(clf_KNC.best_params_)"
   ]
  },
  {
   "cell_type": "code",
   "execution_count": 154,
   "id": "5777da0e",
   "metadata": {},
   "outputs": [
    {
     "name": "stdout",
     "output_type": "stream",
     "text": [
      "74.23471633015895\n"
     ]
    }
   ],
   "source": [
    "# showing the best score\n",
    "print(clf_KNC.best_score_*100)"
   ]
  },
  {
   "cell_type": "code",
   "execution_count": 126,
   "id": "9a060cfa",
   "metadata": {},
   "outputs": [
    {
     "name": "stdout",
     "output_type": "stream",
     "text": [
      "              precision    recall  f1-score   support\n",
      "\n",
      "           0       0.81      0.71      0.76     35565\n",
      "           1       0.74      0.83      0.79     35447\n",
      "\n",
      "    accuracy                           0.77     71012\n",
      "   macro avg       0.78      0.77      0.77     71012\n",
      "weighted avg       0.78      0.77      0.77     71012\n",
      "\n"
     ]
    }
   ],
   "source": [
    "# Classification Report  - Grid Search\n",
    "grid_predictions = clf_KNC.predict(X_test)\n",
    " \n",
    "# print classification report\n",
    "print(classification_report(y_test, grid_predictions))"
   ]
  },
  {
   "cell_type": "markdown",
   "id": "e1f72d42",
   "metadata": {},
   "source": [
    "## Summarising Performance"
   ]
  },
  {
   "cell_type": "code",
   "execution_count": 158,
   "id": "e6dfec2c",
   "metadata": {},
   "outputs": [
    {
     "name": "stdout",
     "output_type": "stream",
     "text": [
      "Accuracy of the Logistic Regression - base model:            71.9906494676956\n",
      "Accuracy of the Logistic Regression - GridSearchCV:          71.99414282877484\n",
      "Accuracy of the Random Forest Classifier - base model:       82.11406442527725\n",
      "Accuracy of the Random Forest Classifier - GridSearchCV:     78.52672991955501\n",
      "Accuracy of the XGBoost Classifier - base model:             74.05034324942793\n",
      "Accuracy of the XGBoost Classifier - GridSearchCV :          74.69840494944468\n",
      "Accuracy of the KNeighbors Classifier - base model:          76.69749024345553\n",
      "Accuracy of the KNeighbors Classifier - GridSearchCV:        74.23471633015895\n"
     ]
    }
   ],
   "source": [
    "# using print to show all the scores\n",
    "\n",
    "print(\"Accuracy of the Logistic Regression - base model:           \", score_LogR*100)\n",
    "print(\"Accuracy of the Logistic Regression - GridSearchCV:         \", clf_LogR.best_score_*100)\n",
    "\n",
    "print(\"Accuracy of the Random Forest Classifier - base model:      \", score_RFC*100)\n",
    "print(\"Accuracy of the Random Forest Classifier - GridSearchCV:    \", clf_RFC.best_score_*100)\n",
    "\n",
    "print(\"Accuracy of the XGBoost Classifier - base model:            \", score_XGB*100)\n",
    "print(\"Accuracy of the XGBoost Classifier - GridSearchCV :         \", clf_XGB.best_score_*100)\n",
    "\n",
    "print(\"Accuracy of the KNeighbors Classifier - base model:         \", score_KNC*100)\n",
    "print(\"Accuracy of the KNeighbors Classifier - GridSearchCV:       \", clf_KNC.best_score_*100)"
   ]
  },
  {
   "cell_type": "code",
   "execution_count": null,
   "id": "c6d2c8cb",
   "metadata": {},
   "outputs": [],
   "source": []
  }
 ],
 "metadata": {
  "kernelspec": {
   "display_name": "Python 3",
   "language": "python",
   "name": "python3"
  },
  "language_info": {
   "codemirror_mode": {
    "name": "ipython",
    "version": 3
   },
   "file_extension": ".py",
   "mimetype": "text/x-python",
   "name": "python",
   "nbconvert_exporter": "python",
   "pygments_lexer": "ipython3",
   "version": "3.8.5"
  }
 },
 "nbformat": 4,
 "nbformat_minor": 5
}
